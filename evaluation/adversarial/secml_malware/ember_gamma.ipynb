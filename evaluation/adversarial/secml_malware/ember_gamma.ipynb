{
 "cells": [
  {
   "cell_type": "code",
   "execution_count": 1,
   "metadata": {},
   "outputs": [],
   "source": [
    "import os\n",
    "import magic\n",
    "import numpy as np\n",
    "from secml.array import CArray\n",
    "\n",
    "from secml_malware.attack.blackbox.c_wrapper_phi import CEmberWrapperPhi\n",
    "from secml_malware.attack.blackbox.ga.c_base_genetic_engine import CGeneticAlgorithm\n",
    "from secml_malware.models.c_classifier_ember import CClassifierEmber\n",
    "from secml_malware.attack.blackbox.c_gamma_sections_evasion import CGammaSectionsEvasionProblem"
   ]
  },
  {
   "cell_type": "code",
   "execution_count": 2,
   "metadata": {},
   "outputs": [],
   "source": [
    "net = CClassifierEmber(tree_path=\"../../modules/sota/ember/parameters/ember_model.txt\")\n",
    "net = CEmberWrapperPhi(net)"
   ]
  },
  {
   "cell_type": "code",
   "execution_count": 11,
   "metadata": {},
   "outputs": [],
   "source": [
    "samples_goodware = \"../samples_goodware/\"\n",
    "samples_testset = \"../samples_testset/\"\n",
    "\n",
    "section_population, what_from_who = CGammaSectionsEvasionProblem.create_section_population_from_folder(samples_goodware, how_many=35, sections_to_extract=['.rdata', '.data', '.text'])\n",
    "\n",
    "attack = CGammaSectionsEvasionProblem(section_population, net, population_size=30, penalty_regularizer=1e-6, iterations=15, threshold=0)"
   ]
  },
  {
   "cell_type": "code",
   "execution_count": 12,
   "metadata": {},
   "outputs": [
    {
     "name": "stdout",
     "output_type": "stream",
     "text": [
      "/data/quo.vadis/data/pe.dataset/PeX86Exe/clean/f916dfd05f97fb52c71c5f3c0adb639548b451c0d91db1618394e20df8680aa1 1.108668986490172e-07\n",
      "/data/quo.vadis/data/pe.dataset/PeX86Exe/backdoor/d536c9da0ff9b846a9bbd91f54535f078496ccda6db7f081c4343838fac9c6fd 0.9999999645602727\n",
      "> Initiating an attack\n",
      "0.9999983284751466\n"
     ]
    }
   ],
   "source": [
    "X = []\n",
    "y = []\n",
    "file_names = []\n",
    "\n",
    "testset_samples = os.listdir(samples_testset)[0:2]\n",
    "l = len(testset_samples)\n",
    "for i, f in enumerate(testset_samples):\n",
    "    link = os.path.join(samples_testset, f)\n",
    "    path = magic.from_file(link).replace(\"symbolic link to `\", \"\").strip(\"'\")\n",
    "\n",
    "    mmagic = magic.from_file(path)\n",
    "    \n",
    "    if \"PE32\" in mmagic:\n",
    "        with open(path, \"rb\") as fhandle:\n",
    "            code = fhandle.read()\n",
    "    \n",
    "        x = CArray(np.frombuffer(code, dtype=np.uint8)).atleast_2d()\n",
    "        #x_features = net.extract_features(x)\n",
    "        _, confidence = net.predict(x, True)\n",
    "        y = confidence[1][0].item()\n",
    "        print(path, y)\n",
    "\n",
    "        if y > 0.5:\n",
    "            print(\"> Initiating an attack\")\n",
    "            engine = CGeneticAlgorithm(attack)\n",
    "            y_pred, adv_score, adv_ds, f_obj = engine.run(x, CArray(y))\n",
    "            print(f_obj)"
   ]
  },
  {
   "cell_type": "code",
   "execution_count": null,
   "metadata": {},
   "outputs": [],
   "source": []
  }
 ],
 "metadata": {
  "interpreter": {
   "hash": "91de73f184750a1f2f9d46c4272870f62e0e33821c2e8296e4fc8db5ab8e1b1b"
  },
  "kernelspec": {
   "display_name": "Python 3.8.12 64-bit ('3.8-dev')",
   "language": "python",
   "name": "python3"
  },
  "language_info": {
   "codemirror_mode": {
    "name": "ipython",
    "version": 3
   },
   "file_extension": ".py",
   "mimetype": "text/x-python",
   "name": "python",
   "nbconvert_exporter": "python",
   "pygments_lexer": "ipython3",
   "version": "3.8.12+"
  },
  "orig_nbformat": 4
 },
 "nbformat": 4,
 "nbformat_minor": 2
}
