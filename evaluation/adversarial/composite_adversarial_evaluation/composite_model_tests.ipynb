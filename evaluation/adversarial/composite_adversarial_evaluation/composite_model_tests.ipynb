{
 "cells": [
  {
   "cell_type": "code",
   "execution_count": 1,
   "metadata": {},
   "outputs": [
    {
     "name": "stderr",
     "output_type": "stream",
     "text": [
      "/home/dmitrijs.trizna/.pyenv/versions/3.8-dev/lib/python3.8/site-packages/xgboost/compat.py:36: FutureWarning: pandas.Int64Index is deprecated and will be removed from pandas in a future version. Use pandas.Index with the appropriate dtype instead.\n",
      "  from pandas import MultiIndex, Int64Index\n"
     ]
    }
   ],
   "source": [
    "import os\n",
    "import matplotlib.pyplot as plt\n",
    "import seaborn as sns\n",
    "sns.set()\n",
    "\n",
    "from sklearn.metrics import roc_curve, roc_auc_score, classification_report, accuracy_score\n",
    "import numpy as np\n",
    "\n",
    "import sys\n",
    "import time\n",
    "repo_root = \"/data/quo.vadis/\"\n",
    "sys.path.append(repo_root)\n",
    "from models import CompositeClassifier"
   ]
  },
  {
   "cell_type": "code",
   "execution_count": 2,
   "metadata": {},
   "outputs": [],
   "source": [
    "def get_adversarial_samples(folder):\n",
    "    fullpaths = [repo_root+folder+x for x in os.listdir(repo_root+folder)]\n",
    "    adversarial_samples = [x for x in fullpaths if not os.path.islink(x)]\n",
    "    adversarial_samples.sort()\n",
    "    return adversarial_samples"
   ]
  },
  {
   "cell_type": "code",
   "execution_count": 17,
   "metadata": {},
   "outputs": [],
   "source": [
    "ADVERSARIAL_EMULATED_SET_FOLDER = \"data/adversarial.emulated/reports_ember_5sections_10population/\"\n",
    "ADVERSARIAL_RAW_SET_FOLDER = \"data/adversarial.samples/samples_adversarial_testset_gamma_ember_sections/5/\"\n",
    "\n",
    "ADV_SAMPLES = get_adversarial_samples(ADVERSARIAL_RAW_SET_FOLDER)\n",
    "ADV_SAMPLE_HASHES = [x.split(\"/\")[-1] for x in ADV_SAMPLES]\n",
    "\n",
    "classifier = CompositeClassifier(root=repo_root, emulation_report_path=ADVERSARIAL_EMULATED_SET_FOLDER,\n",
    "                                rawpe_db_path=ADVERSARIAL_RAW_SET_FOLDER)"
   ]
  },
  {
   "cell_type": "code",
   "execution_count": 33,
   "metadata": {},
   "outputs": [],
   "source": [
    "adversarial_emulated_files = os.listdir(repo_root + ADVERSARIAL_EMULATED_SET_FOLDER)\n",
    "adversarial_reports = [x.replace(\".json\",\"\") for x in adversarial_emulated_files if x.endswith(\".json\")]\n",
    "ADV_REPORTS = [x for x in adversarial_reports if x in ADV_SAMPLE_HASHES]"
   ]
  },
  {
   "cell_type": "markdown",
   "metadata": {},
   "source": [
    "### Verifying db objects"
   ]
  },
  {
   "cell_type": "code",
   "execution_count": 25,
   "metadata": {},
   "outputs": [
    {
     "data": {
      "text/plain": [
       "'/data/quo.vadis/data/adversarial.samples/samples_adversarial_testset_gamma_ember_sections/5/00065eb186b596eea8d4dacfe971d9a00d2b35c20c06df84608f39d0d15d4dfc'"
      ]
     },
     "execution_count": 25,
     "metadata": {},
     "output_type": "execute_result"
    }
   ],
   "source": [
    "ex = ADV_SAMPLE_HASHES[1]\n",
    "classifier.rawpe_db[ex]"
   ]
  },
  {
   "cell_type": "code",
   "execution_count": 26,
   "metadata": {},
   "outputs": [
    {
     "data": {
      "text/plain": [
       "'C:\\\\Windows\\\\Installer\\\\322d3e.exe (copy)'"
      ]
     },
     "execution_count": 26,
     "metadata": {},
     "output_type": "execute_result"
    }
   ],
   "source": [
    "classifier.modules[\"filepaths\"].filepath_db[ex]"
   ]
  },
  {
   "cell_type": "code",
   "execution_count": 39,
   "metadata": {},
   "outputs": [
    {
     "data": {
      "text/plain": [
       "'/data/quo.vadis/data/adversarial.emulated/reports_ember_5sections_10population/39300879444e5a4965e53b9fd5ba6b7fce73fc7f3585364c99011147cc9897a8.json'"
      ]
     },
     "execution_count": 39,
     "metadata": {},
     "output_type": "execute_result"
    }
   ],
   "source": [
    "for ex in ADV_REPORTS:\n",
    "    classifier.modules[\"emulation\"].report_db[ex]\n",
    "classifier.modules[\"emulation\"].report_db[ex]"
   ]
  },
  {
   "cell_type": "code",
   "execution_count": 22,
   "metadata": {},
   "outputs": [
    {
     "data": {
      "text/plain": [
       "'/data/quo.vadis/data/pe.dataset/PeX86Exe/dropper/00035f0b581f15721ace866f0920ceb5ff5ec16ee4cd4a9c3628316e05564804'"
      ]
     },
     "execution_count": 22,
     "metadata": {},
     "output_type": "execute_result"
    }
   ],
   "source": [
    "# 2. ORIGINAL SAMPLES\n",
    "classifier_orig = CompositeClassifier(root=repo_root)\n",
    "classifier_orig.rawpe_db[ex]"
   ]
  },
  {
   "cell_type": "code",
   "execution_count": 23,
   "metadata": {},
   "outputs": [
    {
     "data": {
      "text/plain": [
       "'C:\\\\PROGRA~3\\\\Mozilla\\\\ixxiuyl.exe'"
      ]
     },
     "execution_count": 23,
     "metadata": {},
     "output_type": "execute_result"
    }
   ],
   "source": [
    "classifier_orig.modules[\"filepaths\"].filepath_db[ex]"
   ]
  },
  {
   "cell_type": "code",
   "execution_count": 28,
   "metadata": {},
   "outputs": [
    {
     "data": {
      "text/plain": [
       "'/data/quo.vadis/data/emulation.dataset/report_dropper/00065eb186b596eea8d4dacfe971d9a00d2b35c20c06df84608f39d0d15d4dfc.json'"
      ]
     },
     "execution_count": 28,
     "metadata": {},
     "output_type": "execute_result"
    }
   ],
   "source": [
    "classifier_orig.modules[\"emulation\"].report_db[ex]"
   ]
  },
  {
   "cell_type": "markdown",
   "metadata": {},
   "source": [
    "### All adversarial samples were successfully emulated in original case -- all of them are present in original report DB:"
   ]
  },
  {
   "cell_type": "code",
   "execution_count": 43,
   "metadata": {},
   "outputs": [],
   "source": [
    "for ex in ADV_SAMPLE_HASHES:\n",
    "    classifier_orig.modules[\"emulation\"].report_db[ex]"
   ]
  },
  {
   "cell_type": "code",
   "execution_count": null,
   "metadata": {},
   "outputs": [],
   "source": []
  }
 ],
 "metadata": {
  "interpreter": {
   "hash": "31f2aee4e71d21fbe5cf8b01ff0e069b9275f58929596ceb00d14d90e3e16cd6"
  },
  "kernelspec": {
   "display_name": "Python 3.6.8 64-bit",
   "language": "python",
   "name": "python3"
  },
  "language_info": {
   "codemirror_mode": {
    "name": "ipython",
    "version": 3
   },
   "file_extension": ".py",
   "mimetype": "text/x-python",
   "name": "python",
   "nbconvert_exporter": "python",
   "pygments_lexer": "ipython3",
   "version": "3.8.12"
  },
  "orig_nbformat": 4
 },
 "nbformat": 4,
 "nbformat_minor": 2
}
