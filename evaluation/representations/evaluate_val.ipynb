{
 "cells": [
  {
   "cell_type": "code",
   "execution_count": 1,
   "metadata": {},
   "outputs": [],
   "source": [
    "from sklearn.metrics import roc_curve, roc_auc_score, classification_report\n",
    "from sklearn.metrics import confusion_matrix, det_curve\n",
    "from sklearn.metrics import f1_score, recall_score, precision_score\n",
    "import matplotlib.pyplot as plt\n",
    "import seaborn as sns\n",
    "sns.set()\n",
    "\n",
    "from torch import Tensor\n",
    "from collections import defaultdict\n",
    "import numpy as np\n",
    "import time\n",
    "from representation_model import PENetwork, CompositeClassifierFromRepresentations\n",
    "ROOT = \"../../\"\n",
    "import sys\n",
    "sys.path.append(ROOT)\n",
    "from utils.functions import sigmoid\n",
    "from models import Filepath, Emulation\n",
    "\n",
    "dataset_folder = \"/data/quo.vadis/evaluation/representations/set_cropped_20/\"\n",
    "\n",
    "X_train = np.load(open(dataset_folder + \"Xtrain.npy\", \"rb\"))\n",
    "X_val = np.load(open(dataset_folder + \"Xval.npy\", \"rb\"))\n",
    "y_train = np.load(open(dataset_folder + \"ytrain.npy\", \"rb\"))\n",
    "y_val = np.load(open(dataset_folder + \"yval.npy\", \"rb\"))\n",
    "\n",
    "LIMIT = X_train.shape[0]"
   ]
  },
  {
   "cell_type": "code",
   "execution_count": 20,
   "metadata": {},
   "outputs": [],
   "source": [
    "def get_module_probs(model, models):\n",
    "    if model == \"ember\":\n",
    "        logits = models[model].classify_representations(Tensor(X_vals[model])).detach().numpy()\n",
    "        probs = sigmoid(logits)\n",
    "    else:\n",
    "        logits = models[model].model.classify_representations(Tensor(X_vals[model])).detach().numpy()\n",
    "        probs = sigmoid(logits[:,0])\n",
    "    return probs\n",
    "\n",
    "def fit(models, x_trains, y_train, save=False):\n",
    "    for model in models:\n",
    "        if model in [\"filepaths\", \"emulation\", \"ember\"]:\n",
    "            # TODO: no need fitting\n",
    "            continue\n",
    "        print(f\"Fitting model: {model}\", end=\" | \")\n",
    "        c1 = time.time()\n",
    "        models[model].fit(x_trains[model], y_train)\n",
    "        if save:\n",
    "            models[model].save_late_fusion_model()\n",
    "        print(f\"Took: {time.time() - c1:.2f}s\")\n",
    "\n",
    "def evaluate(models, X_vals, y_val, ax=None, threshold=0.6, print_score=True):\n",
    "    probs = {}\n",
    "    for model in models:\n",
    "        print(f\"[!] Evaluating model: {model}...\")\n",
    "        if model in [\"filepaths\", \"emulation\", \"ember\"]:\n",
    "            # TODO: -- .classify_representations() passes 128 > 1 & returns logits, need softmax()\n",
    "            probs[model] = get_module_probs(model, models)\n",
    "        else: # late fusion\n",
    "            probs[model] = models[model].predict_proba(X_vals[model])[:,1]\n",
    "        \n",
    "        preds = np.where(probs[model] > threshold, 1, 0)\n",
    "        \n",
    "        if print_score:\n",
    "            print(\"\\n\", \"=\"*6, f\"{model}\", \"=\"*6)\n",
    "            print(f\"ROC AUC score: {roc_auc_score(y_val, probs[model])}\")\n",
    "            print(f\"Classification report:\")\n",
    "            print(classification_report(y_val, preds, digits=4))\n",
    "\n",
    "    model = \"No Skill\"\n",
    "    most_common_label = np.argmax(np.bincount(y_val.astype(int)))\n",
    "    probs[model] = np.array([most_common_label for _ in range(len(y_val))], dtype=int)\n",
    "    \n",
    "    if not ax:\n",
    "        _, ax = plt.subplots(figsize=(14,6))\n",
    "    \n",
    "    for model in probs:\n",
    "        fpr, tpr, _ = roc_curve(y_val, probs[model])\n",
    "        # plot the roc curve for the model\n",
    "        linestyle = \"--\" if model == \"No Skill\" else \"solid\"\n",
    "        ax.plot(fpr, tpr, linestyle=linestyle, label=model)\n",
    "        # axis labels\n",
    "    ax.set_xlabel('False Positive Rate')\n",
    "    ax.set_ylabel('True Positive Rate')\n",
    "    _ = ax.legend()\n",
    "    return probs"
   ]
  },
  {
   "cell_type": "markdown",
   "metadata": {},
   "source": [
    "# Building Xs and modules"
   ]
  },
  {
   "cell_type": "code",
   "execution_count": 16,
   "metadata": {},
   "outputs": [
    {
     "name": "stderr",
     "output_type": "stream",
     "text": [
      "WARNING:root:[!] Loading pretrained weights for ember model from: ../../modules/sota/emberMLP/model_myPENetwork_190_epochs_acc_90/ep5-optim_adamw-lr0.001-l2reg0-dr0.5-model.torch\n",
      "WARNING:root:[!] Loading pretrained weights for filepath model from: ../../modules/filepath/pretrained/torch.model\n",
      "WARNING:root:[!] Using speakeasy emulator config from: ../../data/emulation.dataset/sample_emulation/speakeasy_config.json\n",
      "WARNING:root:[!] Loading pretrained weights for emulation model from: ../../modules/emulation/pretrained/torch.model\n",
      "WARNING:root:[!] Using speakeasy emulator config from: ../../data/emulation.dataset/sample_emulation/speakeasy_config.json\n",
      "WARNING:root:[!] Loading pretrained weights for ember model from: ../../modules/sota/emberMLP/model_myPENetwork_190_epochs_acc_90/ep5-optim_adamw-lr0.001-l2reg0-dr0.5-model.torch\n",
      "WARNING:root:[!] Loading pretrained weights for filepath model from: ../../modules/filepath/pretrained/torch.model\n",
      "WARNING:root:[!] Using speakeasy emulator config from: ../../data/emulation.dataset/sample_emulation/speakeasy_config.json\n",
      "WARNING:root:[!] Loading pretrained weights for emulation model from: ../../modules/emulation/pretrained/torch.model\n",
      "WARNING:root:[!] Loading pretrained weights for ember model from: ../../modules/sota/emberMLP/model_myPENetwork_190_epochs_acc_90/ep5-optim_adamw-lr0.001-l2reg0-dr0.5-model.torch\n",
      "WARNING:root:[!] Loading pretrained weights for filepath model from: ../../modules/filepath/pretrained/torch.model\n",
      "WARNING:root:[!] Using speakeasy emulator config from: ../../data/emulation.dataset/sample_emulation/speakeasy_config.json\n",
      "WARNING:root:[!] Loading pretrained weights for emulation model from: ../../modules/emulation/pretrained/torch.model\n"
     ]
    }
   ],
   "source": [
    "X_trains = {}\n",
    "X_vals = {}\n",
    "models = {}\n",
    "\n",
    "modulelist = [[\"ember\"], [\"filepaths\"], [\"emulation\"], \n",
    "            [\"filepaths\", \"emulation\"], [\"ember\", \"emulation\"], \n",
    "            [\"ember\", \"filepaths\"], [\"ember\", \"filepaths\", \"emulation\"]]\n",
    "\n",
    "mm = CompositeClassifierFromRepresentations(root=ROOT)\n",
    "\n",
    "for combination in [[\"ember\"], [\"emulation\"], [\"filepaths\"], [\"ember\", \"emulation\"], [\"ember\", \"filepaths\", \"emulation\"]]: #modulelist:\n",
    "    name = \" & \".join(combination)\n",
    "    if len(combination) == 1:\n",
    "        if combination[0] == \"ember\":\n",
    "            models[name] = PENetwork()\n",
    "        elif combination[0] == \"emulation\":\n",
    "            models[name] = Emulation(mm.apimap, mm.device, \n",
    "                                    emulation_report_path=mm.emulation_report_path,\n",
    "                                    speakeasy_config=mm.speakeasy_config)\n",
    "        elif combination[0] == \"filepaths\":\n",
    "            models[name] = Filepath(mm.bytes, mm.device, filepath_csv_location=mm.fielpath_csvs)\n",
    "    else:\n",
    "        models[name] = CompositeClassifierFromRepresentations(root=ROOT, \n",
    "                                                meta_model = \"MultiLayerPerceptron\",\n",
    "                                                load_meta_model = False,\n",
    "                                                mlp_hidden_layer_sizes=(128,64,32))\n",
    "    \n",
    "    X_trains[name] = mm.get_modular_x(combination, X_train)\n",
    "    X_vals[name] = mm.get_modular_x(combination, X_val)"
   ]
  },
  {
   "cell_type": "code",
   "execution_count": 17,
   "metadata": {},
   "outputs": [
    {
     "name": "stdout",
     "output_type": "stream",
     "text": [
      "Fitting model: ember & emulation | Took: 0.04s\n",
      "Fitting model: ember & filepaths & emulation | Took: 0.03s\n"
     ]
    }
   ],
   "source": [
    "fit(models, X_trains, y_train[0:LIMIT])"
   ]
  },
  {
   "cell_type": "code",
   "execution_count": 21,
   "metadata": {},
   "outputs": [
    {
     "name": "stdout",
     "output_type": "stream",
     "text": [
      "[!] Evaluating model: ember...\n",
      "\n",
      " ====== ember ======\n",
      "ROC AUC score: 0.5520833333333334\n",
      "Classification report:\n",
      "              precision    recall  f1-score   support\n",
      "\n",
      "         0.0     0.4667    0.8750    0.6087         8\n",
      "         1.0     0.8000    0.3333    0.4706        12\n",
      "\n",
      "    accuracy                         0.5500        20\n",
      "   macro avg     0.6333    0.6042    0.5396        20\n",
      "weighted avg     0.6667    0.5500    0.5258        20\n",
      "\n",
      "[!] Evaluating model: emulation...\n",
      "\n",
      " ====== emulation ======\n",
      "ROC AUC score: 0.8697916666666666\n",
      "Classification report:\n",
      "              precision    recall  f1-score   support\n",
      "\n",
      "         0.0     0.4000    1.0000    0.5714         8\n",
      "         1.0     0.0000    0.0000    0.0000        12\n",
      "\n",
      "    accuracy                         0.4000        20\n",
      "   macro avg     0.2000    0.5000    0.2857        20\n",
      "weighted avg     0.1600    0.4000    0.2286        20\n",
      "\n",
      "[!] Evaluating model: filepaths...\n",
      "\n",
      " ====== filepaths ======\n",
      "ROC AUC score: 1.0\n",
      "Classification report:\n",
      "              precision    recall  f1-score   support\n",
      "\n",
      "         0.0     0.4000    1.0000    0.5714         8\n",
      "         1.0     0.0000    0.0000    0.0000        12\n",
      "\n",
      "    accuracy                         0.4000        20\n",
      "   macro avg     0.2000    0.5000    0.2857        20\n",
      "weighted avg     0.1600    0.4000    0.2286        20\n",
      "\n",
      "[!] Evaluating model: ember & emulation...\n",
      "\n",
      " ====== ember & emulation ======\n",
      "ROC AUC score: 0.9895833333333334\n",
      "Classification report:\n",
      "              precision    recall  f1-score   support\n",
      "\n",
      "         0.0     0.8750    0.8750    0.8750         8\n",
      "         1.0     0.9167    0.9167    0.9167        12\n",
      "\n",
      "    accuracy                         0.9000        20\n",
      "   macro avg     0.8958    0.8958    0.8958        20\n",
      "weighted avg     0.9000    0.9000    0.9000        20\n",
      "\n",
      "[!] Evaluating model: ember & filepaths & emulation...\n",
      "\n",
      " ====== ember & filepaths & emulation ======\n",
      "ROC AUC score: 1.0\n",
      "Classification report:\n",
      "              precision    recall  f1-score   support\n",
      "\n",
      "         0.0     1.0000    1.0000    1.0000         8\n",
      "         1.0     1.0000    1.0000    1.0000        12\n",
      "\n",
      "    accuracy                         1.0000        20\n",
      "   macro avg     1.0000    1.0000    1.0000        20\n",
      "weighted avg     1.0000    1.0000    1.0000        20\n",
      "\n"
     ]
    },
    {
     "name": "stderr",
     "output_type": "stream",
     "text": [
      "/data/quo.vadis/_localQuoVadisPythonEnv/lib/python3.8/site-packages/sklearn/metrics/_classification.py:1327: UndefinedMetricWarning: Precision and F-score are ill-defined and being set to 0.0 in labels with no predicted samples. Use `zero_division` parameter to control this behavior.\n",
      "  _warn_prf(average, modifier, msg_start, len(result))\n",
      "/data/quo.vadis/_localQuoVadisPythonEnv/lib/python3.8/site-packages/sklearn/metrics/_classification.py:1327: UndefinedMetricWarning: Precision and F-score are ill-defined and being set to 0.0 in labels with no predicted samples. Use `zero_division` parameter to control this behavior.\n",
      "  _warn_prf(average, modifier, msg_start, len(result))\n",
      "/data/quo.vadis/_localQuoVadisPythonEnv/lib/python3.8/site-packages/sklearn/metrics/_classification.py:1327: UndefinedMetricWarning: Precision and F-score are ill-defined and being set to 0.0 in labels with no predicted samples. Use `zero_division` parameter to control this behavior.\n",
      "  _warn_prf(average, modifier, msg_start, len(result))\n",
      "/data/quo.vadis/_localQuoVadisPythonEnv/lib/python3.8/site-packages/sklearn/metrics/_classification.py:1327: UndefinedMetricWarning: Precision and F-score are ill-defined and being set to 0.0 in labels with no predicted samples. Use `zero_division` parameter to control this behavior.\n",
      "  _warn_prf(average, modifier, msg_start, len(result))\n",
      "/data/quo.vadis/_localQuoVadisPythonEnv/lib/python3.8/site-packages/sklearn/metrics/_classification.py:1327: UndefinedMetricWarning: Precision and F-score are ill-defined and being set to 0.0 in labels with no predicted samples. Use `zero_division` parameter to control this behavior.\n",
      "  _warn_prf(average, modifier, msg_start, len(result))\n",
      "/data/quo.vadis/_localQuoVadisPythonEnv/lib/python3.8/site-packages/sklearn/metrics/_classification.py:1327: UndefinedMetricWarning: Precision and F-score are ill-defined and being set to 0.0 in labels with no predicted samples. Use `zero_division` parameter to control this behavior.\n",
      "  _warn_prf(average, modifier, msg_start, len(result))\n"
     ]
    },
    {
     "data": {
      "text/plain": [
       "<matplotlib.legend.Legend at 0x7fd452874e80>"
      ]
     },
     "execution_count": 21,
     "metadata": {},
     "output_type": "execute_result"
    },
    {
     "data": {
      "image/png": "[encoded data removed]",
      "text/plain": [
       "<Figure size 1008x432 with 1 Axes>"
      ]
     },
     "metadata": {
      "needs_background": "light"
     },
     "output_type": "display_data"
    }
   ],
   "source": [
    "pp = evaluate(models, X_vals, y_val[:LIMIT])\n",
    "#plt.xlim([-0.005, 0.04])\n",
    "#plt.ylim([0.9, 1.01])\n",
    "plt.legend(loc=\"lower right\")"
   ]
  },
  {
   "cell_type": "markdown",
   "metadata": {},
   "source": [
    "# Variable thresholds"
   ]
  },
  {
   "cell_type": "code",
   "execution_count": 24,
   "metadata": {},
   "outputs": [],
   "source": [
    "def get_threshold_from_rate(thresholds, rate_array, rate):\n",
    "    index = np.where(rate_array >= rate)[0][0]\n",
    "    return thresholds[index]\n",
    "\n",
    "def get_value_from_threshold(values, thresholds, threshold):\n",
    "    thr_index = np.where(thresholds <= threshold)[0][0]\n",
    "    return values[thr_index]\n",
    "\n",
    "probs = {}\n",
    "for model in models:\n",
    "    if \"&\" not in model:\n",
    "        probs[model] = get_module_probs(model, models)\n",
    "    else:\n",
    "        probs[model] = models[model].predict_proba(X_vals[model])[:,1]\n",
    "\n",
    "fprs = {}\n",
    "fnrs = {}\n",
    "tprs = {}\n",
    "thresholds_roc = {}\n",
    "thresholds_det = {}\n",
    "\n",
    "for model in probs:\n",
    "    fprs[model], tprs[model], thresholds_roc[model] = roc_curve(y_val[:LIMIT], probs[model])\n",
    "    _, fnrs[model], thresholds_det[model] = det_curve(y_val[:LIMIT], probs[model])"
   ]
  },
  {
   "cell_type": "code",
   "execution_count": 29,
   "metadata": {},
   "outputs": [
    {
     "name": "stdout",
     "output_type": "stream",
     "text": [
      "==============================\n",
      "FPR: 0.025% | TPR:  0.00% | FNR:  0.00% | Thr.: 0.8088 | ember\n",
      "FPR: 0.025% | TPR:  0.00% | FNR:  0.00% | Thr.: 0.5157 | emulation\n",
      "FPR: 0.025% | TPR: 100.00% | FNR:  0.00% | Thr.: 0.2173 | filepaths\n",
      "FPR: 0.025% | TPR: 91.67% | FNR:  8.33% | Thr.: 0.7316 | ember & emulation\n",
      "FPR: 0.025% | TPR: 100.00% | FNR:  0.00% | Thr.: 0.0000 | ember & filepaths & emulation\n",
      "==============================\n",
      "FPR: 0.050% | TPR:  0.00% | FNR:  0.00% | Thr.: 0.8088 | ember\n",
      "FPR: 0.050% | TPR:  0.00% | FNR:  0.00% | Thr.: 0.5157 | emulation\n",
      "FPR: 0.050% | TPR: 100.00% | FNR:  0.00% | Thr.: 0.2173 | filepaths\n",
      "FPR: 0.050% | TPR: 91.67% | FNR:  8.33% | Thr.: 0.7316 | ember & emulation\n",
      "FPR: 0.050% | TPR: 100.00% | FNR:  0.00% | Thr.: 0.0000 | ember & filepaths & emulation\n",
      "==============================\n",
      "FPR: 0.075% | TPR:  0.00% | FNR:  0.00% | Thr.: 0.8088 | ember\n",
      "FPR: 0.075% | TPR:  0.00% | FNR:  0.00% | Thr.: 0.5157 | emulation\n",
      "FPR: 0.075% | TPR: 100.00% | FNR:  0.00% | Thr.: 0.2173 | filepaths\n",
      "FPR: 0.075% | TPR: 91.67% | FNR:  8.33% | Thr.: 0.7316 | ember & emulation\n",
      "FPR: 0.075% | TPR: 100.00% | FNR:  0.00% | Thr.: 0.0000 | ember & filepaths & emulation\n",
      "==============================\n",
      "FPR: 0.100% | TPR:  0.00% | FNR:  0.00% | Thr.: 0.8088 | ember\n",
      "FPR: 0.100% | TPR:  0.00% | FNR:  0.00% | Thr.: 0.5157 | emulation\n",
      "FPR: 0.100% | TPR: 100.00% | FNR:  0.00% | Thr.: 0.2173 | filepaths\n",
      "FPR: 0.100% | TPR: 91.67% | FNR:  8.33% | Thr.: 0.7316 | ember & emulation\n",
      "FPR: 0.100% | TPR: 100.00% | FNR:  0.00% | Thr.: 0.0000 | ember & filepaths & emulation\n",
      "==============================\n",
      "FPR: 0.125% | TPR:  0.00% | FNR:  0.00% | Thr.: 0.8088 | ember\n",
      "FPR: 0.125% | TPR:  0.00% | FNR:  0.00% | Thr.: 0.5157 | emulation\n",
      "FPR: 0.125% | TPR: 100.00% | FNR:  0.00% | Thr.: 0.2173 | filepaths\n",
      "FPR: 0.125% | TPR: 91.67% | FNR:  8.33% | Thr.: 0.7316 | ember & emulation\n",
      "FPR: 0.125% | TPR: 100.00% | FNR:  0.00% | Thr.: 0.0000 | ember & filepaths & emulation\n",
      "==============================\n",
      "FPR: 0.150% | TPR:  0.00% | FNR:  0.00% | Thr.: 0.8088 | ember\n",
      "FPR: 0.150% | TPR:  0.00% | FNR:  0.00% | Thr.: 0.5157 | emulation\n",
      "FPR: 0.150% | TPR: 100.00% | FNR:  0.00% | Thr.: 0.2173 | filepaths\n",
      "FPR: 0.150% | TPR: 91.67% | FNR:  8.33% | Thr.: 0.7316 | ember & emulation\n",
      "FPR: 0.150% | TPR: 100.00% | FNR:  0.00% | Thr.: 0.0000 | ember & filepaths & emulation\n",
      "==============================\n",
      "FPR: 0.175% | TPR:  0.00% | FNR:  0.00% | Thr.: 0.8088 | ember\n",
      "FPR: 0.175% | TPR:  0.00% | FNR:  0.00% | Thr.: 0.5157 | emulation\n",
      "FPR: 0.175% | TPR: 100.00% | FNR:  0.00% | Thr.: 0.2173 | filepaths\n",
      "FPR: 0.175% | TPR: 91.67% | FNR:  8.33% | Thr.: 0.7316 | ember & emulation\n",
      "FPR: 0.175% | TPR: 100.00% | FNR:  0.00% | Thr.: 0.0000 | ember & filepaths & emulation\n",
      "==============================\n",
      "FPR: 0.200% | TPR:  0.00% | FNR:  0.00% | Thr.: 0.8088 | ember\n",
      "FPR: 0.200% | TPR:  0.00% | FNR:  0.00% | Thr.: 0.5157 | emulation\n",
      "FPR: 0.200% | TPR: 100.00% | FNR:  0.00% | Thr.: 0.2173 | filepaths\n",
      "FPR: 0.200% | TPR: 91.67% | FNR:  8.33% | Thr.: 0.7316 | ember & emulation\n",
      "FPR: 0.200% | TPR: 100.00% | FNR:  0.00% | Thr.: 0.0000 | ember & filepaths & emulation\n",
      "==============================\n",
      "FPR: 0.225% | TPR:  0.00% | FNR:  0.00% | Thr.: 0.8088 | ember\n",
      "FPR: 0.225% | TPR:  0.00% | FNR:  0.00% | Thr.: 0.5157 | emulation\n",
      "FPR: 0.225% | TPR: 100.00% | FNR:  0.00% | Thr.: 0.2173 | filepaths\n",
      "FPR: 0.225% | TPR: 91.67% | FNR:  8.33% | Thr.: 0.7316 | ember & emulation\n",
      "FPR: 0.225% | TPR: 100.00% | FNR:  0.00% | Thr.: 0.0000 | ember & filepaths & emulation\n",
      "==============================\n",
      "FPR: 0.250% | TPR:  0.00% | FNR:  0.00% | Thr.: 0.8088 | ember\n",
      "FPR: 0.250% | TPR:  0.00% | FNR:  0.00% | Thr.: 0.5157 | emulation\n",
      "FPR: 0.250% | TPR: 100.00% | FNR:  0.00% | Thr.: 0.2173 | filepaths\n",
      "FPR: 0.250% | TPR: 91.67% | FNR:  8.33% | Thr.: 0.7316 | ember & emulation\n",
      "FPR: 0.250% | TPR: 100.00% | FNR:  0.00% | Thr.: 0.0000 | ember & filepaths & emulation\n",
      "==============================\n",
      "FPR: 0.275% | TPR:  0.00% | FNR:  0.00% | Thr.: 0.8088 | ember\n",
      "FPR: 0.275% | TPR:  0.00% | FNR:  0.00% | Thr.: 0.5157 | emulation\n",
      "FPR: 0.275% | TPR: 100.00% | FNR:  0.00% | Thr.: 0.2173 | filepaths\n",
      "FPR: 0.275% | TPR: 91.67% | FNR:  8.33% | Thr.: 0.7316 | ember & emulation\n",
      "FPR: 0.275% | TPR: 100.00% | FNR:  0.00% | Thr.: 0.0000 | ember & filepaths & emulation\n",
      "==============================\n",
      "FPR: 0.300% | TPR:  0.00% | FNR:  0.00% | Thr.: 0.8088 | ember\n",
      "FPR: 0.300% | TPR:  0.00% | FNR:  0.00% | Thr.: 0.5157 | emulation\n",
      "FPR: 0.300% | TPR: 100.00% | FNR:  0.00% | Thr.: 0.2173 | filepaths\n",
      "FPR: 0.300% | TPR: 91.67% | FNR:  8.33% | Thr.: 0.7316 | ember & emulation\n",
      "FPR: 0.300% | TPR: 100.00% | FNR:  0.00% | Thr.: 0.0000 | ember & filepaths & emulation\n"
     ]
    }
   ],
   "source": [
    "fixed_fpr_rates = defaultdict(list)\n",
    "for fpr_rate in list(np.arange(0.00025, 0.0031, 0.00025)):\n",
    "    print(\"===\" * 10)\n",
    "    for model in models:\n",
    "        threshold = get_threshold_from_rate(thresholds_roc[model], fprs[model], fpr_rate)\n",
    "        tpr_rate = get_value_from_threshold(tprs[model], thresholds_roc[model], threshold)\n",
    "        fnr_rate = get_value_from_threshold(fnrs[model], thresholds_det[model][::-1], threshold)\n",
    "        fixed_fpr_rates[model].append([fpr_rate, tpr_rate, fnr_rate, threshold]) \n",
    "        print(f\"FPR: {fpr_rate*100:>5.3f}% | TPR: {tpr_rate*100:>5.2f}% | FNR: {fnr_rate*100:>5.2f}% | Thr.: {threshold:>5.4f} | {model}\")"
   ]
  },
  {
   "cell_type": "code",
   "execution_count": 30,
   "metadata": {},
   "outputs": [
    {
     "data": {
      "image/png": "[encoded data removed]",
      "text/plain": [
       "<Figure size 936x504 with 2 Axes>"
      ]
     },
     "metadata": {
      "needs_background": "light"
     },
     "output_type": "display_data"
    }
   ],
   "source": [
    "# keys for y label\n",
    "keys = models.keys()\n",
    "\n",
    "# rates for x label\n",
    "fpr_rates = [np.array(fixed_fpr_rates[key])[:,0] for key in fixed_fpr_rates][0]\n",
    "fpr_rates = [np.round(x*100, 2) for x in fpr_rates]\n",
    "\n",
    "# rearrange rows, so \"all\" is last\n",
    "tpr_rates = np.vstack([np.array(fixed_fpr_rates[key])[:,1] for key in fixed_fpr_rates])\n",
    "tpr_rates = np.round(tpr_rates*100,2)\n",
    "\n",
    "fig, ax = plt.subplots(figsize=(13,7))\n",
    "ax = sns.heatmap(tpr_rates, ax = ax,\n",
    "            annot=True, fmt=\".2f\",\n",
    "            xticklabels=fpr_rates,\n",
    "            yticklabels=[x.replace(\" & \", \" &\\n\") for x in keys])\n",
    "\n",
    "ax.set_xlabel(\"False Positive rate, %\", fontsize=12)\n",
    "ax.set_ylabel(\"Modules\", fontsize=12)\n",
    "_ = ax.set_title(\"Detection rate (%) with fixed False Positive rate\", fontsize=14)\n",
    "\n",
    "#fig.savefig(\"/data/quo.vadis/img/rate_heatmap.eps\",  format='eps', dpi=600, bbox_inches='tight')"
   ]
  },
  {
   "cell_type": "code",
   "execution_count": null,
   "metadata": {},
   "outputs": [],
   "source": []
  }
 ],
 "metadata": {
  "kernelspec": {
   "display_name": "Python 3.8.10 ('_localQuoVadisPythonEnv': venv)",
   "language": "python",
   "name": "python3"
  },
  "language_info": {
   "codemirror_mode": {
    "name": "ipython",
    "version": 3
   },
   "file_extension": ".py",
   "mimetype": "text/x-python",
   "name": "python",
   "nbconvert_exporter": "python",
   "pygments_lexer": "ipython3",
   "version": "3.8.10"
  },
  "orig_nbformat": 4,
  "vscode": {
   "interpreter": {
    "hash": "46c0c3bfcffcb3ecc94866fd23d7c546453c8c8b92df26635078658822d816e0"
   }
  }
 },
 "nbformat": 4,
 "nbformat_minor": 2
}
