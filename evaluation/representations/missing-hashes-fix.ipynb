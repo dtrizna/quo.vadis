{
 "cells": [
  {
   "cell_type": "code",
   "execution_count": 6,
   "metadata": {},
   "outputs": [],
   "source": [
    "import pickle\n",
    "import numpy as np\n",
    "\n",
    "ROOT = \"../../\"\n",
    "\n",
    "train_valset_folder = ROOT + \"data/train_val_test_sets/\"\n",
    "\n",
    "X_train_hashes = pickle.load(open(f\"{train_valset_folder}/X_train.pickle.set\",\"rb\"))\n",
    "y_train = np.load(open(f\"{train_valset_folder}/y_train.arr\",\"rb\"))\n",
    "\n",
    "X_val_hashes = pickle.load(open(f\"{train_valset_folder}/X_val.pickle.set\",\"rb\"))\n",
    "y_val = np.load(open(f\"{train_valset_folder}/y_val.arr\",\"rb\"))\n",
    "\n",
    "X_val = np.load(open(\"set_full/Xval.npy\", \"rb\"))"
   ]
  },
  {
   "cell_type": "code",
   "execution_count": 2,
   "metadata": {},
   "outputs": [
    {
     "data": {
      "text/plain": [
       "(18172,)"
      ]
     },
     "execution_count": 2,
     "metadata": {},
     "output_type": "execute_result"
    }
   ],
   "source": [
    "y_val.shape"
   ]
  },
  {
   "cell_type": "code",
   "execution_count": 7,
   "metadata": {},
   "outputs": [
    {
     "data": {
      "text/plain": [
       "(18102, 384)"
      ]
     },
     "execution_count": 7,
     "metadata": {},
     "output_type": "execute_result"
    }
   ],
   "source": [
    "X_val.shape"
   ]
  },
  {
   "cell_type": "code",
   "execution_count": 7,
   "metadata": {},
   "outputs": [],
   "source": [
    "with open(\"missing-hashes-train\") as f:\n",
    "    errors = f.readlines()\n",
    "errors = [x.strip() for x in errors]\n",
    "\n",
    "y_train_new = np.delete(y_train, [X_train_hashes.index(error) for error in errors])\n",
    "np.save(open(\"set_full/ytrain.npy\", \"wb\"), y_train_new)"
   ]
  },
  {
   "cell_type": "code",
   "execution_count": 8,
   "metadata": {},
   "outputs": [],
   "source": [
    "with open(\"missing-hashes-val\") as f:\n",
    "    errors = f.readlines()\n",
    "errors = [x.strip() for x in errors]\n",
    "\n",
    "y_val_new = np.delete(y_val, [X_val_hashes.index(error) for error in errors])\n",
    "np.save(open(\"set_full/yval.npy\", \"wb\"), y_val_new)"
   ]
  },
  {
   "cell_type": "code",
   "execution_count": 10,
   "metadata": {},
   "outputs": [
    {
     "data": {
      "text/plain": [
       "(18102,)"
      ]
     },
     "execution_count": 10,
     "metadata": {},
     "output_type": "execute_result"
    }
   ],
   "source": [
    "y_val_new.shape"
   ]
  },
  {
   "cell_type": "code",
   "execution_count": null,
   "metadata": {},
   "outputs": [],
   "source": []
  }
 ],
 "metadata": {
  "kernelspec": {
   "display_name": "Python 3.8.10 ('_localQuoVadisPythonEnv': venv)",
   "language": "python",
   "name": "python3"
  },
  "language_info": {
   "codemirror_mode": {
    "name": "ipython",
    "version": 3
   },
   "file_extension": ".py",
   "mimetype": "text/x-python",
   "name": "python",
   "nbconvert_exporter": "python",
   "pygments_lexer": "ipython3",
   "version": "3.8.10"
  },
  "orig_nbformat": 4,
  "vscode": {
   "interpreter": {
    "hash": "46c0c3bfcffcb3ecc94866fd23d7c546453c8c8b92df26635078658822d816e0"
   }
  }
 },
 "nbformat": 4,
 "nbformat_minor": 2
}
