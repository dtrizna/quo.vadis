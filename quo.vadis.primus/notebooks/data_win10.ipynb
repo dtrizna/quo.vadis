{
 "cells": [
  {
   "cell_type": "code",
   "execution_count": 7,
   "metadata": {},
   "outputs": [],
   "source": [
    "# get-childitem -Path \\ -Recurse -File > FullFilesystem\n",
    "with open(\"data/win10_fullfilesystem.raw\", encoding=\"utf-16\") as f:\n",
    "    data = f.read()"
   ]
  },
  {
   "cell_type": "code",
   "execution_count": 165,
   "metadata": {},
   "outputs": [],
   "source": [
    "import re\n",
    "def parse(directory_list):\n",
    "    f = []\n",
    "    for directory_str in directory_list:\n",
    "        try:\n",
    "            working_list = directory_str.split(\"Mode                LastWriteTime         Length Name\")\n",
    "            directory = re.sub(\"\\s+\", \" \", working_list[0]).strip()\n",
    "            \n",
    "            file_list = \"\".join(working_list[1:]).strip().split(\"\\n\")[1:]\n",
    "            for i,x in enumerate(file_list):\n",
    "                if \"-a----\" not in x:\n",
    "                    file_list[i-1] = file_list[i-1] + file_list[i].strip()\n",
    "                    del file_list[i]\n",
    "            files = [directory+\"\\\\\"+x.split()[5]+\"\\n\" for x in file_list if \"-a----\" in x]\n",
    "            f.extend(files)\n",
    "\n",
    "        except Exception as ex:\n",
    "            print(ex)\n",
    "            return directory_str, f\n",
    "    return None, f\n",
    "\n",
    "directory_str, files = parse(data.split(\"Directory: \")[1:])"
   ]
  },
  {
   "cell_type": "code",
   "execution_count": 166,
   "metadata": {},
   "outputs": [
    {
     "name": "stdout",
     "output_type": "stream",
     "text": [
      "122476\n"
     ]
    }
   ],
   "source": [
    "print(len(files))"
   ]
  },
  {
   "cell_type": "code",
   "execution_count": 167,
   "metadata": {},
   "outputs": [
    {
     "data": {
      "text/plain": [
       "['C:\\\\Windows\\\\WinSxS\\\\x86_windows-defender-management-powershell_31bf3856ad364e35_10.0.16299.15_none_aa90eb795a192730\\\\MSFT_MpPreference.cdxml\\n',\n",
       " 'C:\\\\Windows\\\\WinSxS\\\\x86_windows-defender-management-powershell_31bf3856ad364e35_10.0.16299.15_none_aa90eb795a192730\\\\MSFT_MpScan.cdxml\\n',\n",
       " 'C:\\\\Windows\\\\WinSxS\\\\x86_windows-defender-management-powershell_31bf3856ad364e35_10.0.16299.15_none_aa90eb795a192730\\\\MSFT_MpSignature.cdxml\\n',\n",
       " 'C:\\\\Windows\\\\WinSxS\\\\x86_windows-defender-management-powershell_31bf3856ad364e35_10.0.16299.15_none_aa90eb795a192730\\\\MSFT_MpThreat.cdxml\\n',\n",
       " 'C:\\\\Windows\\\\WinSxS\\\\x86_windows-defender-management-powershell_31bf3856ad364e35_10.0.16299.15_none_aa90eb795a192730\\\\MSFT_MpThreatCatalog.cdxml\\n',\n",
       " 'C:\\\\Windows\\\\WinSxS\\\\x86_windows-defender-management-powershell_31bf3856ad364e35_10.0.16299.15_none_aa90eb795a192730\\\\MSFT_MpThreatDetection.cdxml\\n',\n",
       " 'C:\\\\Windows\\\\WinSxS\\\\x86_windows-defender-management-powershell_31bf3856ad364e35_10.0.16299.15_none_aa90eb795a192730\\\\MSFT_MpWDOScan.cdxml\\n',\n",
       " 'C:\\\\Windows\\\\WinSxS\\\\x86_windows.networking.vpn.resources_31bf3856ad364e35_10.0.16299.15_en-us_14e8e8696ecd6151\\\\Windows.Networking.Vpn.dll.mui\\n',\n",
       " 'C:\\\\Windows\\\\WinSxS\\\\x86_wpf-presentationhostexe_31bf3856ad364e35_10.0.16299.15_none_36c1c3bfd8e4e02d\\\\PresentationHost.exe\\n',\n",
       " 'C:\\\\Windows\\\\WinSxS\\\\x86_wpf-presentationhostproxy_31bf3856ad364e35_10.0.16299.15_none_f158a71b32961f5f\\\\PresentationHostProxy.dll\\n']"
      ]
     },
     "execution_count": 167,
     "metadata": {},
     "output_type": "execute_result"
    }
   ],
   "source": [
    "files[-10:]"
   ]
  },
  {
   "cell_type": "code",
   "execution_count": 168,
   "metadata": {},
   "outputs": [],
   "source": [
    "with open(\"data/win10_fullfilesystem.txt\", \"a+\") as f:\n",
    "    f.writelines(files)"
   ]
  },
  {
   "cell_type": "code",
   "execution_count": null,
   "metadata": {},
   "outputs": [],
   "source": []
  }
 ],
 "metadata": {
  "interpreter": {
   "hash": "34c873defd3a8992f50d66eecf6d87e388d7227e176883a0e053f6f337feb4ed"
  },
  "kernelspec": {
   "display_name": "Python 3.8.8 64-bit ('base': conda)",
   "language": "python",
   "name": "python3"
  },
  "language_info": {
   "codemirror_mode": {
    "name": "ipython",
    "version": 3
   },
   "file_extension": ".py",
   "mimetype": "text/x-python",
   "name": "python",
   "nbconvert_exporter": "python",
   "pygments_lexer": "ipython3",
   "version": "3.8.8"
  },
  "orig_nbformat": 4
 },
 "nbformat": 4,
 "nbformat_minor": 2
}
