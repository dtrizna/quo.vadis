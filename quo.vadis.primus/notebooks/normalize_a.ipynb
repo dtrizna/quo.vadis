{
 "cells": [
  {
   "cell_type": "code",
   "execution_count": 8,
   "metadata": {},
   "outputs": [
    {
     "data": {
      "text/html": [
       "<div>\n",
       "<style scoped>\n",
       "    .dataframe tbody tr th:only-of-type {\n",
       "        vertical-align: middle;\n",
       "    }\n",
       "\n",
       "    .dataframe tbody tr th {\n",
       "        vertical-align: top;\n",
       "    }\n",
       "\n",
       "    .dataframe thead th {\n",
       "        text-align: right;\n",
       "    }\n",
       "</style>\n",
       "<table border=\"1\" class=\"dataframe\">\n",
       "  <thead>\n",
       "    <tr style=\"text-align: right;\">\n",
       "      <th></th>\n",
       "      <th>x</th>\n",
       "      <th>y</th>\n",
       "    </tr>\n",
       "  </thead>\n",
       "  <tbody>\n",
       "    <tr>\n",
       "      <th>0</th>\n",
       "      <td>C:\\Program Files (x86)\\N-able Technologies\\Win...</td>\n",
       "      <td>0</td>\n",
       "    </tr>\n",
       "    <tr>\n",
       "      <th>1</th>\n",
       "      <td>C:\\Program Files (x86)\\N-able Technologies\\Win...</td>\n",
       "      <td>0</td>\n",
       "    </tr>\n",
       "    <tr>\n",
       "      <th>2</th>\n",
       "      <td>C:\\Program Files (x86)\\N-able Technologies\\Win...</td>\n",
       "      <td>0</td>\n",
       "    </tr>\n",
       "    <tr>\n",
       "      <th>3</th>\n",
       "      <td>C:\\Program Files (x86)\\N-able Technologies\\Win...</td>\n",
       "      <td>0</td>\n",
       "    </tr>\n",
       "    <tr>\n",
       "      <th>4</th>\n",
       "      <td>C:\\Program Files (x86)\\N-able Technologies\\Win...</td>\n",
       "      <td>0</td>\n",
       "    </tr>\n",
       "  </tbody>\n",
       "</table>\n",
       "</div>"
      ],
      "text/plain": [
       "                                                   x  y\n",
       "0  C:\\Program Files (x86)\\N-able Technologies\\Win...  0\n",
       "1  C:\\Program Files (x86)\\N-able Technologies\\Win...  0\n",
       "2  C:\\Program Files (x86)\\N-able Technologies\\Win...  0\n",
       "3  C:\\Program Files (x86)\\N-able Technologies\\Win...  0\n",
       "4  C:\\Program Files (x86)\\N-able Technologies\\Win...  0"
      ]
     },
     "execution_count": 8,
     "metadata": {},
     "output_type": "execute_result"
    }
   ],
   "source": [
    "import pandas as pd\n",
    "import numpy as np\n",
    "import re\n",
    "\n",
    "import sys\n",
    "sys.path.append(\"..\")\n",
    "from preprocessing.text import load_csv, normalize_path\n",
    "\n",
    "#df = pd.read_csv(\"clean.csv\")\n",
    "df = load_csv(\"../data/bohacek_20211022113102.csv\")\n",
    "df.head()"
   ]
  },
  {
   "cell_type": "code",
   "execution_count": 4,
   "metadata": {},
   "outputs": [
    {
     "name": "stdout",
     "output_type": "stream",
     "text": [
      "C:\\USERS\\CHENANHUA\\DESKTOP\\0604-CA\\888515953.VBS\n",
      "C:\\Users\\HISHAM\\AppData\\Local\\Temp\\is-JCEOL.tmp\\online.exe\n",
      "C:\\Users\\paulo\\AppData\\Local\\Temp\\is-V7RLA.tmp\\online.exe\n",
      "C:\\Users\\AZLAN SHAH\\AppData\\Local\\a8122ca9-29f3-41c9-a244-845a450479d1\\AD79.exe\n",
      "C:\\Users\\danie\\AppData\\Local\\Temp\\E793.exe\n",
      "C:\\Users\\Correos luhyi\\Documents\\Grace  Instrumental Piano.mp3.lnk\n",
      "H:\\DOWNLOAD\\2021\\CYBER_SECURITY_DISASTERS__HISTORY_OF_IT_DISASTERS_AND_HOW_TO_AVOID_THEM_IN_THE_FUTURE.SANET.ST.RAR\n",
      "\\\\harvey.school\\SysVol\\harvey.school\\Policies\\{A403FFB3-79BF-4EF3-9AAA-ABE9B2010314}\\User\\Scripts\\Logon\\logonsqlnew.vbs\n",
      "%Downloads%\\7tt_setup.exe\n",
      "C:\\Users\\Scott Russell\\AppData\\Local\\Temp\\stt95B5\\7tt_setup.exe\n"
     ]
    }
   ],
   "source": [
    "_ = df.x.iloc[5:15].apply(lambda x: print(x))"
   ]
  },
  {
   "cell_type": "markdown",
   "metadata": {},
   "source": [
    "# Normalize paths\n",
    "\n",
    "Basic stuff:\n",
    "\n",
    "1. normalize drive letters to `[drive]` and usernames to `[user]`\n",
    "2. normalize environment variables \n",
    "3. network - need to transform `\\\\<host>\\` to `[net]\\`\n",
    "4. address encoding - how to deal with?\n",
    "    - D:\\软件合集\\常用软件\\posetup.exe\n",
    "    - F:\\Ø§Ø²Ø§Ù ØªØ®ÙÙ Ø¬Ø§Ø±Ù\\ÙÙØ§Ù Ø§ÙÙØ¹Ø¨Ù\\GFXEngine.dll\n",
    "\n",
    "\n",
    "5. Address weird stuff:\n",
    "\n",
    "```\n",
    "\\\\;LanmanRedirector\\;Z:0000000000085b81\\192.168.170.2\\Main\\DCIM.lnk\n",
    "\\\\?\\volume{fa067e99-0000...\n",
    "*amsiprocess:c:\\windows\\syswow64\\mshta.exe:script\n",
    "```\n",
    "\n",
    "For these - do 1. ... 3. and then catch any path w/o `[drive]` or `[net]`"
   ]
  },
  {
   "cell_type": "code",
   "execution_count": 3,
   "metadata": {},
   "outputs": [],
   "source": [
    "# good reference:\n",
    "# https://docs.microsoft.com/en-us/windows/deployment/usmt/usmt-recognized-environment-variables\n",
    "\n",
    "map_variables = {\n",
    "    r\"%systemdrive%\": r\"[drive]\", \n",
    "    r\"%systemroot%\": r\"[drive]\\windows\",\n",
    "    r\"%windir%\": r\"[drive]\\windows\", \n",
    "    r\"%allusersprofile%\": r\"[drive]\\programdata\",\n",
    "    r\"%programdata%\": r\"[drive]\\programdata\",\n",
    "    r\"%programfiles%\": r\"[drive]\\program files\",\n",
    "    r\"%programfiles(x86)%\": r\"[drive]\\program files (x86)\",\n",
    "    r\"%programw6432%\": r\"[drive]\\program files\",\n",
    "    r\"%commonprogramfiles%\": r\"[drive]\\program files\\common files\",\n",
    "    r\"%commonprogramfiles(x86)%\": r\"[drive]\\program files (x86)\\common files\",\n",
    "    r\"%commonprogramw6432%\": r\"[drive]\\program files\\common files\",\n",
    "    r\"%commonfiles%\": r\"[drive]\\program files\\common files\",\n",
    "    r\"%profiles%\": r\"[drive]\\users\",\n",
    "    r\"%public%\": r\"[drive]\\users\\public\",\n",
    "    r\"%userprofile%\": r\"[drive]\\users\\[user]\"\n",
    "}\n",
    "# more user variables\n",
    "map_variables.update({\n",
    "    r\"%homepath%\": map_variables[r\"%userprofile%\"],\n",
    "    r\"%downloads%\": map_variables[r\"%userprofile%\"] + r\"\\downloads\",\n",
    "    r\"%desktop%\": map_variables[r\"%userprofile%\"] + r\"\\desktop\",\n",
    "    r\"%favorites%\": map_variables[r\"%userprofile%\"] + r\"\\favorites\",\n",
    "    r\"%documents%\": map_variables[r\"%userprofile%\"] + r\"\\documents\",\n",
    "    r\"%mydocuments%\": map_variables[r\"%userprofile%\"] + r\"\\documents\", # obsolete\n",
    "    r\"%personal%\": map_variables[r\"%userprofile%\"] + r\"\\documents\", # obsolete\n",
    "    r\"%localsettings%\": map_variables[r\"%userprofile%\"] + r\"\\documents\", # obsolete\n",
    "    r\"%mypictures%\": map_variables[r\"%userprofile%\"] + r\"\\documents\\my pictures\",\n",
    "    r\"%mymusic%\": map_variables[r\"%userprofile%\"] + r\"\\documents\\my music\",\n",
    "    r\"%myvideos%\": map_variables[r\"%userprofile%\"] + r\"\\documents\\my videos\",\n",
    "    r\"%localappdata%\": map_variables[r\"%userprofile%\"] + r\"\\appdata\\local\",\n",
    "    r\"%appdata%\": map_variables[r\"%userprofile%\"] + r\"\\appdata\\roaming\",\n",
    "    r\"%usertemp%\": map_variables[r\"%userprofile%\"] + r\"\\appdata\\local\\temp\",\n",
    "    r\"%temp%\": map_variables[r\"%userprofile%\"] + r\"\\appdata\\local\\temp\",\n",
    "    r\"%tmp%\": map_variables[r\"%userprofile%\"] + r\"\\appdata\\local\\temp\",\n",
    "    r\"%cache%\": map_variables[r\"%userprofile%\"] + r\"\\appdata\\local\\microsoft\\windows\\temporary internet files\"\n",
    "})    "
   ]
  },
  {
   "cell_type": "code",
   "execution_count": 4,
   "metadata": {},
   "outputs": [],
   "source": [
    "def normalize_path(path, debug=False):\n",
    "    # some paths have \"*raw:\", \"*amsiprocess:\", \"script started by \" auxiliary strings...\n",
    "    path = path.lower().replace(\"*raw:\",\"\").replace(\"*amsiprocess:\",\"\").replace(\"a script started by \",\"\").strip()\n",
    "    if debug:\n",
    "        print(path)\n",
    "\n",
    "    # normalize drive\n",
    "    # \"c:\\\\\"\" or \"c:\\\"\" will be [drive]\\\n",
    "    path = re.sub(r\"\\w:\\\\{1,2}\", r\"[drive]\\\\\", path)\n",
    "    if debug:\n",
    "        print(path)\n",
    "\n",
    "    # normalize network paths\n",
    "    # need to catch \"\\\\host\\\" to \"[net]\\\"\n",
    "    # [\\w\\d\\.\\-]+ comes from RFC 1035 and:\n",
    "    # https://docs.microsoft.com/en-us/troubleshoot/windows-server/identity/naming-conventions-for-computer-domain-site-ou#dns-host-names\n",
    "    path = re.sub(r\"\\\\\\\\[\\w\\d\\.\\-]+\\\\\", r\"[net]\\\\\", path)\n",
    "    if debug:\n",
    "        print(path)\n",
    "\n",
    "    # if starts with \\, and not \\\\ (captures not-\\\\ as \\1 group and adds), then add [drive]\n",
    "    path = re.sub(r\"^\\\\([^\\\\])\", r\"[drive]\\\\\\1\", path)\n",
    "    if debug:\n",
    "        print(path)\n",
    "    \n",
    "    # normalize user\n",
    "    default_users = [\"administrator\", \"public\", \"default\"]\n",
    "    if \"users\\\\\" in path:\n",
    "        # default user path, want to preserve them\n",
    "        if not any([True if x in path else False for x in default_users]):\n",
    "            path = re.sub(r\"users\\\\[^\\\\]+\\\\\", r\"users\\\\[user]\\\\\", path)\n",
    "    if debug:\n",
    "        print(path)\n",
    "\n",
    "    # replace environment variables with paths\n",
    "    for k,v in map_variables.items():\n",
    "        path = path.replace(k, v)\n",
    "    if debug:\n",
    "        print(path)\n",
    "\n",
    "    return path\n",
    "\n",
    "dff = df.fullpath.apply(lambda x: normalize_path(x))"
   ]
  },
  {
   "cell_type": "markdown",
   "metadata": {},
   "source": [
    "checking if there are occurences where `[user]` doesn't come after `users\\`:"
   ]
  },
  {
   "cell_type": "code",
   "execution_count": 5,
   "metadata": {},
   "outputs": [
    {
     "name": "stdout",
     "output_type": "stream",
     "text": [
      "Check if correct matches are indeed correct:\n",
      "\n",
      "[drive]\\users\\[user]\\appdata\\local\\temp\\rar$dia0.532\\script.js                                              1\n",
      "[drive]\\users\\[user]\\downloads\\hpeasystart_12_1_5139_03 (2).exe                                             1\n",
      "[drive]\\users\\[user]\\downloads\\sin confirmar 34493.crdownload                                               1\n",
      "[drive]\\users\\[user]\\appdata\\roaming\\tencent\\qqlive\\episode\\è±ç£é«å\\19. çæ¢¦ç©ºé´.url               1\n",
      "[drive]\\users\\[user]\\appdata\\roaming\\tencent\\qqliveappstore\\episode\\è±ç£é«å\\33. ä½ éæä¹é.lnk    1\n",
      "Name: fullpath, dtype: int64 \n",
      "\n",
      "Check if there are non-correct mathes:\n",
      "\n"
     ]
    },
    {
     "data": {
      "text/plain": [
       "Series([], Name: fullpath, dtype: int64)"
      ]
     },
     "execution_count": 5,
     "metadata": {},
     "output_type": "execute_result"
    }
   ],
   "source": [
    "a = dff[dff.apply(lambda x:\"[user]\" in x)]\n",
    "print(\"Check if correct matches are indeed correct:\\n\")\n",
    "print(a.value_counts()[-5:],\"\\n\")\n",
    "\n",
    "print(\"Check if there are non-correct mathes:\\n\")\n",
    "a[a.apply(lambda x: \"users\\\\[user]\" not in x)].value_counts()[-20:]"
   ]
  },
  {
   "cell_type": "markdown",
   "metadata": {},
   "source": [
    "checking if only reasonable strings left where `[drive]` is not in the beginning:"
   ]
  },
  {
   "cell_type": "code",
   "execution_count": 6,
   "metadata": {},
   "outputs": [
    {
     "name": "stdout",
     "output_type": "stream",
     "text": [
      "Check if correct matches are indeed correct:\n",
      "\n",
      "[drive]\\program files (x86)\\real\\realplayer\\realplay_mountpoints.exe                                                         1\n",
      "[drive]\\users\\[user]\\desktop\\salud mental y bienestarpsicologico\\carpeta de recursos generales de la unidad -20211009.zip    1\n",
      "[drive]\\users\\[user]\\appdata\\local\\temp\\3vhid2pn.uxs\\zen_executerunscript_11800_637666002816863581.vbs                       1\n",
      "[drive]\\users\\[user]\\onedrive\\documents\\mes_drivers_3.0.4.exe:script                                                         1\n",
      "[drive]\\users\\[user]\\appdata\\roaming\\tencent\\qqliveappstore\\episode\\è±ç£é«å\\33. ä½ éæä¹é.lnk                     1\n",
      "Name: fullpath, dtype: int64 \n",
      "\n",
      "Check if there are non-correct mathes:\n",
      "\n"
     ]
    },
    {
     "data": {
      "text/plain": [
       "\\\\;prlminirdr\\;[drive]\\mac\\no name\\â \\-__--__---__---__--__---__--__---__--___--__---__--__---_--.{772f7fa4-513d-4a26-8a25-02f6a8919a59}    1\n",
       "\\\\;vboxminirdr\\;[drive]\\vboxsrv\\brenly\\autorun.inf                                                                                          1\n",
       "Name: fullpath, dtype: int64"
      ]
     },
     "execution_count": 6,
     "metadata": {},
     "output_type": "execute_result"
    }
   ],
   "source": [
    "a = dff[dff.apply(lambda x:\"[drive]\" in x)]\n",
    "print(\"Check if correct matches are indeed correct:\\n\")\n",
    "print(a.value_counts()[-5:],\"\\n\")\n",
    "\n",
    "print(\"Check if there are non-correct mathes:\\n\")\n",
    "a[a.apply(lambda x: x[0:7] != \"[drive]\")].value_counts()[-20:]"
   ]
  },
  {
   "cell_type": "markdown",
   "metadata": {},
   "source": [
    "same for `[net]` - no weird parsings:"
   ]
  },
  {
   "cell_type": "code",
   "execution_count": 7,
   "metadata": {},
   "outputs": [
    {
     "name": "stdout",
     "output_type": "stream",
     "text": [
      "Check if correct matches are indeed correct:\n",
      "\n",
      "[net]\\jimch_live\\hrf_m02.fmx.lnk                                                                                                    1\n",
      "[net]\\sistemi\\profis3\\prog32\\ivt21scrivt.exe                                                                                        1\n",
      "[net]\\compartido legal tributario\\manual de uso marca cocha - somos progreso\\manual de uso marca cocha - somos progreso copy.lnk    1\n",
      "[net]\\bckp\\aguirrec\\machado\\machador\\desktop\\driv 3\\drive.lnk                                                                       1\n",
      "[net]\\åæ¸¡ã\\éçºãçæââå¿ç¨æè¡\\paraall_2kw\\paraall_2kwbase.exe                                                   1\n",
      "Name: fullpath, dtype: int64 \n",
      "\n",
      "Check if there are non-correct mathes:\n",
      "\n"
     ]
    },
    {
     "data": {
      "text/plain": [
       "Series([], Name: fullpath, dtype: int64)"
      ]
     },
     "execution_count": 7,
     "metadata": {},
     "output_type": "execute_result"
    }
   ],
   "source": [
    "a = dff[dff.apply(lambda x:\"[net]\" in x)]\n",
    "print(\"Check if correct matches are indeed correct:\\n\")\n",
    "print(a.value_counts()[-5:],\"\\n\")\n",
    "\n",
    "print(\"Check if there are non-correct mathes:\\n\")\n",
    "a[a.apply(lambda x: x[0:5] != \"[net]\")].value_counts()[-20:]"
   ]
  },
  {
   "cell_type": "markdown",
   "metadata": {},
   "source": [
    "check if environment variables are substituted correctly - filter all presumably env values with `%pattern%` - out of those left none acutally represents env variable:"
   ]
  },
  {
   "cell_type": "code",
   "execution_count": 8,
   "metadata": {},
   "outputs": [
    {
     "data": {
      "text/plain": [
       "[drive]\\users\\administrator\\appdata\\local\\microsoft\\windows\\temporary internet files\\content.ie5\\qngcdfdl\\%cf%f2%c8õ¿%fbô¶%b3ì¿%d8%d6%c6%c8%ed%bc%fe@5552156_375084[1].exe    12\n",
       "[drive]\\è¿\n",
       "é·ä¸è½½\\%e6%8b%bc%e5%a4%9a%e5%a4%9a@2220_199.exe|>[upx]                                                                                                           5\n",
       "[drive]\\users\\[user]\\appdata\\local\\microsoft\\windows\\temporary internet files\\content.ie5\\74hvglnm\\%d6õ¼%ab%bd%e2%c2%eb@5850403_198965[1].exe                                  1\n",
       "[drive]\\%programas%\\keytest + serial\\keyboard-test-30.exe                                                                                                                      1\n",
       "Name: fullpath, dtype: int64"
      ]
     },
     "execution_count": 8,
     "metadata": {},
     "output_type": "execute_result"
    }
   ],
   "source": [
    "dff[dff.str.contains(r\"%[a-z]+%\")].value_counts()"
   ]
  },
  {
   "cell_type": "markdown",
   "metadata": {},
   "source": [
    "# Paths failed to parse"
   ]
  },
  {
   "cell_type": "code",
   "execution_count": 9,
   "metadata": {},
   "outputs": [
    {
     "name": "stdout",
     "output_type": "stream",
     "text": [
      "Ratio of not parsed lines: 1.1999 %\n"
     ]
    }
   ],
   "source": [
    "dff_notparsed = dff[(~dff.str.contains(\"[net]\",regex=False)) & (~dff.str.contains(\"[drive]\",regex=False))]\n",
    "print(f\"Ratio of not parsed lines: {dff_notparsed.shape[0]*100/dff.shape[0]:.4f} %\")"
   ]
  },
  {
   "cell_type": "code",
   "execution_count": 10,
   "metadata": {},
   "outputs": [
    {
     "name": "stdout",
     "output_type": "stream",
     "text": [
      "mail\\inbox\\<subj: lanpan 18 - nmdc daily report on 10.06.2021>\\dailyreport_supportcraft_rev1 10.06.2021.xlsm\n",
      "surat\\kotak masuk\\<subj: fix nani hariyanti 0 banjarmasin kaltengsel rs6 ld1926700001>\\simulasi rsc  c1 dan c2 (v9)_nani h.xlsm\n",
      "surat\\kotak masuk\\<subj: fix nani hariyanti 0 banjarmasin kaltengsel rs6 ld1926700001>\\simulasi rsc  c1 dan c2 (v9)_nani h.xlsm\n",
      "edc\\idp\\400000\\$\\400000\\14800\n",
      "1f14\\idp\\140000000\\758000\n",
      "mail\\inbox\\<subj: lanpan 22 - dmr 10/06/2021>\\dailyreport_supportcraft (3) 10.06.2021.xlsm\n",
      "5d40\\idp\\140000000\\$\\140000000\\48f200\n",
      "mail\\indbakke\\<subj: opdatering af lpo normsy regnearket.>\\lponormsy2021-2.xlsm\n",
      "email\\caixa de entrada\\<subj: fw: resultado - one page / ranking lp / painel produtividade - mai/2021 - db: 31/05 (fechamento parcial)>\\one_page_rno_v2.xlsm\n",
      "email\\caixa de entrada\\<subj: sample approval - usinagem jj>\\attachment 4.6.2_n2580-1_supplier_declaration_2019-05-07.xlsm\n"
     ]
    }
   ],
   "source": [
    "_ = dff_notparsed.iloc[0:10].apply(lambda x: print(x))"
   ]
  },
  {
   "cell_type": "markdown",
   "metadata": {},
   "source": [
    "about 17% of those are mailing attachments having `<subj` within:"
   ]
  },
  {
   "cell_type": "code",
   "execution_count": 11,
   "metadata": {},
   "outputs": [
    {
     "name": "stdout",
     "output_type": "stream",
     "text": [
      "552\n"
     ]
    },
    {
     "data": {
      "text/plain": [
       "0.1727699530516432"
      ]
     },
     "execution_count": 11,
     "metadata": {},
     "output_type": "execute_result"
    }
   ],
   "source": [
    "print(dff_notparsed.str.contains(\"<subj[^>]+>\", regex=True).sum())\n",
    "dff_notparsed.str.contains(\"<subj[^>]+>\", regex=True).sum()/dff_notparsed.shape[0]"
   ]
  },
  {
   "cell_type": "code",
   "execution_count": 12,
   "metadata": {},
   "outputs": [
    {
     "name": "stdout",
     "output_type": "stream",
     "text": [
      "edc\\idp\\400000\\$\\400000\\14800\n",
      "1f14\\idp\\140000000\\758000\n",
      "5d40\\idp\\140000000\\$\\140000000\\48f200\n",
      "1bb4\\idp\\400000\\$\\400000\\b6a00\n",
      "1974\\idp\\400000\\$\\400000\\3668e0\n",
      "\\\\;lanmanredirector\\;z:00000000abd23489\\gmcvo1\\company\\personnel\\staff timesheets\\mike\\april2021.xlsm\n",
      "8f8\\idp\\400000\\$\\400000\\18a00\n",
      "\\\\?\\volume{fa067e99-0000-0000-0000-100000000000}\\patchâ´s - seriales - activaciones\\izotope ozone\\izotope rx3\\izotope_rx_3_advanced_3_02.exe\n",
      "5ec\\idp\\400000\\1b000\n",
      "\\\\;lanmanredirector\\;x:000000000001e7db\\server01\\x-drive\\folder u x\\folder u\\eng0essam\\eng-essam\\ø§ø³øªùø§ø±ø©ø§ùøªø³ø¬ùù.one.lnk\n"
     ]
    }
   ],
   "source": [
    "_ = dff_notparsed[~dff_notparsed.str.contains(\"<subj[^>]+>\", regex=True)].iloc[0:10].apply(lambda x: print(x))"
   ]
  },
  {
   "cell_type": "markdown",
   "metadata": {},
   "source": [
    "more than half has some weird `idp` string pattern, e.g. `\\idp\\400000\\$\\400000\\b6a00`:"
   ]
  },
  {
   "cell_type": "code",
   "execution_count": 13,
   "metadata": {},
   "outputs": [
    {
     "name": "stdout",
     "output_type": "stream",
     "text": [
      "1702\n"
     ]
    },
    {
     "data": {
      "text/plain": [
       "0.5327073552425665"
      ]
     },
     "execution_count": 13,
     "metadata": {},
     "output_type": "execute_result"
    }
   ],
   "source": [
    "print(dff_notparsed.str.contains(\"idp\", regex=False).sum())\n",
    "dff_notparsed.str.contains(\"idp\", regex=False).sum()/dff_notparsed.shape[0]"
   ]
  },
  {
   "cell_type": "code",
   "execution_count": 14,
   "metadata": {},
   "outputs": [
    {
     "name": "stdout",
     "output_type": "stream",
     "text": [
      "\\\\;lanmanredirector\\;z:00000000abd23489\\gmcvo1\\company\\personnel\\staff timesheets\\mike\\april2021.xlsm\n",
      "\\\\?\\volume{fa067e99-0000-0000-0000-100000000000}\\patchâ´s - seriales - activaciones\\izotope ozone\\izotope rx3\\izotope_rx_3_advanced_3_02.exe\n",
      "\\\\;lanmanredirector\\;x:000000000001e7db\\server01\\x-drive\\folder u x\\folder u\\eng0essam\\eng-essam\\ø§ø³øªùø§ø±ø©ø§ùøªø³ø¬ùù.one.lnk\n",
      "\\\\;lanmanredirector\\;v:0000000003afa3ad\\ser-dell234tt\\shdoc\\7_kinhdoanh\\bd 21\\tb lop 6\\tb-lop 6_fin.xls\n",
      "\\\\?\\volume{82679eb9-ac2a-11eb-9d6f-84c5a6bee023}\\kellys files\\2\\kellymcclure\\documents\\my documents\\default kcssetup.exe\n",
      "\\\\;lanmanredirector\\;z:000000001ec8d3b3\\servidor\\datos\\autorun.inf\n",
      "\\\\?\\volume{5e570b5a-ca2e-11eb-9f4e-c89cdcce3778}\\setup.exe,\n",
      "prace_s_cisly.zip|>prace_s_cisly.zip#2877262169|>prace s cisly\\prace s cisly\\bin\\debug\\prace s cisly.exe\n",
      "odchozã­ e-mail 'yoink' od: \"sebesta.marek2004@gmail.com\" <sebesta.marek2004@gmail.com>, komu: \"å ebesta,_marek_frantiå¡ek\" <sebestam.itb20@vsps-su.cz>|>prace_s_cisly.zip#2877262169|>prace s cisly\\prace s cisly\\bin\\debug\\prace s cisly.exe\n",
      "\\\\;lanmanredirector\\;z:0000000000036d08\\192.168.7.34\\databasemant$\\upm\\imu unit shu\\autorun.inf\n"
     ]
    }
   ],
   "source": [
    "_ = dff_notparsed[\n",
    "        (~dff_notparsed.str.contains(r\"<subj[^>]+>\", regex=True)) & \n",
    "        (~dff_notparsed.str.contains(\"idp\", regex=False))\n",
    "    ].iloc[0:10].apply(lambda x: print(x))"
   ]
  },
  {
   "cell_type": "markdown",
   "metadata": {},
   "source": [
    "about quarter has weird path representation like `V:0000000003afa3ad\\ser-dell234tt\\shdoc\\7_KinhDoanh\\BD 21\\TB LOP 6\\TB-LOP 6_Fin.xls`"
   ]
  },
  {
   "cell_type": "code",
   "execution_count": 15,
   "metadata": {},
   "outputs": [
    {
     "name": "stdout",
     "output_type": "stream",
     "text": [
      "780\n"
     ]
    },
    {
     "data": {
      "text/plain": [
       "0.24413145539906103"
      ]
     },
     "execution_count": 15,
     "metadata": {},
     "output_type": "execute_result"
    }
   ],
   "source": [
    "print(dff_notparsed.str.contains(r\"\\w:0000\").sum())\n",
    "dff_notparsed.str.contains(r\"\\w:0000\").sum()/dff_notparsed.shape[0]"
   ]
  },
  {
   "cell_type": "code",
   "execution_count": 16,
   "metadata": {},
   "outputs": [
    {
     "name": "stdout",
     "output_type": "stream",
     "text": [
      "(161,)\n",
      "\\\\?\\volume{fa067e99-0000-0000-0000-100000000000}\\patchâ´s - seriales - activaciones\\izotope ozone\\izotope rx3\\izotope_rx_3_advanced_3_02.exe\n",
      "\\\\?\\volume{82679eb9-ac2a-11eb-9d6f-84c5a6bee023}\\kellys files\\2\\kellymcclure\\documents\\my documents\\default kcssetup.exe\n",
      "\\\\?\\volume{5e570b5a-ca2e-11eb-9f4e-c89cdcce3778}\\setup.exe,\n",
      "prace_s_cisly.zip|>prace_s_cisly.zip#2877262169|>prace s cisly\\prace s cisly\\bin\\debug\\prace s cisly.exe\n",
      "odchozã­ e-mail 'yoink' od: \"sebesta.marek2004@gmail.com\" <sebesta.marek2004@gmail.com>, komu: \"å ebesta,_marek_frantiå¡ek\" <sebestam.itb20@vsps-su.cz>|>prace_s_cisly.zip#2877262169|>prace s cisly\\prace s cisly\\bin\\debug\\prace s cisly.exe\n",
      "ðñð¾ð´ññð°ñ ð¿ð¾ññð° 'fwd: ðð°ñðð°ð± + ððµð½ðµñð°ñð¾ññ ñ ð±ðµð»ñð¼ ññð¼ð¾ð¼' ðñ: mike sazonov <msazonov@nau-ra.ru>, ðð¾ð¼ñ: ðð½ð´ñðµð¹ ðð»ð°ñð¾ð² <andru112@mail.ru>|>2zhilin.zip#274693674|>2zhilin\\generator_with_noise\\generator.exe\n",
      "incoming email 're: fwd: dn100 card reader issue' from: ahmed javed <ajaved@innovative-pk.com>, to: anazaqat@innovative-pk.com, asamad@innovative-pk.com,ahussain03@innovative-pk.com, mmughal@innovative-pk.com,aburhan@innovative-pk.com, araza04@innovative-pk.c|>probase_c_secure_motorized_card_reader_smcr__1_0_31_2.zip#834341923|>cd1\\cmd\\fpmenu.exe\n",
      "incoming email 'fwd: dn100 card reader issue' from: ahmed javed <ajaved@innovative-pk.com>, to: anazaqat@innovative-pk.com, asamad@innovative-pk.com,ahussain03@innovative-pk.com, mmughal@innovative-pk.com,aburhan@innovative-pk.com, araza04@innovative-pk.com,m|>probase_c_secure_motorized_card_reader_smcr__1_0_30_2.zip#834341923|>cd1\\cmd\\fpmenu.exe\n",
      "bejã¶vå levã©l 'av scale app - nfc kapcsolat' feladã³: jã¡nos_zsolt <janos.zsolt@agrovir.hu>, cã­mzett: mihã¡ly_szabã³ <mihaly.szabo@moon42.com>,bence_tã³th <bence.toth@moon42.com>,sasvã¡ri_tamã¡s <sasvarit@idsyst.hu>|>scale app.zip#537161870|>scale app\\avscale.exe\n",
      "mail\\entrant\\<no subject>\\planning fermeture a2 v3.xlsm\n"
     ]
    }
   ],
   "source": [
    "c = dff_notparsed[\n",
    "        (~dff_notparsed.str.contains(\"<subj[^>]+>\", regex=True)) & \n",
    "        (~dff_notparsed.str.contains(\"idp\", regex=False)) &\n",
    "        (~dff_notparsed.str.contains(r\"\\w:0000\"))\n",
    "    ]\n",
    "print(c.shape)\n",
    "_ = c.iloc[0:10].apply(lambda x: print(x))"
   ]
  },
  {
   "cell_type": "markdown",
   "metadata": {},
   "source": [
    "some part of files is found withing shadow copies, e.g. `\\\\?\\Volume{614d36cf-0000-0000-0000-10f915000000}\\New folder`"
   ]
  },
  {
   "cell_type": "code",
   "execution_count": 17,
   "metadata": {},
   "outputs": [
    {
     "name": "stdout",
     "output_type": "stream",
     "text": [
      "55\n"
     ]
    },
    {
     "data": {
      "text/plain": [
       "0.017214397496087636"
      ]
     },
     "execution_count": 17,
     "metadata": {},
     "output_type": "execute_result"
    }
   ],
   "source": [
    "print(c.str.contains(r\"volume\\{[a-f0-9\\-]+\\}\").sum())\n",
    "c.str.contains(r\"volume\\{[a-f0-9\\-]+\\}\").sum()/dff_notparsed.shape[0]"
   ]
  },
  {
   "cell_type": "markdown",
   "metadata": {},
   "source": [
    "the others left are with weird encodings:"
   ]
  },
  {
   "cell_type": "code",
   "execution_count": 18,
   "metadata": {},
   "outputs": [
    {
     "name": "stdout",
     "output_type": "stream",
     "text": [
      "(106,)\n",
      "prace_s_cisly.zip|>prace_s_cisly.zip#2877262169|>prace s cisly\\prace s cisly\\bin\\debug\\prace s cisly.exe\n",
      "odchozã­ e-mail 'yoink' od: \"sebesta.marek2004@gmail.com\" <sebesta.marek2004@gmail.com>, komu: \"å ebesta,_marek_frantiå¡ek\" <sebestam.itb20@vsps-su.cz>|>prace_s_cisly.zip#2877262169|>prace s cisly\\prace s cisly\\bin\\debug\\prace s cisly.exe\n",
      "ðñð¾ð´ññð°ñ ð¿ð¾ññð° 'fwd: ðð°ñðð°ð± + ððµð½ðµñð°ñð¾ññ ñ ð±ðµð»ñð¼ ññð¼ð¾ð¼' ðñ: mike sazonov <msazonov@nau-ra.ru>, ðð¾ð¼ñ: ðð½ð´ñðµð¹ ðð»ð°ñð¾ð² <andru112@mail.ru>|>2zhilin.zip#274693674|>2zhilin\\generator_with_noise\\generator.exe\n",
      "incoming email 're: fwd: dn100 card reader issue' from: ahmed javed <ajaved@innovative-pk.com>, to: anazaqat@innovative-pk.com, asamad@innovative-pk.com,ahussain03@innovative-pk.com, mmughal@innovative-pk.com,aburhan@innovative-pk.com, araza04@innovative-pk.c|>probase_c_secure_motorized_card_reader_smcr__1_0_31_2.zip#834341923|>cd1\\cmd\\fpmenu.exe\n",
      "incoming email 'fwd: dn100 card reader issue' from: ahmed javed <ajaved@innovative-pk.com>, to: anazaqat@innovative-pk.com, asamad@innovative-pk.com,ahussain03@innovative-pk.com, mmughal@innovative-pk.com,aburhan@innovative-pk.com, araza04@innovative-pk.com,m|>probase_c_secure_motorized_card_reader_smcr__1_0_30_2.zip#834341923|>cd1\\cmd\\fpmenu.exe\n",
      "bejã¶vå levã©l 'av scale app - nfc kapcsolat' feladã³: jã¡nos_zsolt <janos.zsolt@agrovir.hu>, cã­mzett: mihã¡ly_szabã³ <mihaly.szabo@moon42.com>,bence_tã³th <bence.toth@moon42.com>,sasvã¡ri_tamã¡s <sasvarit@idsyst.hu>|>scale app.zip#537161870|>scale app\\avscale.exe\n",
      "mail\\entrant\\<no subject>\\planning fermeture a2 v3.xlsm\n",
      "å³åºé»å­éµä»¶ 'fw: wcsa rate sheet june 10' å¯ä»¶äººï¼ \"bon voyage taipei - mr.cliff lin/ deputy general manager\" <cliff-tpe@bvlogisticsinc.com.tw>, æ¶ä»¶äººï¼ \"'bon voyage taipei - mr. julian chu / operation dept. - documentation \\(mexico, wcca, wcsa, caribbean trades\\)'\" <jul\n",
      "\\\\;ncfsd\\cscidc\\sys_data\\thuno\\taichinh\\so phu ngan hang\\so phu ngan hang\\bidv - tk 14156\\2021\\t6-2021\\8 6 2021.xls\n",
      "\\\\caixasãnia-pc\\auttar\\bxmlm.lnk\n"
     ]
    }
   ],
   "source": [
    "d = dff_notparsed[\n",
    "        (~dff_notparsed.str.contains(\"<subj[^>]+>\", regex=True)) & \n",
    "        (~dff_notparsed.str.contains(\"idp\", regex=False)) &\n",
    "        (~dff_notparsed.str.contains(r\"\\w:0000\")) &\n",
    "        (~dff_notparsed.str.contains(r\"volume\\{[a-f0-9\\-]+\\}\"))\n",
    "    ]\n",
    "print(d.shape)\n",
    "_ = d.iloc[0:10].apply(lambda x: print(x))"
   ]
  },
  {
   "cell_type": "code",
   "execution_count": 6,
   "metadata": {},
   "outputs": [],
   "source": [
    "#d.to_csv(\"not_parsed.csv\", index=False)\n",
    "\n",
    "def normalize_path(path, debug=False):\n",
    "    # some paths have \"*raw:\", \"*amsiprocess:\", \"script started by \" auxiliary strings...\n",
    "    path = path.lower().replace(\"*raw:\",\"\").replace(\"*amsiprocess:\",\"\").replace(\"a script started by \",\"\").strip()\n",
    "    if debug:\n",
    "        print(path)\n",
    "\n",
    "    # normalize drive\n",
    "    # \"c:\\\\\"\" or \"c:\\\"\" will be [drive]\\\n",
    "    path = re.sub(r\"\\w:\\\\{1,2}\", r\"[drive]\\\\\", path)\n",
    "    if debug:\n",
    "        print(path)\n",
    "\n",
    "    # normalize network paths\n",
    "    # need to catch \"\\\\host\\\" to \"[net]\\\"\n",
    "    # [\\w\\d\\.\\-]+ comes from RFC 1035 and:\n",
    "    # https://docs.microsoft.com/en-us/troubleshoot/windows-server/identity/naming-conventions-for-computer-domain-site-ou#dns-host-names\n",
    "    path = re.sub(r\"\\\\\\\\[\\w\\d\\.\\-]+\\\\\", r\"[net]\\\\\", path)\n",
    "    if debug:\n",
    "        print(path)\n",
    "\n",
    "    # if starts with \\, and not \\\\ (captures not-\\\\ as \\1 group and adds), then add [drive]\n",
    "    path = re.sub(r\"^\\\\([^\\\\])\", r\"[drive]\\\\\\1\", path)\n",
    "    if debug:\n",
    "        print(path)\n",
    "    \n",
    "    # normalize user\n",
    "    default_users = [\"administrator\", \"public\", \"default\"]\n",
    "    if \"users\\\\\" in path:\n",
    "        # default user path, want to preserve them\n",
    "        if not any([True if x in path else False for x in default_users]):\n",
    "            path = re.sub(r\"users\\\\[^\\\\]+\\\\\", r\"users\\\\[user]\\\\\", path)\n",
    "    if debug:\n",
    "        print(path)\n",
    "\n",
    "    # replace environment variables with paths\n",
    "    for k,v in map_variables.items():\n",
    "        path = path.replace(k, v)\n",
    "    if debug:\n",
    "        print(path)\n",
    "\n",
    "    return path"
   ]
  },
  {
   "cell_type": "code",
   "execution_count": 9,
   "metadata": {},
   "outputs": [],
   "source": [
    "#dff = df.fullpath.apply(lambda x: normalize_path(x))\n",
    "dff = df.x.apply(lambda x: normalize_path(x))"
   ]
  },
  {
   "cell_type": "code",
   "execution_count": 31,
   "metadata": {},
   "outputs": [
    {
     "name": "stdout",
     "output_type": "stream",
     "text": [
      "[net]\\sysvol\\harvey.school\\policies\\{a403ffb3-79bf-4ef3-9aaa-abe9b2010314}\\user\\scripts\\logon\\logonsqlnew.vbs\n",
      "[net]\\korgun\\kgshop.exe\n",
      "[net]\\company\\personnel\\staff timesheets\\mike\\april2021.xlsm\n",
      "[net]\\x-drive\\folder u x\\folder u\\eng0essam\\eng-essam\\ø§ø³øªùø§ø±ø©ø§ùøªø³ø¬ùù.one.lnk\n",
      "[net]\\shdoc\\7_kinhdoanh\\bd 21\\tb lop 6\\tb-lop 6_fin.xls\n",
      "[net]\\01-quanlydonhang\\foster-diep-2112.rar\n",
      "[net]\\netlogon\\ci-sign\\ci-sign-net.vbs\n"
     ]
    }
   ],
   "source": [
    "_ = [print(x) for x in dff.iloc[5:1500] if \"[net]\" in x][0:5]"
   ]
  },
  {
   "cell_type": "markdown",
   "metadata": {},
   "source": [
    "playing with `utf-8` encoding, how to represent strings as list of byte integers:"
   ]
  },
  {
   "cell_type": "code",
   "execution_count": 338,
   "metadata": {},
   "outputs": [
    {
     "data": {
      "text/plain": [
       "b'\\\\\\\\;ncfsd\\\\cscidc\\\\sys_data\\\\thuno\\\\taichinh\\\\so phu ngan hang\\\\so phu ngan hang\\\\bidv - tk 14156\\\\2021\\\\t6-2021\\\\8 6 2021.xls'"
      ]
     },
     "execution_count": 338,
     "metadata": {},
     "output_type": "execute_result"
    }
   ],
   "source": [
    "ts = d.apply(lambda x: x.encode(\"utf-8\", \"ignore\")).iloc[19]\n",
    "ts"
   ]
  },
  {
   "cell_type": "code",
   "execution_count": 341,
   "metadata": {},
   "outputs": [
    {
     "name": "stdout",
     "output_type": "stream",
     "text": [
      "b'\\\\\\\\;n'\n"
     ]
    },
    {
     "data": {
      "text/plain": [
       "[92, 92, 59, 110]"
      ]
     },
     "execution_count": 341,
     "metadata": {},
     "output_type": "execute_result"
    }
   ],
   "source": [
    "print(ts[0:4])\n",
    "list(ts[0:4])"
   ]
  },
  {
   "cell_type": "code",
   "execution_count": 11,
   "metadata": {},
   "outputs": [],
   "source": [
    "from collections import Counter\n",
    "utf8 = Counter()\n",
    "for x in dff.iloc[0:10]:\n",
    "    utf8 += Counter(list(x.encode(\"utf-8\", \"ignore\")))\n"
   ]
  },
  {
   "cell_type": "code",
   "execution_count": 12,
   "metadata": {},
   "outputs": [
    {
     "data": {
      "text/plain": [
       "[(101, 66), (92, 66), (115, 59)]"
      ]
     },
     "execution_count": 12,
     "metadata": {},
     "output_type": "execute_result"
    }
   ],
   "source": [
    "utf8.most_common(3)"
   ]
  },
  {
   "cell_type": "markdown",
   "metadata": {},
   "source": [
    "NOTE: convert back and forth:"
   ]
  },
  {
   "cell_type": "code",
   "execution_count": 13,
   "metadata": {},
   "outputs": [
    {
     "name": "stdout",
     "output_type": "stream",
     "text": [
      "b'e'\n",
      "b'\\\\'\n",
      "b's'\n"
     ]
    }
   ],
   "source": [
    "def byte_int_to_str(byte_int):\n",
    "    # big or little doesn't matter for 1 byte\n",
    "    return byte_int.to_bytes(1, \"big\") \n",
    "\n",
    "print(byte_int_to_str(101))\n",
    "print(byte_int_to_str(92))\n",
    "print(byte_int_to_str(115))"
   ]
  },
  {
   "cell_type": "code",
   "execution_count": 14,
   "metadata": {},
   "outputs": [],
   "source": [
    "utf8 = Counter()\n",
    "for x in dff:\n",
    "    utf8 += Counter(list(x.encode(\"utf-8\", \"ignore\")))"
   ]
  },
  {
   "cell_type": "code",
   "execution_count": 22,
   "metadata": {},
   "outputs": [
    {
     "data": {
      "image/png": "[encoded data removed]",
      "text/plain": [
       "<Figure size 576x432 with 1 Axes>"
      ]
     },
     "metadata": {},
     "output_type": "display_data"
    }
   ],
   "source": [
    "import matplotlib.pyplot as plt\n",
    "import seaborn as sns\n",
    "sns.set()\n",
    "\n",
    "graph = utf8.most_common()\n",
    "plt.figure(figsize=(8,6))\n",
    "plt.plot([x[1] for x in graph])\n",
    "plt.ylabel(\"frequency (log)\")\n",
    "plt.xlabel(\"individual characters\")\n",
    "plt.yscale(\"log\")"
   ]
  },
  {
   "cell_type": "markdown",
   "metadata": {},
   "source": [
    "We see nice drop of frequency around 150\n",
    "\n",
    "`https://arxiv.org/abs/1905.06987` as well says:\n",
    "\n",
    "```\n",
    "In our work, we consider the entire unicode (UTF-8) character set, \n",
    "but limit our vocabulary to 150 most frequently occurring unicode characters,\n",
    "determined by their frequency counts in our data (See Figure 2).\n",
    "```"
   ]
  },
  {
   "cell_type": "code",
   "execution_count": 400,
   "metadata": {},
   "outputs": [],
   "source": [
    "most_150_common_bytes = [x[0] for x in utf8.most_common(150)]"
   ]
  },
  {
   "cell_type": "markdown",
   "metadata": {},
   "source": [
    "How long are filepaths generally?"
   ]
  },
  {
   "cell_type": "code",
   "execution_count": 33,
   "metadata": {},
   "outputs": [
    {
     "data": {
      "image/png": "[encoded data removed]",
      "text/plain": [
       "<Figure size 576x432 with 1 Axes>"
      ]
     },
     "metadata": {},
     "output_type": "display_data"
    }
   ],
   "source": [
    "lengths = dff.apply(lambda x: len(x)).value_counts().sort_index()\n",
    "plt.figure(figsize=(8,6))\n",
    "plt.plot(lengths.index, lengths.values)\n",
    "plt.xlim([0,500])\n",
    "plt.yscale(\"log\")\n",
    "plt.ylabel(\"count (log)\")\n",
    "_ = plt.xlabel(\"length\")"
   ]
  },
  {
   "cell_type": "code",
   "execution_count": 51,
   "metadata": {},
   "outputs": [
    {
     "name": "stdout",
     "output_type": "stream",
     "text": [
      "Percentage of paths under 150 is: 98.04\n",
      "Percentage of paths under 100 is: 84.53\n",
      "Percentage of paths under 75 is: 67.60\n",
      "Percentage of paths under 50 is: 31.64\n",
      "Percentage of paths under 25 is: 7.43\n"
     ]
    }
   ],
   "source": [
    "def get_perc(dff,l):\n",
    "    print(f\"Percentage of paths under {l} is: {(dff.apply(lambda x: len(x)) < l).sum()*100/dff.shape[0]:.2f}\")\n",
    "get_perc(dff, 150)\n",
    "get_perc(dff, 100)\n",
    "get_perc(dff, 75)\n",
    "get_perc(dff, 50)\n",
    "get_perc(dff, 25)"
   ]
  },
  {
   "cell_type": "markdown",
   "metadata": {},
   "source": [
    "in paper they say that they have similar stats, with 300 a good lim to cut paths, however, if they trim paths at 100, it results in similar accuracy, but much faster performace\n",
    "\n",
    "just in case - which paths are longer than 300 symbols?  \n",
    "\n",
    "mostly repeating patterns:  \n",
    "     - ok to trim beginning and use last 150 chars? ...  \n",
    "     - or better to preserve first 50 chars + last 100 chars ? "
   ]
  },
  {
   "cell_type": "code",
   "execution_count": 431,
   "metadata": {},
   "outputs": [
    {
     "name": "stdout",
     "output_type": "stream",
     "text": [
      "126\n",
      "[drive]\\ð¢ð²ð¾ð¹_ððµð±ðµñð½ñð¹_ðð¾ðºñð¾ð²ð¸ñðµð»ñ ðð½ñð¾ñð¼ð°ñð¸ñ\\ð ð¿ñð°ð²ð¾ñð»ð°ð²ð¸ð¸ ðð\\ðñð°ð²ð¾ñð»ð°ð²ð¸ðµ ð¼ð½ð¾ð³ð¾ ñð¾ ññð°ñð¾ð³ð¾ ðºð¾ð¼ð¿ð°\\! ! !  html ð¸ dpd\\ðñðµñññð¿ð½ð¾ññð¸ ððð¢ - ð£ñðµð½ñðµ ð½ð°ð·ð²ð°ð»ð¸ ñð¾ñð½ññ ð´ð°ññ ñð¼ðµññð¸ ðð¸ñññð° ð¥ñð¸ññð°.mht\n",
      "[drive]\\ð¢ð²ð¾ð¹_ððµð±ðµñð½ñð¹_ðð¾ðºñð¾ð²ð¸ñðµð»ñ ðð½ñð¾ñð¼ð°ñð¸ñ\\ð ð¿ñð°ð²ð¾ñð»ð°ð²ð¸ð¸ ðð\\ðñð°ð²ð¾ñð»ð°ð²ð¸ðµ ð¼ð½ð¾ð³ð¾ ñð¾ ññð°ñð¾ð³ð¾ ðºð¾ð¼ð¿ð°\\! ! !  html ð¸ dpd\\ðñðµñññð¿ð½ð¾ññð¸ ððð¢ - ð£ñðµð½ñðµ ð½ð°ð·ð²ð°ð»ð¸ ñð¾ñð½ññ ð´ð°ññ ñð¼ðµññð¸ ðð¸ñññð° ð¥ñð¸ññð°.mht\n",
      "[drive]\\ð¢ð²ð¾ð¹_ððµð±ðµñð½ñð¹_ðð¾ðºñð¾ð²ð¸ñðµð»ñ ðð½ñð¾ñð¼ð°ñð¸ñ\\ð ð¿ñð°ð²ð¾ñð»ð°ð²ð¸ð¸ ðð\\ðñð°ð²ð¾ñð»ð°ð²ð¸ðµ ð¼ð½ð¾ð³ð¾ ñð¾ ññð°ñð¾ð³ð¾ ðºð¾ð¼ð¿ð°\\! ! !  html ð¸ dpd\\ðñðµñññð¿ð½ð¾ññð¸ ððð¢ - ð£ñðµð½ñðµ ð½ð°ð·ð²ð°ð»ð¸ ñð¾ñð½ññ ð´ð°ññ ñð¼ðµññð¸ ðð¸ñññð° ð¥ñð¸ññð°.mht\n",
      "[drive]\\ð¢ð²ð¾ð¹_ððµð±ðµñð½ñð¹_ðð¾ðºñð¾ð²ð¸ñðµð»ñ ðð½ñð¾ñð¼ð°ñð¸ñ\\ð ð¿ñð°ð²ð¾ñð»ð°ð²ð¸ð¸ ðð\\ðñð°ð²ð¾ñð»ð°ð²ð¸ðµ ð¼ð½ð¾ð³ð¾ ñð¾ ññð°ñð¾ð³ð¾ ðºð¾ð¼ð¿ð°\\! ! !  html ð¸ dpd\\ðñðµñññð¿ð½ð¾ññð¸ ððð¢ - ð£ñðµð½ñðµ ð½ð°ð·ð²ð°ð»ð¸ ñð¾ñð½ññ ð´ð°ññ ñð¼ðµññð¸ ðð¸ñññð° ð¥ñð¸ññð°.mht\n",
      "[drive]\\ð¢ð²ð¾ð¹_ððµð±ðµñð½ñð¹_ðð¾ðºñð¾ð²ð¸ñðµð»ñ ðð½ñð¾ñð¼ð°ñð¸ñ\\ð ð¿ñð°ð²ð¾ñð»ð°ð²ð¸ð¸ ðð\\ðñð°ð²ð¾ñð»ð°ð²ð¸ðµ ð¼ð½ð¾ð³ð¾ ñð¾ ññð°ñð¾ð³ð¾ ðºð¾ð¼ð¿ð°\\! ! !  html ð¸ dpd\\ðñðµñññð¿ð½ð¾ññð¸ ððð¢ - ð£ñðµð½ñðµ ð½ð°ð·ð²ð°ð»ð¸ ñð¾ñð½ññ ð´ð°ññ ñð¼ðµññð¸ ðð¸ñññð° ð¥ñð¸ññð°.mht\n",
      "[drive]\\moonoi\\à¸à¸²à¸£à¹à¸à¸´à¸ 64\\à¹à¸à¸à¸«à¸à¸­à¸à¸à¸²\\à¹à¸­à¸à¸ªà¸²à¸£à¸à¸­à¹à¸à¸¥à¸µà¹à¸¢à¸à¹à¸à¸à¹à¸à¸¥à¸ à¹à¸à¹à¹à¸à¸ªà¸±à¸à¸à¸²\\à¹à¸à¹à¹à¸à¹à¸à¸à¹à¸à¸¥à¸à¹à¸¥à¸°à¸à¸£à¸±à¸à¸¥à¸à¸à¹à¸²à¸à¸²à¸ à¸à¸à¸à¸£à¸¡à¸à¸µ 64\\2.à¹à¸à¸¥à¸à¸à¸²à¸¢à¸à¸¸à¸à¸ªà¹à¸   à¹à¸à¸à¸´à¸à¸à¹.rar\n",
      "[drive]\\moonoi\\à¸à¸²à¸£à¹à¸à¸´à¸ 64\\à¹à¸à¸à¸«à¸à¸­à¸à¸à¸²\\à¹à¸­à¸à¸ªà¸²à¸£à¸à¸­à¹à¸à¸¥à¸µà¹à¸¢à¸à¹à¸à¸à¹à¸à¸¥à¸ à¹à¸à¹à¹à¸à¸ªà¸±à¸à¸à¸²\\à¹à¸à¹à¹à¸à¹à¸à¸à¹à¸à¸¥à¸à¹à¸¥à¸°à¸à¸£à¸±à¸à¸¥à¸à¸à¹à¸²à¸à¸²à¸\\à¹à¸à¸¥à¸à¸à¸²à¸¢à¹à¸à¸©à¸¡   à¸à¸±à¸à¸à¸±à¸¢.rar\n",
      "[drive]\\à¸ªà¸­à¸à¹à¸à¸­à¸¡ 1_2560\\à¸à¸²à¸£à¸ªà¸·à¹à¸­à¸ªà¸²à¸£à¸à¹à¸­à¸¡à¸¹à¸¥à¹à¸¥à¸°à¹à¸à¸£à¸·à¸­à¸à¹à¸²à¸¢à¸à¸­à¸¡à¸à¸´à¸§à¹à¸à¸­à¸£à¹\\4123708 à¸à¸²à¸£à¸ªà¸·à¹à¸­à¸ªà¸²à¸£à¸à¹à¸­à¸¡à¸¹à¸¥à¹à¸¥à¸°à¹à¸à¸£à¸·à¸­à¸à¹à¸²à¸¢à¸à¸­à¸¡à¸à¸´à¸§à¹à¸à¸­à¸£à¹\\à¸­à¸à¸£à¸¡ itcert network\\tools\\javasetup8u66.exe\n",
      "[drive]\\moonoi\\à¸à¸²à¸£à¹à¸à¸´à¸ 64\\à¹à¸à¸à¸«à¸à¸­à¸à¸à¸²\\à¹à¸­à¸à¸ªà¸²à¸£à¸à¸­à¹à¸à¸¥à¸µà¹à¸¢à¸à¹à¸à¸à¹à¸à¸¥à¸ à¹à¸à¹à¹à¸à¸ªà¸±à¸à¸à¸²\\à¹à¸à¹à¹à¸à¹à¸à¸à¹à¸à¸¥à¸à¹à¸¥à¸°à¸à¸£à¸±à¸à¸¥à¸à¸à¹à¸²à¸à¸²à¸\\à¹à¸à¸¥à¸à¸à¸²à¸¢à¹à¸à¸©à¸¡   à¸à¸±à¸à¸à¸±à¸¢.rar\n",
      "[drive]\\02-à¸à¸à¸§.à¸ªà¸·à¸\\c1 à¸¡à¸²à¸à¸£à¸à¸²à¸£à¹à¸£à¹à¸à¸£à¸±à¸à¸à¸´à¸à¸à¸²à¸¡à¸à¸±à¸à¸à¸¸à¸¡à¸à¸¹à¹à¸à¹à¸­à¸à¸«à¸²à¸à¸²à¸¡à¸«à¸¡à¸²à¸¢à¸à¸±à¸ ccoc + polis (à¸à¸¸à¸à¸§à¸±à¸à¸à¸µà¹ 1-16 à¸à¸­à¸à¹à¸à¸·à¸­à¸)\\à¸à¹à¸­à¸¡à¸¹à¸¥à¹à¸à¹à¸² à¸¯\\à¸ªà¸ .à¸à¹à¸²à¸à¸à¸´à¹à¸§ - à¸«à¸¡à¸²à¸¢à¸à¸±à¸à¹à¸à¸£à¸°à¸à¸ polis  à¹à¸¥à¸° ccoc à¸à¸¸à¸à¸§à¸±à¸à¸à¸µà¹ 1 à¹à¸¥à¸° 16.rar\n"
     ]
    }
   ],
   "source": [
    "print(dff.apply(lambda x: len(x) > 300).sum())\n",
    "_ = dff[dff.apply(lambda x: len(x) > 300)].iloc[-10:].apply(lambda x: print(x))"
   ]
  },
  {
   "cell_type": "markdown",
   "metadata": {},
   "source": [
    "\n",
    "```\n",
    "We also add a single ‘other‘ character that represents all other\n",
    "UTF-8 characters not in the top 150, and a special null character\n",
    "to represent shorter strings (padded ends).\n",
    "\n",
    "Final size 152.\n",
    "```\n",
    "\n",
    "TODO:\n",
    "1. `list(string.encode(\"utf-8\", \"ignore))`\n",
    "2. if not in most common 150 - replace with \"other\"\n",
    "3. if shorter than 100 (in paper), pad with \"null\""
   ]
  },
  {
   "cell_type": "code",
   "execution_count": null,
   "metadata": {},
   "outputs": [],
   "source": []
  }
 ],
 "metadata": {
  "interpreter": {
   "hash": "5edc29c2ed010d6458d71a83433b383a96a8cbd3efe8531bc90c4b8a5b8bcec9"
  },
  "kernelspec": {
   "display_name": "Python 3.8.9 64-bit",
   "language": "python",
   "name": "python3"
  },
  "language_info": {
   "codemirror_mode": {
    "name": "ipython",
    "version": 3
   },
   "file_extension": ".py",
   "mimetype": "text/x-python",
   "name": "python",
   "nbconvert_exporter": "python",
   "pygments_lexer": "ipython3",
   "version": "3.6.8"
  },
  "orig_nbformat": 4
 },
 "nbformat": 4,
 "nbformat_minor": 2
}
