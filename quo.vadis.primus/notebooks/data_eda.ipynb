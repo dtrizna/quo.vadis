{
 "cells": [
  {
   "cell_type": "code",
   "execution_count": 202,
   "metadata": {},
   "outputs": [
    {
     "name": "stderr",
     "output_type": "stream",
     "text": [
      "/Users/dmitrijs.trizna/Library/Python/3.8/lib/python/site-packages/IPython/core/interactiveshell.py:3169: DtypeWarning: Columns (4) have mixed types.Specify dtype option on import or set low_memory=False.\n",
      "  has_raised = await self.run_ast_nodes(code_ast.body, cell_name,\n"
     ]
    }
   ],
   "source": [
    "import pandas as pd\n",
    "import numpy as np\n",
    "\n",
    "df = pd.read_csv(\"bohacek_20211022113102.csv\", sep=\";\")"
   ]
  },
  {
   "cell_type": "markdown",
   "metadata": {},
   "source": [
    "# Taking look on data: formats, memory usage, how to work more efficiently"
   ]
  },
  {
   "cell_type": "code",
   "execution_count": 203,
   "metadata": {},
   "outputs": [
    {
     "name": "stdout",
     "output_type": "stream",
     "text": [
      "74.17463684082031  MB\n",
      "\n",
      "<class 'pandas.core.frame.DataFrame'>\n",
      "RangeIndex: 1388886 entries, 0 to 1388885\n",
      "Data columns (total 7 columns):\n",
      " #   Column                             Non-Null Count    Dtype \n",
      "---  ------                             --------------    ----- \n",
      " 0   file_name                          1297905 non-null  object\n",
      " 1   Time                               1388886 non-null  object\n",
      " 2   SHA256                             1388886 non-null  object\n",
      " 3   Detections [avast9]                656259 non-null   object\n",
      " 4   Scan Utility Vps Version [avast9]  1382555 non-null  object\n",
      " 5   Time [avast9]                      1388886 non-null  object\n",
      " 6   Type                               1388886 non-null  object\n",
      "dtypes: object(7)\n",
      "memory usage: 74.2+ MB\n"
     ]
    }
   ],
   "source": [
    "print(df.memory_usage().sum() / (1024**2), \" MB\\n\")\n",
    "df.info()"
   ]
  },
  {
   "cell_type": "code",
   "execution_count": 204,
   "metadata": {},
   "outputs": [
    {
     "name": "stdout",
     "output_type": "stream",
     "text": [
      "file_name 608234 0.43792939089313304\n",
      "Time 306484 0.22066893899139312\n",
      "SHA256 937254 0.67482428363451\n",
      "Detections [avast9] 66333 0.04775985934050743\n",
      "Scan Utility Vps Version [avast9] 653 0.0004701609779348341\n",
      "Time [avast9] 227719 0.16395802103268375\n",
      "Type 61 4.392009135379002e-05\n"
     ]
    }
   ],
   "source": [
    "# cardinality checks on full dataset\n",
    "l = df.shape[0]\n",
    "for col in df.columns:\n",
    "    n = df[col].nunique()\n",
    "    print(col, n, n/l) "
   ]
  },
  {
   "cell_type": "markdown",
   "metadata": {},
   "source": [
    "Milan:\n",
    "```\n",
    "there is a column Type (last column) that contains the source of the record\n",
    "some of them are from external services (VTHunting, VirusTotal, SafePlusAPK, CleansetWSUS, ...) those can be ignored\n",
    "use [only] AvastHeurStreamback, IdpFileExtractor, Phoenix\n",
    "```"
   ]
  },
  {
   "cell_type": "code",
   "execution_count": 205,
   "metadata": {},
   "outputs": [
    {
     "data": {
      "text/plain": [
       "AvastHeurStreamback          432920\n",
       "VTHunting                    340998\n",
       "VirusTotal                   269061\n",
       "IdpFileExtractor              97039\n",
       "Angler                        74047\n",
       "AvastARStreamback             51589\n",
       "CleansetFlare                 23940\n",
       "Blueliv                       21825\n",
       "CleansetWSUS                  15353\n",
       "CleansetAvastWhitelisting     12944\n",
       "Phoenix                        9764\n",
       "Chadron                        7006\n",
       "ShadowserverAgnus              6629\n",
       "SMTPHoneypot                   6091\n",
       "CleansetRE                     3039\n",
       "PhishingDownloader             2450\n",
       "SafePlusAPK                    1926\n",
       "SafePlusCNUnknown              1568\n",
       "AbuseMajor                     1457\n",
       "SalesForceTicket               1080\n",
       "Name: Type, dtype: int64"
      ]
     },
     "execution_count": 205,
     "metadata": {},
     "output_type": "execute_result"
    }
   ],
   "source": [
    "df.Type.value_counts()[0:20]"
   ]
  },
  {
   "cell_type": "code",
   "execution_count": 206,
   "metadata": {},
   "outputs": [
    {
     "data": {
      "text/html": [
       "<div>\n",
       "<style scoped>\n",
       "    .dataframe tbody tr th:only-of-type {\n",
       "        vertical-align: middle;\n",
       "    }\n",
       "\n",
       "    .dataframe tbody tr th {\n",
       "        vertical-align: top;\n",
       "    }\n",
       "\n",
       "    .dataframe thead th {\n",
       "        text-align: right;\n",
       "    }\n",
       "</style>\n",
       "<table border=\"1\" class=\"dataframe\">\n",
       "  <thead>\n",
       "    <tr style=\"text-align: right;\">\n",
       "      <th></th>\n",
       "      <th>Time</th>\n",
       "      <th>fullpath</th>\n",
       "      <th>file_dir</th>\n",
       "      <th>file_name</th>\n",
       "      <th>SHA256</th>\n",
       "      <th>Type</th>\n",
       "      <th>Detections [avast9]</th>\n",
       "      <th>Scan Utility Vps Version [avast9]</th>\n",
       "      <th>Time [avast9]</th>\n",
       "    </tr>\n",
       "  </thead>\n",
       "  <tbody>\n",
       "    <tr>\n",
       "      <th>2</th>\n",
       "      <td>10. 6. 2021 20:05:08</td>\n",
       "      <td>C:\\Program Files (x86)\\N-able Technologies\\Win...</td>\n",
       "      <td>C:/Program Files (x86)/N-able Technologies/Win...</td>\n",
       "      <td>AV Status.vbs</td>\n",
       "      <td>D8E09D7F645EE1400B3FF489532F70805FE46EC78194F4...</td>\n",
       "      <td>AvastHeurStreamback</td>\n",
       "      <td>NaN</td>\n",
       "      <td>21072708.0</td>\n",
       "      <td>27. 7. 2021 15:35:21</td>\n",
       "    </tr>\n",
       "    <tr>\n",
       "      <th>4</th>\n",
       "      <td>10. 6. 2021 16:04:22</td>\n",
       "      <td>C:\\Program Files (x86)\\N-able Technologies\\Win...</td>\n",
       "      <td>C:/Program Files (x86)/N-able Technologies/Win...</td>\n",
       "      <td>AV Status.vbs</td>\n",
       "      <td>D8E09D7F645EE1400B3FF489532F70805FE46EC78194F4...</td>\n",
       "      <td>AvastHeurStreamback</td>\n",
       "      <td>NaN</td>\n",
       "      <td>21072708.0</td>\n",
       "      <td>27. 7. 2021 15:35:21</td>\n",
       "    </tr>\n",
       "    <tr>\n",
       "      <th>5</th>\n",
       "      <td>10. 6. 2021 12:04:13</td>\n",
       "      <td>C:\\Program Files (x86)\\N-able Technologies\\Win...</td>\n",
       "      <td>C:/Program Files (x86)/N-able Technologies/Win...</td>\n",
       "      <td>AV Status.vbs</td>\n",
       "      <td>D8E09D7F645EE1400B3FF489532F70805FE46EC78194F4...</td>\n",
       "      <td>AvastHeurStreamback</td>\n",
       "      <td>NaN</td>\n",
       "      <td>21072708.0</td>\n",
       "      <td>27. 7. 2021 15:35:21</td>\n",
       "    </tr>\n",
       "    <tr>\n",
       "      <th>6</th>\n",
       "      <td>10. 6. 2021 8:03:59</td>\n",
       "      <td>C:\\Program Files (x86)\\N-able Technologies\\Win...</td>\n",
       "      <td>C:/Program Files (x86)/N-able Technologies/Win...</td>\n",
       "      <td>AV Status.vbs</td>\n",
       "      <td>D8E09D7F645EE1400B3FF489532F70805FE46EC78194F4...</td>\n",
       "      <td>AvastHeurStreamback</td>\n",
       "      <td>NaN</td>\n",
       "      <td>21072708.0</td>\n",
       "      <td>27. 7. 2021 15:35:21</td>\n",
       "    </tr>\n",
       "    <tr>\n",
       "      <th>7</th>\n",
       "      <td>10. 6. 2021 4:04:09</td>\n",
       "      <td>C:\\Program Files (x86)\\N-able Technologies\\Win...</td>\n",
       "      <td>C:/Program Files (x86)/N-able Technologies/Win...</td>\n",
       "      <td>AV Status.vbs</td>\n",
       "      <td>D8E09D7F645EE1400B3FF489532F70805FE46EC78194F4...</td>\n",
       "      <td>AvastHeurStreamback</td>\n",
       "      <td>NaN</td>\n",
       "      <td>21072708.0</td>\n",
       "      <td>27. 7. 2021 15:35:21</td>\n",
       "    </tr>\n",
       "  </tbody>\n",
       "</table>\n",
       "</div>"
      ],
      "text/plain": [
       "                   Time                                           fullpath  \\\n",
       "2  10. 6. 2021 20:05:08  C:\\Program Files (x86)\\N-able Technologies\\Win...   \n",
       "4  10. 6. 2021 16:04:22  C:\\Program Files (x86)\\N-able Technologies\\Win...   \n",
       "5  10. 6. 2021 12:04:13  C:\\Program Files (x86)\\N-able Technologies\\Win...   \n",
       "6   10. 6. 2021 8:03:59  C:\\Program Files (x86)\\N-able Technologies\\Win...   \n",
       "7   10. 6. 2021 4:04:09  C:\\Program Files (x86)\\N-able Technologies\\Win...   \n",
       "\n",
       "                                            file_dir      file_name  \\\n",
       "2  C:/Program Files (x86)/N-able Technologies/Win...  AV Status.vbs   \n",
       "4  C:/Program Files (x86)/N-able Technologies/Win...  AV Status.vbs   \n",
       "5  C:/Program Files (x86)/N-able Technologies/Win...  AV Status.vbs   \n",
       "6  C:/Program Files (x86)/N-able Technologies/Win...  AV Status.vbs   \n",
       "7  C:/Program Files (x86)/N-able Technologies/Win...  AV Status.vbs   \n",
       "\n",
       "                                              SHA256                 Type  \\\n",
       "2  D8E09D7F645EE1400B3FF489532F70805FE46EC78194F4...  AvastHeurStreamback   \n",
       "4  D8E09D7F645EE1400B3FF489532F70805FE46EC78194F4...  AvastHeurStreamback   \n",
       "5  D8E09D7F645EE1400B3FF489532F70805FE46EC78194F4...  AvastHeurStreamback   \n",
       "6  D8E09D7F645EE1400B3FF489532F70805FE46EC78194F4...  AvastHeurStreamback   \n",
       "7  D8E09D7F645EE1400B3FF489532F70805FE46EC78194F4...  AvastHeurStreamback   \n",
       "\n",
       "  Detections [avast9] Scan Utility Vps Version [avast9]         Time [avast9]  \n",
       "2                 NaN                        21072708.0  27. 7. 2021 15:35:21  \n",
       "4                 NaN                        21072708.0  27. 7. 2021 15:35:21  \n",
       "5                 NaN                        21072708.0  27. 7. 2021 15:35:21  \n",
       "6                 NaN                        21072708.0  27. 7. 2021 15:35:21  \n",
       "7                 NaN                        21072708.0  27. 7. 2021 15:35:21  "
      ]
     },
     "execution_count": 206,
     "metadata": {},
     "output_type": "execute_result"
    }
   ],
   "source": [
    "# cleaning up only Types we need\n",
    "type_whitelist = [\"AvastHeurStreamback\", \"IdpFileExtractor\", \"Phoenix\"]\n",
    "df.Type = df.Type.astype(\"category\")\n",
    "df2 = df[df.Type.apply(lambda x: x in type_whitelist)]\n",
    "\n",
    "# dropping non-Windows files (domains and JS scripts)\n",
    "df2 = df2.drop(df2[df2[\"file_name\"].fillna(\"\").str.contains(\"http[s]?\", regex=True)].index)\n",
    "df2 = df2.drop(df2[df2[\"file_name\"].fillna(\"\").str.contains(\"pro/malicious_scripts\")].index)\n",
    "\n",
    "df2[\"fullpath\"] = df2[\"file_name\"]\n",
    "\n",
    "# creation of name and dir columns\n",
    "df2[\"file_name\"] = df2[\"fullpath\"].fillna(\"\").str.split(\"\\\\\").apply(lambda x: x[0] if len(x) == 1 else x[-1] )\n",
    "df2[\"file_dir\"] = df2[\"fullpath\"].fillna(\"\").str.split(\"\\\\\").apply(lambda x: np.nan if len(x) == 1 else \"/\".join(x[:-1]))\n",
    "\n",
    "# clean paths w/o working directory - we don't need them\n",
    "df2.drop(index=df2[df2.file_dir.isna()].index, inplace=True)\n",
    "df2 = df2[['Time', 'fullpath', 'file_dir', 'file_name', 'SHA256', 'Type', 'Detections [avast9]',\n",
    "       'Scan Utility Vps Version [avast9]', 'Time [avast9]']]\n",
    "df2.to_csv(\"clean.csv\", index=False)\n",
    "df2.head()"
   ]
  },
  {
   "cell_type": "markdown",
   "metadata": {},
   "source": [
    "# Playing with clean data\n",
    "\n",
    "clean.csv: 86 MB  \n",
    "original csv: 355 MB"
   ]
  },
  {
   "cell_type": "code",
   "execution_count": 207,
   "metadata": {},
   "outputs": [
    {
     "data": {
      "text/html": [
       "<div>\n",
       "<style scoped>\n",
       "    .dataframe tbody tr th:only-of-type {\n",
       "        vertical-align: middle;\n",
       "    }\n",
       "\n",
       "    .dataframe tbody tr th {\n",
       "        vertical-align: top;\n",
       "    }\n",
       "\n",
       "    .dataframe thead th {\n",
       "        text-align: right;\n",
       "    }\n",
       "</style>\n",
       "<table border=\"1\" class=\"dataframe\">\n",
       "  <thead>\n",
       "    <tr style=\"text-align: right;\">\n",
       "      <th></th>\n",
       "      <th>Time</th>\n",
       "      <th>fullpath</th>\n",
       "      <th>file_dir</th>\n",
       "      <th>file_name</th>\n",
       "      <th>SHA256</th>\n",
       "      <th>Type</th>\n",
       "      <th>Detections [avast9]</th>\n",
       "      <th>Scan Utility Vps Version [avast9]</th>\n",
       "      <th>Time [avast9]</th>\n",
       "    </tr>\n",
       "  </thead>\n",
       "  <tbody>\n",
       "    <tr>\n",
       "      <th>0</th>\n",
       "      <td>2021-10-06 20:05:08</td>\n",
       "      <td>C:\\Program Files (x86)\\N-able Technologies\\Win...</td>\n",
       "      <td>C:/Program Files (x86)/N-able Technologies/Win...</td>\n",
       "      <td>AV Status.vbs</td>\n",
       "      <td>D8E09D7F645EE1400B3FF489532F70805FE46EC78194F4...</td>\n",
       "      <td>AvastHeurStreamback</td>\n",
       "      <td>NaN</td>\n",
       "      <td>21072708.0</td>\n",
       "      <td>27. 7. 2021 15:35:21</td>\n",
       "    </tr>\n",
       "    <tr>\n",
       "      <th>1</th>\n",
       "      <td>2021-10-06 16:04:22</td>\n",
       "      <td>C:\\Program Files (x86)\\N-able Technologies\\Win...</td>\n",
       "      <td>C:/Program Files (x86)/N-able Technologies/Win...</td>\n",
       "      <td>AV Status.vbs</td>\n",
       "      <td>D8E09D7F645EE1400B3FF489532F70805FE46EC78194F4...</td>\n",
       "      <td>AvastHeurStreamback</td>\n",
       "      <td>NaN</td>\n",
       "      <td>21072708.0</td>\n",
       "      <td>27. 7. 2021 15:35:21</td>\n",
       "    </tr>\n",
       "    <tr>\n",
       "      <th>2</th>\n",
       "      <td>2021-10-06 12:04:13</td>\n",
       "      <td>C:\\Program Files (x86)\\N-able Technologies\\Win...</td>\n",
       "      <td>C:/Program Files (x86)/N-able Technologies/Win...</td>\n",
       "      <td>AV Status.vbs</td>\n",
       "      <td>D8E09D7F645EE1400B3FF489532F70805FE46EC78194F4...</td>\n",
       "      <td>AvastHeurStreamback</td>\n",
       "      <td>NaN</td>\n",
       "      <td>21072708.0</td>\n",
       "      <td>27. 7. 2021 15:35:21</td>\n",
       "    </tr>\n",
       "    <tr>\n",
       "      <th>3</th>\n",
       "      <td>2021-10-06 08:03:59</td>\n",
       "      <td>C:\\Program Files (x86)\\N-able Technologies\\Win...</td>\n",
       "      <td>C:/Program Files (x86)/N-able Technologies/Win...</td>\n",
       "      <td>AV Status.vbs</td>\n",
       "      <td>D8E09D7F645EE1400B3FF489532F70805FE46EC78194F4...</td>\n",
       "      <td>AvastHeurStreamback</td>\n",
       "      <td>NaN</td>\n",
       "      <td>21072708.0</td>\n",
       "      <td>27. 7. 2021 15:35:21</td>\n",
       "    </tr>\n",
       "    <tr>\n",
       "      <th>4</th>\n",
       "      <td>2021-10-06 04:04:09</td>\n",
       "      <td>C:\\Program Files (x86)\\N-able Technologies\\Win...</td>\n",
       "      <td>C:/Program Files (x86)/N-able Technologies/Win...</td>\n",
       "      <td>AV Status.vbs</td>\n",
       "      <td>D8E09D7F645EE1400B3FF489532F70805FE46EC78194F4...</td>\n",
       "      <td>AvastHeurStreamback</td>\n",
       "      <td>NaN</td>\n",
       "      <td>21072708.0</td>\n",
       "      <td>27. 7. 2021 15:35:21</td>\n",
       "    </tr>\n",
       "  </tbody>\n",
       "</table>\n",
       "</div>"
      ],
      "text/plain": [
       "                 Time                                           fullpath  \\\n",
       "0 2021-10-06 20:05:08  C:\\Program Files (x86)\\N-able Technologies\\Win...   \n",
       "1 2021-10-06 16:04:22  C:\\Program Files (x86)\\N-able Technologies\\Win...   \n",
       "2 2021-10-06 12:04:13  C:\\Program Files (x86)\\N-able Technologies\\Win...   \n",
       "3 2021-10-06 08:03:59  C:\\Program Files (x86)\\N-able Technologies\\Win...   \n",
       "4 2021-10-06 04:04:09  C:\\Program Files (x86)\\N-able Technologies\\Win...   \n",
       "\n",
       "                                            file_dir      file_name  \\\n",
       "0  C:/Program Files (x86)/N-able Technologies/Win...  AV Status.vbs   \n",
       "1  C:/Program Files (x86)/N-able Technologies/Win...  AV Status.vbs   \n",
       "2  C:/Program Files (x86)/N-able Technologies/Win...  AV Status.vbs   \n",
       "3  C:/Program Files (x86)/N-able Technologies/Win...  AV Status.vbs   \n",
       "4  C:/Program Files (x86)/N-able Technologies/Win...  AV Status.vbs   \n",
       "\n",
       "                                              SHA256                 Type  \\\n",
       "0  D8E09D7F645EE1400B3FF489532F70805FE46EC78194F4...  AvastHeurStreamback   \n",
       "1  D8E09D7F645EE1400B3FF489532F70805FE46EC78194F4...  AvastHeurStreamback   \n",
       "2  D8E09D7F645EE1400B3FF489532F70805FE46EC78194F4...  AvastHeurStreamback   \n",
       "3  D8E09D7F645EE1400B3FF489532F70805FE46EC78194F4...  AvastHeurStreamback   \n",
       "4  D8E09D7F645EE1400B3FF489532F70805FE46EC78194F4...  AvastHeurStreamback   \n",
       "\n",
       "  Detections [avast9] Scan Utility Vps Version [avast9]         Time [avast9]  \n",
       "0                 NaN                        21072708.0  27. 7. 2021 15:35:21  \n",
       "1                 NaN                        21072708.0  27. 7. 2021 15:35:21  \n",
       "2                 NaN                        21072708.0  27. 7. 2021 15:35:21  \n",
       "3                 NaN                        21072708.0  27. 7. 2021 15:35:21  \n",
       "4                 NaN                        21072708.0  27. 7. 2021 15:35:21  "
      ]
     },
     "execution_count": 207,
     "metadata": {},
     "output_type": "execute_result"
    }
   ],
   "source": [
    "df = pd.read_csv(\"clean.csv\", # \"bohacek_20211022113102.csv\",  \n",
    "                    dtype={\"fullpath\": \"string\", \"file_dir\": \"string\", \"file_name\": \"string\", \"Scan Utility Vps Version [avast9]\": \"category\", \"Type\": \"category\"},\n",
    "                    parse_dates=[\"Time\"] # this adds ~30 s reading time\n",
    "                )\n",
    "df.head()"
   ]
  },
  {
   "cell_type": "code",
   "execution_count": 208,
   "metadata": {},
   "outputs": [
    {
     "name": "stdout",
     "output_type": "stream",
     "text": [
      "<class 'pandas.core.frame.DataFrame'>\n",
      "RangeIndex: 266278 entries, 0 to 266277\n",
      "Data columns (total 9 columns):\n",
      " #   Column                             Non-Null Count   Dtype         \n",
      "---  ------                             --------------   -----         \n",
      " 0   Time                               266278 non-null  datetime64[ns]\n",
      " 1   fullpath                           266278 non-null  string        \n",
      " 2   file_dir                           266273 non-null  string        \n",
      " 3   file_name                          266275 non-null  string        \n",
      " 4   SHA256                             266278 non-null  object        \n",
      " 5   Type                               266278 non-null  category      \n",
      " 6   Detections [avast9]                125120 non-null  object        \n",
      " 7   Scan Utility Vps Version [avast9]  266269 non-null  category      \n",
      " 8   Time [avast9]                      266278 non-null  object        \n",
      "dtypes: category(2), datetime64[ns](1), object(3), string(3)\n",
      "memory usage: 15.0+ MB\n"
     ]
    }
   ],
   "source": [
    "df.info()"
   ]
  },
  {
   "cell_type": "code",
   "execution_count": null,
   "metadata": {},
   "outputs": [],
   "source": []
  }
 ],
 "metadata": {
  "interpreter": {
   "hash": "31f2aee4e71d21fbe5cf8b01ff0e069b9275f58929596ceb00d14d90e3e16cd6"
  },
  "kernelspec": {
   "display_name": "Python 3.8.9 64-bit",
   "name": "python3"
  },
  "language_info": {
   "codemirror_mode": {
    "name": "ipython",
    "version": 3
   },
   "file_extension": ".py",
   "mimetype": "text/x-python",
   "name": "python",
   "nbconvert_exporter": "python",
   "pygments_lexer": "ipython3",
   "version": "3.8.9"
  },
  "orig_nbformat": 4
 },
 "nbformat": 4,
 "nbformat_minor": 2
}
