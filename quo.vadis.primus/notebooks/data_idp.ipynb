{
 "cells": [
  {
   "cell_type": "code",
   "execution_count": 6,
   "metadata": {},
   "outputs": [
    {
     "data": {
      "text/plain": [
       "'1638518744 09:05:44 analytics green 12 6 2462 1231 0 0 0 0 - 100.0%\\n'"
      ]
     },
     "execution_count": 6,
     "metadata": {},
     "output_type": "execute_result"
    }
   ],
   "source": [
    "from elasticsearch import Elasticsearch\n",
    "import requests\n",
    "\n",
    "es_url = \"https://anal-elastic.ff.avast.com:9443/\"\n",
    "\n",
    "# elasticsearch-py\n",
    "es = Elasticsearch(es_url)#, api_key=(API[\"id\"], API[\"api_key\"]))\n",
    "\n",
    "# API helper functions\n",
    "def post_api(url, data):\n",
    "   return requests.post(es_url + url, data=data, headers={\"Content-Type\": \"application/json\"})#, \"Authorization\": API_FULL})\n",
    "def get_api(url):\n",
    "   return requests.get(es_url + url, headers={\"Content-Type\": \"application/json\"})#, \"Authorization\": API_FULL})\n",
    "\n",
    "es.cat.health()"
   ]
  },
  {
   "cell_type": "code",
   "execution_count": 21,
   "metadata": {},
   "outputs": [
    {
     "data": {
      "text/plain": [
       "[{'_source': {'request': {'detected': False,\n",
       "    'file_path': 'C:\\\\PROGRAM FILES\\\\BYTEFENCE\\\\BYTEFENCESCAN.EXE'},\n",
       "   'response': {'threat_name': 'IDP.Generic.c248374923bb.2.2'}}},\n",
       " {'_source': {'request': {'detected': False,\n",
       "    'file_path': 'C:\\\\WINDOWS\\\\SYSTEM32\\\\{A6D608F0-0BDE-491A-97AE-5C4B05D86E01}.BAT'},\n",
       "   'response': {'threat_name': 'IDP.Generic.3bc9fd278cac.2.2'}}},\n",
       " {'_source': {'request': {'detected': False,\n",
       "    'file_path': 'C:\\\\WINDOWS\\\\TEMP\\\\NSE2F7C.TMP\\\\NSB522.TMP'},\n",
       "   'response': {'threat_name': 'IDP.Generic.aef58b24cc84.2.2'}}},\n",
       " {'_source': {'request': {'detected': False,\n",
       "    'file_path': 'C:\\\\PROGRAM FILES\\\\WINDOWSAPPS\\\\AD2F1837.HPSYSTEMEVENTUTILITY_1.2.11.0_X64__V10Z8VJAG6KE6\\\\SYSTEMEVENTUTILITY\\\\HPSYSTEMEVENTUTILITYHOST.EXE'}}},\n",
       " {'_source': {'request': {'detected': False,\n",
       "    'file_path': 'C:\\\\USERS\\\\USUARIO\\\\DESKTOP\\\\CGB-SOFTWARE-01-BY LORD\\\\AUTOPLAY\\\\DOCS\\\\DATA\\\\PHOTOSHOPCS6.REG'}}},\n",
       " {'_source': {'request': {'detected': False,\n",
       "    'file_path': 'C:\\\\PROGRAMDATA\\\\SOLARWINDS MSP\\\\ECOSYSTEM AGENT\\\\TEMP\\\\SENTINELONE_DISCOVERY.PS1'}}},\n",
       " {'_source': {'request': {'detected': False,\n",
       "    'file_path': 'C:\\\\WINDOWS\\\\SYSTEM32\\\\{A6D608F0-0BDE-491A-97AE-5C4B05D86E01}.BAT'},\n",
       "   'response': {'threat_name': 'IDP.Generic.3bc9fd278cac.2.2'}}},\n",
       " {'_source': {'request': {'detected': False,\n",
       "    'file_path': 'C:\\\\PROGRAM FILES\\\\HEWLETT-PACKARD\\\\SIMPLEPASS\\\\OMNISERV.EXE'},\n",
       "   'response': {'threat_name': 'IDP.Generic.15a499d8f403.2.2'}}},\n",
       " {'_source': {'request': {'detected': False,\n",
       "    'file_path': 'C:\\\\WINDOWS\\\\TEMP\\\\{FB174E95-07CB-46ED-BC53-D0D2BB955D5C}\\\\ISBEW64.EXE'},\n",
       "   'response': {'threat_name': 'IDP.Generic.7edc950ecfbb.2.2'}}},\n",
       " {'_source': {'request': {'detected': False,\n",
       "    'file_path': 'C:\\\\WINDOWS\\\\SYSTEM32\\\\{A6D608F0-0BDE-491A-97AE-5C4B05D86E01}.BAT'},\n",
       "   'response': {'threat_name': 'IDP.Generic.d98364a0e404.2.2'}}},\n",
       " {'_source': {'request': {'detected': False,\n",
       "    'file_path': 'C:\\\\WINDOWS\\\\TEMP\\\\MONITORING_GETAPPXPACKAGES.PS1'}}},\n",
       " {'_source': {'request': {'detected': False,\n",
       "    'file_path': 'C:\\\\WINDOWS\\\\TEMP\\\\INVEEFF_TMP\\\\DELL_THERMALCIC\\\\DELL_THERMALPPKGINSTALLER.EXE'}}},\n",
       " {'_source': {'request': {'detected': False,\n",
       "    'file_path': 'C:\\\\WINDOWS\\\\SYSTEM32\\\\HPZIPM12.DLL'},\n",
       "   'response': {'threat_name': 'IDP.Generic.e3a9be275d3c.2.2'}}},\n",
       " {'_source': {'request': {'detected': False,\n",
       "    'file_path': 'C:\\\\PROGRAM FILES (X86)\\\\MINECRAFT LAUNCHER\\\\RUNTIME\\\\JAVA-RUNTIME-ALPHA\\\\WINDOWS-X64\\\\JAVA-RUNTIME-ALPHA\\\\BIN\\\\JAVAW.EXE'},\n",
       "   'response': {'threat_name': 'IDP.Generic.6938144acc2c.2.2'}}},\n",
       " {'_source': {'request': {'detected': False,\n",
       "    'file_path': 'C:\\\\WINDOWS\\\\SYSTEM32\\\\{A6D608F0-0BDE-491A-97AE-5C4B05D86E01}.BAT'},\n",
       "   'response': {'threat_name': 'IDP.Generic.3bc9fd278cac.2.2'}}}]"
      ]
     },
     "execution_count": 21,
     "metadata": {},
     "output_type": "execute_result"
    }
   ],
   "source": [
    "fields = [\"hits.hits._source.request.file_path\", \"hits.hits._source.request.detected\", \"hits.hits._source.response.threat_name\"]\n",
    "es.search(index=\"aa_payload_idp_check_event-*\", size=15, filter_path=fields)[\"hits\"][\"hits\"]\n",
    "#es.search(index=\"aa_payload_idp_check_event-*\", size=15, filter_path=[\"hits.hits._source.request*\"])"
   ]
  },
  {
   "cell_type": "code",
   "execution_count": null,
   "metadata": {},
   "outputs": [],
   "source": []
  }
 ],
 "metadata": {
  "interpreter": {
   "hash": "31f2aee4e71d21fbe5cf8b01ff0e069b9275f58929596ceb00d14d90e3e16cd6"
  },
  "kernelspec": {
   "display_name": "Python 3.8.9 64-bit",
   "language": "python",
   "name": "python3"
  },
  "language_info": {
   "codemirror_mode": {
    "name": "ipython",
    "version": 3
   },
   "file_extension": ".py",
   "mimetype": "text/x-python",
   "name": "python",
   "nbconvert_exporter": "python",
   "pygments_lexer": "ipython3",
   "version": "3.8.9"
  },
  "orig_nbformat": 4
 },
 "nbformat": 4,
 "nbformat_minor": 2
}
