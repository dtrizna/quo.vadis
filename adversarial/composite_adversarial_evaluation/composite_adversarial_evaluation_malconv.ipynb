{
 "cells": [
  {
   "cell_type": "code",
   "execution_count": 1,
   "metadata": {},
   "outputs": [],
   "source": [
    "import os\n",
    "import matplotlib.pyplot as plt\n",
    "import magic\n",
    "import seaborn as sns\n",
    "sns.set()\n",
    "\n",
    "#from sklearn.metrics import roc_curve, roc_auc_score, classification_report, accuracy_score\n",
    "from sklearn.metrics import accuracy_score\n",
    "import numpy as np\n",
    "\n",
    "import sys\n",
    "import time\n",
    "repo_root = \"../../\"\n",
    "sys.path.append(repo_root)\n",
    "from models import CompositeClassifier"
   ]
  },
  {
   "cell_type": "markdown",
   "metadata": {},
   "source": [
    "## Composite preprocessing of adversarial set"
   ]
  },
  {
   "cell_type": "code",
   "execution_count": 2,
   "metadata": {},
   "outputs": [
    {
     "name": "stdout",
     "output_type": "stream",
     "text": [
      "Successfull adversarial emulation reports:  4023\n",
      "Errored adversarial emulation reports:  2864\n",
      "Total adversarial samples:  6887\n",
      "Emulation success rate: 58.41%\n"
     ]
    }
   ],
   "source": [
    "adversarial_testset_path = repo_root + \"data/adversarial.emulation.dataset/reports_malconv\"\n",
    "adversarial_testset_files = os.listdir(adversarial_testset_path)\n",
    "adversarial_reports = [x.rstrip(\".json\") for x in adversarial_testset_files if x.endswith(\".json\")]\n",
    "print(\"Successfull adversarial emulation reports: \", len(adversarial_reports))\n",
    "adversarial_errors = [x for x in adversarial_testset_files if x.endswith(\".err\")]\n",
    "print(\"Errored adversarial emulation reports: \", len(adversarial_errors))\n",
    "print(\"Total adversarial samples: \", len(adversarial_errors) + len(adversarial_reports))\n",
    "print(f\"Emulation success rate: {len(adversarial_reports)/(len(adversarial_reports)+len(adversarial_errors))*100:.2f}%\")"
   ]
  },
  {
   "cell_type": "markdown",
   "metadata": {},
   "source": [
    "# NOTE - `6887` total samples because we skipped benignware and malware that was already evasive!\n",
    "\n",
    "Total file number match with filesystem data:\n",
    "```\n",
    "/data/quo.vadis/adversarial/samples_adversarial_testset_gamma_malconv]$ find . -type f | wc -l\n",
    "6887\n",
    "```\n",
    "\n",
    "Adversarial length match with report_db in emulation module - it loads reports from `data/adversarial.emulation.dataset/reports_malconv` since passed as parameter:"
   ]
  },
  {
   "cell_type": "code",
   "execution_count": 3,
   "metadata": {},
   "outputs": [
    {
     "data": {
      "text/plain": [
       "4023"
      ]
     },
     "execution_count": 3,
     "metadata": {},
     "output_type": "execute_result"
    }
   ],
   "source": [
    "a = CompositeClassifier(modules=[\"emulation\"], repo_root=repo_root,\n",
    "                        emulation_report_path=\"data/adversarial.emulation.dataset/reports_malconv\",)\n",
    "len(a.modules[\"emulation\"].report_db)"
   ]
  },
  {
   "cell_type": "code",
   "execution_count": 4,
   "metadata": {},
   "outputs": [
    {
     "name": "stdout",
     "output_type": "stream",
     "text": [
      "../../adversarial/samples_adversarial_testset_gamma_malconv/812b1ace1c5f2661efd6d450486d70f5b81736519036ee89e7d0b470b64fd415\n",
      "../../data/adversarial.emulation.dataset/reports_malconv/812b1ace1c5f2661efd6d450486d70f5b81736519036ee89e7d0b470b64fd415.json\n"
     ]
    },
    {
     "data": {
      "text/html": [
       "<div>\n",
       "<style scoped>\n",
       "    .dataframe tbody tr th:only-of-type {\n",
       "        vertical-align: middle;\n",
       "    }\n",
       "\n",
       "    .dataframe tbody tr th {\n",
       "        vertical-align: top;\n",
       "    }\n",
       "\n",
       "    .dataframe thead th {\n",
       "        text-align: right;\n",
       "    }\n",
       "</style>\n",
       "<table border=\"1\" class=\"dataframe\">\n",
       "  <thead>\n",
       "    <tr style=\"text-align: right;\">\n",
       "      <th></th>\n",
       "      <th>hash</th>\n",
       "      <th>path</th>\n",
       "    </tr>\n",
       "  </thead>\n",
       "  <tbody>\n",
       "    <tr>\n",
       "      <th>9889</th>\n",
       "      <td>812b1ace1c5f2661efd6d450486d70f5b81736519036ee...</td>\n",
       "      <td>C:\\Users\\user\\AppData\\Local\\Temp\\quip.exe</td>\n",
       "    </tr>\n",
       "  </tbody>\n",
       "</table>\n",
       "</div>"
      ],
      "text/plain": [
       "                                                   hash  \\\n",
       "9889  812b1ace1c5f2661efd6d450486d70f5b81736519036ee...   \n",
       "\n",
       "                                           path  \n",
       "9889  C:\\Users\\user\\AppData\\Local\\Temp\\quip.exe  "
      ]
     },
     "execution_count": 4,
     "metadata": {},
     "output_type": "execute_result"
    }
   ],
   "source": [
    "classifier = CompositeClassifier(late_fusion_model=\"LogisticRegression\", repo_root=repo_root,\n",
    "                                emulation_report_path=\"data/adversarial.emulation.dataset/reports_malconv\",\n",
    "                                rawpe_db_path=\"adversarial/samples_adversarial_testset_gamma_malconv\")\n",
    "print(classifier.rawpe_db[adversarial_reports[0]])\n",
    "print(classifier.modules[\"emulation\"].report_db[adversarial_reports[0]])\n",
    "classifier.filepath_db[classifier.filepath_db.hash == adversarial_reports[0]]\n",
    "\n",
    "# preprocess adversarial samples using correct report path\n",
    "# x_adv_malconv = classifier.preprocess_hashlist(adversarial_reports, dump_xy=True) # takes ~30m"
   ]
  },
  {
   "cell_type": "code",
   "execution_count": 5,
   "metadata": {},
   "outputs": [
    {
     "name": "stdout",
     "output_type": "stream",
     "text": [
      "../../data/pe.dataset/PeX86Exe/dropper/812b1ace1c5f2661efd6d450486d70f5b81736519036ee89e7d0b470b64fd415\n",
      "../../data/emulation.dataset/report_dropper/812b1ace1c5f2661efd6d450486d70f5b81736519036ee89e7d0b470b64fd415.json\n"
     ]
    },
    {
     "data": {
      "text/html": [
       "<div>\n",
       "<style scoped>\n",
       "    .dataframe tbody tr th:only-of-type {\n",
       "        vertical-align: middle;\n",
       "    }\n",
       "\n",
       "    .dataframe tbody tr th {\n",
       "        vertical-align: top;\n",
       "    }\n",
       "\n",
       "    .dataframe thead th {\n",
       "        text-align: right;\n",
       "    }\n",
       "</style>\n",
       "<table border=\"1\" class=\"dataframe\">\n",
       "  <thead>\n",
       "    <tr style=\"text-align: right;\">\n",
       "      <th></th>\n",
       "      <th>hash</th>\n",
       "      <th>path</th>\n",
       "    </tr>\n",
       "  </thead>\n",
       "  <tbody>\n",
       "    <tr>\n",
       "      <th>9889</th>\n",
       "      <td>812b1ace1c5f2661efd6d450486d70f5b81736519036ee...</td>\n",
       "      <td>C:\\Users\\user\\AppData\\Local\\Temp\\quip.exe</td>\n",
       "    </tr>\n",
       "  </tbody>\n",
       "</table>\n",
       "</div>"
      ],
      "text/plain": [
       "                                                   hash  \\\n",
       "9889  812b1ace1c5f2661efd6d450486d70f5b81736519036ee...   \n",
       "\n",
       "                                           path  \n",
       "9889  C:\\Users\\user\\AppData\\Local\\Temp\\quip.exe  "
      ]
     },
     "execution_count": 5,
     "metadata": {},
     "output_type": "execute_result"
    }
   ],
   "source": [
    "classifier = CompositeClassifier(late_fusion_model=\"LogisticRegression\", repo_root=repo_root)\n",
    "print(classifier.rawpe_db[adversarial_reports[0]])\n",
    "print(classifier.modules[\"emulation\"].report_db[adversarial_reports[0]])\n",
    "classifier.filepath_db[classifier.filepath_db.hash == adversarial_reports[0]]\n",
    "\n",
    "# preprocess adversarial samples using correct report path\n",
    "# x_orig_malconv = classifier.preprocess_hashlist(adversarial_reports, dump_xy=True) # takes ~30m"
   ]
  },
  {
   "cell_type": "code",
   "execution_count": 38,
   "metadata": {},
   "outputs": [],
   "source": [
    "x_adv_malconv = np.load(repo_root+\"adversarial/composite_adversarial_evaluation/X-gamma-vs-malconv-early-fusion-pass.arr\") \n",
    "x_orig_malconv = np.load(repo_root+\"adversarial/composite_adversarial_evaluation/X-gamma-vs-malconv-early-fusion-pass-orig.arr\")\n",
    "# python3 run_malconv_pass.py\n",
    "y_malconv_orig = np.load(\"y-gamma-vs-malconv-scores-orig.arr\")\n",
    "y_malconv_orig_int = (y_malconv_orig > 0.5).astype(int)\n",
    "y_malconv_adv = np.load(\"y-gamma-vs-malconv-scores.arr\")\n",
    "y_malconv_adv_int = (y_malconv_adv > 0.5).astype(int)\n",
    "\n",
    "x_train = np.load(repo_root+\"composite/X-1647041985-early-fusion-vectors-train.arr\")\n",
    "y_train = np.load(repo_root+\"composite/y-1647041985-train.arr\")\n",
    "\n",
    "x_test = np.load(repo_root+\"composite/X-1647097165-early-fusion-vectors-test.arr\")\n",
    "y_test = np.load(repo_root+\"composite/y-1647097165-test.arr\")"
   ]
  },
  {
   "cell_type": "markdown",
   "metadata": {},
   "source": [
    "## Different modules"
   ]
  },
  {
   "cell_type": "code",
   "execution_count": 39,
   "metadata": {},
   "outputs": [],
   "source": [
    "def fit(models, x_trains, y_train, save=False):\n",
    "    for model in models:\n",
    "        print(f\"training late fusion model for {model}...\")\n",
    "        now = time.time()\n",
    "        models[model].fit(x_trains[model], y_train)\n",
    "        print(f\"training done for {model}... took: {time.time()-now:.2f}s\")\n",
    "        if save:\n",
    "            os.makedirs(\"late_fusion_model_fit\", exist_ok=True)\n",
    "            models[model].save_late_fusion_model(filename=\"late_fusion_model_fit/\"+model)\n",
    "    return models"
   ]
  },
  {
   "cell_type": "code",
   "execution_count": 41,
   "metadata": {},
   "outputs": [
    {
     "name": "stdout",
     "output_type": "stream",
     "text": [
      "training late fusion model for ember...\n",
      "training done for ember... took: 0.11s\n",
      "training late fusion model for filepaths...\n",
      "training done for filepaths... took: 0.11s\n",
      "training late fusion model for emulation...\n",
      "training done for emulation... took: 0.15s\n",
      "training late fusion model for ember_emulation...\n",
      "training done for ember_emulation... took: 0.19s\n",
      "training late fusion model for malconv_emulation...\n",
      "training done for malconv_emulation... took: 0.14s\n",
      "training late fusion model for malconv_ember...\n",
      "training done for malconv_ember... took: 0.15s\n",
      "training late fusion model for ember_filepaths_emulation...\n",
      "training done for ember_filepaths_emulation... took: 0.19s\n",
      "training late fusion model for malconv_filepaths_emulation...\n",
      "training done for malconv_filepaths_emulation... took: 0.15s\n",
      "training late fusion model for malconv_ember_emulation...\n",
      "training done for malconv_ember_emulation... took: 0.14s\n",
      "training late fusion model for all...\n",
      "training done for all... took: 0.21s\n"
     ]
    }
   ],
   "source": [
    "# need to modify report path to original dataset\n",
    "modulelist = [[\"ember\"], [\"filepaths\"], [\"emulation\"], \n",
    "            [\"ember\", \"emulation\"],\n",
    "            [\"malconv\", \"emulation\"],\n",
    "            [\"malconv\", \"ember\"],\n",
    "            [\"ember\", \"filepaths\", \"emulation\"],\n",
    "            [\"malconv\", \"filepaths\", \"emulation\"],\n",
    "            [\"malconv\", \"ember\", \"emulation\"],\n",
    "            [\"malconv\", \"ember\", \"filepaths\", \"emulation\"], ]\n",
    "models = {}\n",
    "x_trains = {}\n",
    "x_tests = {}\n",
    "\n",
    "x_malconv_orig = {}\n",
    "x_malconv_adv = {}\n",
    "\n",
    "for modules in modulelist:\n",
    "    name = \"_\".join(modules)\n",
    "    if len(modules) == 4:\n",
    "        name = \"all\"\n",
    "\n",
    "    models[name] = CompositeClassifier(modules=modules, late_fusion_model=\"LogisticRegression\", repo_root=repo_root)\n",
    "    x_trains[name] = models[name].get_cropped_x(modules, x_train)\n",
    "    x_tests[name] = models[name].get_cropped_x(modules, x_test)\n",
    "    \n",
    "    x_malconv_orig[name] = models[name].get_cropped_x(modules, x_orig_malconv)\n",
    "    x_malconv_adv[name] = models[name].get_cropped_x(modules, x_adv_malconv)\n",
    "    \n",
    "    if \"malconv\" in modules:\n",
    "        # replace 1st column with y\n",
    "        x_malconv_orig[name][:,0] = y_malconv_orig\n",
    "        x_malconv_adv[name][:,0] = y_malconv_adv\n",
    "\n",
    "# Remember: this .fit() really trains only late fusion model\n",
    "models = fit(models, x_trains, y_train, save=False)"
   ]
  },
  {
   "cell_type": "markdown",
   "metadata": {},
   "source": [
    "## Comparing"
   ]
  },
  {
   "cell_type": "code",
   "execution_count": 43,
   "metadata": {},
   "outputs": [
    {
     "name": "stdout",
     "output_type": "stream",
     "text": [
      "====== malconv ======\n",
      "Non-Adversarial Set accuracy: 1.0\n",
      "Adversarial Set accuracy:     0.40939597315436244\n",
      "\n",
      " ====== ember ======\n",
      "Non-Adversarial Set accuracy: 0.927914491672881\n",
      "Adversarial Set accuracy:     0.8973402933134477\n",
      "\n",
      " ====== filepaths ======\n",
      "Non-Adversarial Set accuracy: 0.9361173253790703\n",
      "Adversarial Set accuracy:     0.9361173253790703\n",
      "\n",
      " ====== emulation ======\n",
      "Non-Adversarial Set accuracy: 0.9532687049465572\n",
      "Adversarial Set accuracy:     0.9326373353218991\n",
      "\n",
      " ====== ember_emulation ======\n",
      "Non-Adversarial Set accuracy: 0.9465572955505841\n",
      "Adversarial Set accuracy:     0.9241859308973402\n",
      "\n",
      " ====== malconv_emulation ======\n",
      "Non-Adversarial Set accuracy: 0.9550086999751429\n",
      "Adversarial Set accuracy:     0.926671638081034\n",
      "\n",
      " ====== malconv_ember ======\n",
      "Non-Adversarial Set accuracy: 0.9239373601789709\n",
      "Adversarial Set accuracy:     0.9023117076808352\n",
      "\n",
      " ====== ember_filepaths_emulation ======\n",
      "Non-Adversarial Set accuracy: 0.9445687298036292\n",
      "Adversarial Set accuracy:     0.9420830226199354\n",
      "\n",
      " ====== malconv_filepaths_emulation ======\n",
      "Non-Adversarial Set accuracy: 0.9391001739995029\n",
      "Adversarial Set accuracy:     0.9381058911260254\n",
      "\n",
      " ====== malconv_ember_emulation ======\n",
      "Non-Adversarial Set accuracy: 0.9453144419587373\n",
      "Adversarial Set accuracy:     0.9269202087994034\n",
      "\n",
      " ====== all ======\n",
      "Non-Adversarial Set accuracy: 0.9445687298036292\n",
      "Adversarial Set accuracy:     0.9420830226199354\n"
     ]
    }
   ],
   "source": [
    "def get_metrics_adv_nonadv(model, x_test, y_test, x_adv, y_adv):\n",
    "    probs = model.predict_proba(x_test)[:,1]\n",
    "    probs_adv = model.predict_proba(x_adv)[:,1]\n",
    "    \n",
    "    preds = np.where(probs > 0.5, 1, 0)\n",
    "    preds_adv = np.where(probs_adv > 0.5, 1, 0)\n",
    "\n",
    "    print(\"Non-Adversarial Set accuracy:\", end=\" \")\n",
    "    print(accuracy_score(y_test, preds))\n",
    "    #print(classification_report(y_test, preds, zero_division=0))\n",
    "    \n",
    "    print(\"Adversarial Set accuracy:\", end=\"     \")\n",
    "    print(accuracy_score(y_adv, preds_adv))\n",
    "    #print(classification_report(y_adv, preds_adv, zero_division=0))\n",
    "    return probs, probs_adv\n",
    "\n",
    "y_adv = np.ones(len(x_adv_malconv))\n",
    "\n",
    "print(\"====== malconv ======\")\n",
    "print(\"Non-Adversarial Set accuracy:\", end=\" \")\n",
    "print(accuracy_score(y_adv, y_malconv_orig_int))\n",
    "print(\"Adversarial Set accuracy:\", end=\"     \")\n",
    "print(accuracy_score(y_adv, y_malconv_adv_int))\n",
    "\n",
    "\n",
    "probbs, probbs_adv = {}, {}\n",
    "for model in models:\n",
    "    x_orig_t = x_malconv_orig[model]\n",
    "    x_adv_t = x_malconv_adv[model]\n",
    "    print(\"\\n\", \"=\"*6, model, \"=\"*6)\n",
    "    probbs[model], probbs_adv[model] = get_metrics_adv_nonadv(models[model], x_orig_t, y_adv, x_adv_t, y_adv)\n",
    "    # get_metrics_adv_nonadv(models[model], x_test_t, y_test, x_adv_t, y_adv) if you want against full set"
   ]
  },
  {
   "cell_type": "code",
   "execution_count": 50,
   "metadata": {},
   "outputs": [
    {
     "name": "stdout",
     "output_type": "stream",
     "text": [
      " 0: malconv classifies as benign in orig malware set\n",
      " 2376: malconv classifies as benign in adversarial malware set\n",
      " 2376, 59.06%: evasive samples and ratio against malconv \n",
      "\n",
      " 290: ember classifies as benign in orig malware set\n",
      " 413: ember classifies as benign in adversarial malware set\n",
      " 123, 3.06%: evasive samples and ratio against ember \n",
      "\n",
      " 257: filepaths classifies as benign in orig malware set\n",
      " 257: filepaths classifies as benign in adversarial malware set\n",
      " 0, 0.00%: evasive samples and ratio against filepaths \n",
      "\n",
      " 188: emulation classifies as benign in orig malware set\n",
      " 271: emulation classifies as benign in adversarial malware set\n",
      " 83, 2.06%: evasive samples and ratio against emulation \n",
      "\n",
      " 215: ember_emulation classifies as benign in orig malware set\n",
      " 305: ember_emulation classifies as benign in adversarial malware set\n",
      " 90, 2.24%: evasive samples and ratio against ember_emulation \n",
      "\n",
      " 181: malconv_emulation classifies as benign in orig malware set\n",
      " 295: malconv_emulation classifies as benign in adversarial malware set\n",
      " 114, 2.83%: evasive samples and ratio against malconv_emulation \n",
      "\n",
      " 306: malconv_ember classifies as benign in orig malware set\n",
      " 393: malconv_ember classifies as benign in adversarial malware set\n",
      " 87, 2.16%: evasive samples and ratio against malconv_ember \n",
      "\n",
      " 223: ember_filepaths_emulation classifies as benign in orig malware set\n",
      " 233: ember_filepaths_emulation classifies as benign in adversarial malware set\n",
      " 10, 0.25%: evasive samples and ratio against ember_filepaths_emulation \n",
      "\n",
      " 245: malconv_filepaths_emulation classifies as benign in orig malware set\n",
      " 249: malconv_filepaths_emulation classifies as benign in adversarial malware set\n",
      " 4, 0.10%: evasive samples and ratio against malconv_filepaths_emulation \n",
      "\n",
      " 220: malconv_ember_emulation classifies as benign in orig malware set\n",
      " 294: malconv_ember_emulation classifies as benign in adversarial malware set\n",
      " 74, 1.84%: evasive samples and ratio against malconv_ember_emulation \n",
      "\n",
      " 223: all classifies as benign in orig malware set\n",
      " 233: all classifies as benign in adversarial malware set\n",
      " 10, 0.25%: evasive samples and ratio against all \n",
      "\n"
     ]
    }
   ],
   "source": [
    "print(f\" {((y_malconv_orig_int).astype(int) == 0).sum()}: malconv classifies as benign in orig malware set\")\n",
    "print(f\" {((y_malconv_adv_int).astype(int) == 0).sum()}: malconv classifies as benign in adversarial malware set\")\n",
    "evasive = ((y_malconv_adv_int).astype(int) == 0).sum() - ((y_malconv_orig_int).astype(int) == 0).sum()\n",
    "evasive_ratio = evasive*100/len(y_malconv_adv_int)\n",
    "print(f\" {evasive}, {evasive_ratio:.2f}%: evasive samples and ratio against malconv \")\n",
    "print()\n",
    "\n",
    "for model in models:\n",
    "    orig_benign = ((probbs[model] > 0.5).astype(int) == 0).sum()\n",
    "    adv_benign = ((probbs_adv[model] > 0.5).astype(int) == 0).sum()\n",
    "    evasive = adv_benign - orig_benign\n",
    "    evasive_ratio = evasive*100/len(probbs[model])\n",
    "    print(f\" {orig_benign}: {model} classifies as benign in orig malware set\")\n",
    "    print(f\" {adv_benign}: {model} classifies as benign in adversarial malware set\")\n",
    "    print(f\" {evasive}, {evasive_ratio:.2f}%: evasive samples and ratio against {model} \")\n",
    "    print()"
   ]
  },
  {
   "cell_type": "markdown",
   "metadata": {},
   "source": [
    "# Compare each module separately - adversarial vs non adversarial\n",
    "\n",
    "## Possible only if - ROC evaluation if forming a validation set with benign latels, but replacing successful adversarial samples"
   ]
  },
  {
   "cell_type": "code",
   "execution_count": 88,
   "metadata": {},
   "outputs": [],
   "source": [
    "modulelist = [[\"malconv\"], [\"ember\"], [\"emulation\"], [\"malconv\", \"ember\", \"filepaths\", \"emulation\"]]\n",
    "mmodels = {}\n",
    "for x in modulelist:\n",
    "    key = \"_\".join(x)\n",
    "    if key == \"malconv_ember_filepaths_emulation\":\n",
    "        key = \"All\"\n",
    "    mmodels[key] = models[key]\n",
    "\n",
    "def evaluate_adversarial_robustness(models, x_tests, x_tests_adv, y_test, y_test_adv, ax=None):\n",
    "    probs = {}\n",
    "    probs_adv = {}\n",
    "\n",
    "    model = \"No Skill\"\n",
    "    most_common_label = np.argmax(np.bincount(y_test.astype(int)))\n",
    "    probs[model] = np.array([most_common_label for _ in range(len(y_test))], dtype=int)\n",
    "    probs_adv[model] = np.array([most_common_label for _ in range(len(y_test_adv))], dtype=int)\n",
    "    \n",
    "    _, ax = plt.subplots(2, 2, figsize=(14,12))\n",
    "    ax_idx = {0: [0,0], 1: [0,1], 2: [1,0], 3:[1,1], 4:[2,0], 5:[2,1]}\n",
    "    \n",
    "    for i, model in enumerate(models):\n",
    "        i1, i2 = ax_idx[i][0],ax_idx[i][1]\n",
    "        probs[model] = models[model].predict_proba(x_tests[model])[:,1]\n",
    "        probs_adv[model] = models[model].predict_proba(x_tests_adv[model])[:,1]\n",
    "        # preds = np.where(probs[model] > 0.5, 1, 0)\n",
    "        # preds_adv = np.where(probs_adv[model] > 0.5, 1, 0)\n",
    "        \n",
    "        fpr, tpr, _ = roc_curve(y_test, probs[model])\n",
    "        fpr_adv, tpr_adv, _ = roc_curve(y_test_adv, probs_adv[model])\n",
    "        # plot the roc curve for the model\n",
    "        linestyle = \"--\" if model == \"No Skill\" else \"solid\"\n",
    "        ax[i1,i2].plot(fpr, tpr, linestyle=linestyle, label=model)\n",
    "        ax[i1,i2].plot(fpr_adv, tpr_adv, linestyle=linestyle, label=model)\n",
    "        # axis labels\n",
    "        ax[i1,i2].set_xlabel('False Positive Rate')\n",
    "        ax[i1,i2].set_ylabel('True Positive Rate')\n",
    "        ax[i1,i2].title.set_text(model)\n",
    "        _ = ax[i1,i2].legend([\"regular\", \"adversarial\"])\n",
    "        # TBD - set legend position"
   ]
  },
  {
   "cell_type": "code",
   "execution_count": 89,
   "metadata": {},
   "outputs": [
    {
     "data": {
      "image/png": "[encoded data removed]",
      "text/plain": [
       "<Figure size 1008x864 with 4 Axes>"
      ]
     },
     "metadata": {},
     "output_type": "display_data"
    }
   ],
   "source": [
    "evaluate_adversarial_robustness(mmodels, x_tests, x_tests_adv, y_test, y_test_adv)"
   ]
  }
 ],
 "metadata": {
  "interpreter": {
   "hash": "31f2aee4e71d21fbe5cf8b01ff0e069b9275f58929596ceb00d14d90e3e16cd6"
  },
  "kernelspec": {
   "display_name": "Python 3.6.8 64-bit",
   "language": "python",
   "name": "python3"
  },
  "language_info": {
   "codemirror_mode": {
    "name": "ipython",
    "version": 3
   },
   "file_extension": ".py",
   "mimetype": "text/x-python",
   "name": "python",
   "nbconvert_exporter": "python",
   "pygments_lexer": "ipython3",
   "version": "3.6.8"
  },
  "orig_nbformat": 4
 },
 "nbformat": 4,
 "nbformat_minor": 2
}
