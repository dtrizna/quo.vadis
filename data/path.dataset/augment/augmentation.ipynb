{
 "cells": [
  {
   "cell_type": "code",
   "execution_count": 1,
   "metadata": {},
   "outputs": [],
   "source": [
    "import string, random\n",
    "\n",
    "MALICIOUS_FILES_EXT = [\"ps1\", \"dll\", \"exe\", \"hta\", \"bat\", \"vbs\", \"vbe\", \"js\", \"iso\"]\n",
    "MALICIOUS_DOCS_EXT = [\"docm\", \"xlsm\"]\n",
    "\n",
    "WORLD_WRITABLE_DIRECTORIES = [\n",
    "    \"C:\\\\Windows\\\\Tasks\",\n",
    "    \"C:\\\\Windows\\\\Temp\",\n",
    "    \"C:\\\\Windows\\\\Tracing\",\n",
    "    \"C:\\\\Windows\\\\System32\\\\Spool\\\\Drivers\\\\color\",\n",
    "    \"C:\\\\Windows\\\\Registration\\\\CRMLog\"\n",
    "]\n",
    "\n",
    "SUSPICIOUS_LNK_DIRECTORIES = [\n",
    "    \"C:\\\\ProgramData\\\\Microsoft\\\\Windows\\\\Start Menu\\\\Programs\\\\StartUp\",\n",
    "    \"C:\\\\Users\\\\myuser\\\\AppData\\\\Roaming\\\\\\Microsoft\\\\Windows\\\\Start Menu\\\\Programs\\\\Startup\"\n",
    "]\n",
    "\n",
    "SUSPICIOUS_USER_DIRECTORIES = [\n",
    "    \"C:\\\\Users\\\\myuser\",\n",
    "    \"C:\\\\Users\\\\myuser\\\\Documents\",\n",
    "    \"C:\\\\Users\\\\myuser\\\\AppData\",\n",
    "    \"C:\\\\Users\\\\myuser\\\\AppData\\\\Local\",\n",
    "    \"C:\\\\Users\\\\myuser\\\\AppData\\\\Local\\\\Temp\",\n",
    "    \"C:\\\\Users\\\\myuser\\\\AppData\\\\Roaming\",\n",
    "    \"C:\\\\Users\\\\myuser\\\\AppData\\\\Roaming\\\\\\Microsoft\\\\Windows\\\\\",\n",
    "    \"C:\\\\Users\\\\myuser\\\\AppData\\\\Roaming\\\\\\Microsoft\\\\Windows\\\\Start Menu\"\n",
    "]\n",
    "\n",
    "SUSPICIOUS_SYSTEM_DIRECTORIES = [\n",
    "    \"C:\\\\Windows\",\n",
    "    \"C:\\\\ProgramData\"\n",
    "]\n",
    "\n",
    "FOLDERS = [\"Downloads\", \"Desktop\", \"Documents\"]\n",
    "USUAL_FOLDERS = [\"C:\\\\Users\\\\myuser\\\\\" + folder for folder in FOLDERS]\n",
    "\n",
    "def get_file_name(a):\n",
    "    return a.split(\"\\\\\")[-1].strip()\n",
    "\n",
    "def change_extension(a, newext):\n",
    "    return ''.join(a.split(\".\")[:-1]) + \".\" + newext\n",
    "\n",
    "with open(\"../dataset_win10_fullfilesystem.txt\") as f:\n",
    "    win10 = f.readlines()\n",
    "\n",
    "with open(\"../dataset_smbmap_cleaned.txt\") as f:\n",
    "    temp = f.readlines()\n",
    "    smbmap = [x.strip() for x in temp]\n",
    "\n",
    "syswow64 = [x for x in win10 if \"C:\\\\Windows\\\\SysWOW64\\\\\" in x]\n",
    "all_syswow64_files = list(set([get_file_name(x) for x in syswow64]))\n",
    "pe_syswow64_files = [x for x in all_syswow64_files if (x.endswith(\"dll\") or x.endswith(\"exe\"))]\n",
    "\n",
    "system32 = [x for x in win10 if \"C:\\\\Windows\\\\System32\\\\\" in x]\n",
    "all_system32_files = list(set([get_file_name(x) for x in system32]))\n",
    "pe_system32_files = [x for x in all_system32_files if (x.endswith(\"dll\") or x.endswith(\"exe\"))]\n",
    "\n",
    "doc_files = [x for x in smbmap if (x.endswith(\"doc\") or x.endswith(\"docx\") or x.endswith(\"xls\") or x.endswith(\"xlsx\"))]\n",
    "all_doc_files = list(set([get_file_name(x) for x in doc_files]))\n",
    "\n",
    "exe_files = [x for x in smbmap if x.endswith(\"exe\")]\n",
    "all_exe_files = list(set([get_file_name(x) for x in exe_files]))"
   ]
  },
  {
   "cell_type": "code",
   "execution_count": 2,
   "metadata": {},
   "outputs": [],
   "source": [
    "malicious = []\n",
    "\n",
    "wow_not_system = [x for x in all_syswow64_files if x not in all_system32_files and (x.endswith(\"dll\") or x.endswith(\"exe\"))]\n",
    "malicious.extend([\"C:\\\\Windows\\\\System32\\\\\"+x for x in wow_not_system])\n",
    "\n",
    "system_not_wow = [x for x in all_system32_files if x not in all_syswow64_files and (x.endswith(\"dll\") or x.endswith(\"exe\"))]\n",
    "malicious.extend([\"C:\\\\Windows\\\\SysWOW64\\\\\"+x for x in system_not_wow])\n",
    "\n",
    "# exe hidden as dlls and vice versa\n",
    "malicious.extend([\"C:\\\\Windows\\\\System32\\\\\" + change_extension(x, \"dll\") for x in pe_system32_files if x.endswith(\"exe\") and change_extension(x, \"dll\") not in pe_system32_files] + \\\n",
    "                [\"C:\\\\Windows\\\\System32\\\\\" + change_extension(x, \"exe\") for x in pe_system32_files if x.endswith(\"dll\") and change_extension(x, \"exe\") not in pe_system32_files] + \\\n",
    "                [\"C:\\\\Windows\\\\SysWOW64\\\\\"+change_extension(x, \"dll\") for x in pe_syswow64_files if x.endswith(\"exe\") and change_extension(x, \"dll\") not in pe_syswow64_files] + \\\n",
    "                [\"C:\\\\Windows\\\\SysWOW64\\\\\"+change_extension(x, \"exe\") for x in pe_syswow64_files if x.endswith(\"dll\") and change_extension(x, \"exe\") not in pe_syswow64_files])\n",
    "\n",
    "# DLL order hijacking, SYSTEM persistence, etc. malware\n",
    "for file in all_exe_files + pe_system32_files + wow_not_system:\n",
    "    malicious.extend([folder + \"\\\\\" + file for folder in WORLD_WRITABLE_DIRECTORIES + SUSPICIOUS_USER_DIRECTORIES + SUSPICIOUS_SYSTEM_DIRECTORIES + USUAL_FOLDERS])\n",
    "\n",
    "for file in all_exe_files + pe_system32_files + pe_syswow64_files:\n",
    "    malicious.extend([folder + \"\\\\\" + change_extension(file, \"lnk\") for folder in SUSPICIOUS_LNK_DIRECTORIES])\n"
   ]
  },
  {
   "cell_type": "code",
   "execution_count": 3,
   "metadata": {},
   "outputs": [],
   "source": [
    "# generating suspicious names\n",
    "SUSPICIOUS_NAMES = [\"invoice\", \"transaction\", \"report\", \"payment\", \"sales\", \"review\", \"msf\", \"revision\", \"cv\", \"resume\"]\n",
    "YEARS = [\"2021\", \"2020\", \"2022\"]\n",
    "\n",
    "simple_names = [year + \"_\" + name for year in YEARS for name in SUSPICIOUS_NAMES]\n",
    "simple_names.extend([name + \"_\" + year for year in YEARS for name in SUSPICIOUS_NAMES])\n",
    "\n",
    "# applying names to suspicious docs\n",
    "SUSPICIOUS_DOC_NAMES = []\n",
    "for name in simple_names + SUSPICIOUS_NAMES:\n",
    "    SUSPICIOUS_DOC_NAMES.extend([name + \".\" + ext for ext in MALICIOUS_DOCS_EXT])\n",
    "\n",
    "for name in SUSPICIOUS_DOC_NAMES:\n",
    "    malicious.extend([folder + \"\\\\\" + name for folder in USUAL_FOLDERS])\n",
    "\n",
    "# applying names to suspicious launchers\n",
    "SUSPICIOUS_LAUNCHER_NAMES = []\n",
    "for name in simple_names + SUSPICIOUS_NAMES:\n",
    "    SUSPICIOUS_LAUNCHER_NAMES.extend([name + \".\" + ext for ext in MALICIOUS_FILES_EXT])\n",
    "\n",
    "for name in SUSPICIOUS_LAUNCHER_NAMES:\n",
    "    malicious.extend([folder + \"\\\\\" + name for folder in SUSPICIOUS_USER_DIRECTORIES])"
   ]
  },
  {
   "cell_type": "code",
   "execution_count": 4,
   "metadata": {},
   "outputs": [],
   "source": [
    "MACRO_DOCS = []\n",
    "for doc in all_doc_files:\n",
    "    MACRO_DOCS.extend([change_extension(doc, ext) for ext in MALICIOUS_DOCS_EXT])\n",
    "\n",
    "for doc in MACRO_DOCS:\n",
    "    malicious.extend([folder + \"\\\\\" + doc for folder in USUAL_FOLDERS])"
   ]
  },
  {
   "cell_type": "code",
   "execution_count": 5,
   "metadata": {},
   "outputs": [],
   "source": [
    "# applying RANDOM names to suspicious launchers\n",
    "RANDOM_NAMES = [''.join(random.choices(string.ascii_uppercase + string.ascii_lowercase, k=8)) for _ in range(500)]\n",
    "\n",
    "SUSPICIOUS_LAUNCHER = []\n",
    "for name in RANDOM_NAMES:\n",
    "    SUSPICIOUS_LAUNCHER.extend([name + \".\" + ext for ext in MALICIOUS_FILES_EXT])\n",
    "\n",
    "for name in SUSPICIOUS_LAUNCHER:\n",
    "    malicious.extend([folder + \"\\\\\" + name for folder in SUSPICIOUS_USER_DIRECTORIES])"
   ]
  },
  {
   "cell_type": "code",
   "execution_count": 6,
   "metadata": {},
   "outputs": [
    {
     "name": "stdout",
     "output_type": "stream",
     "text": [
      "224280\n"
     ]
    }
   ],
   "source": [
    "print(len(malicious))\n",
    "with open(\"../dataset_malicious_augumented.txt\", \"w\") as f:\n",
    "    f.writelines([x+\"\\n\" for x in malicious])"
   ]
  }
 ],
 "metadata": {
  "interpreter": {
   "hash": "31f2aee4e71d21fbe5cf8b01ff0e069b9275f58929596ceb00d14d90e3e16cd6"
  },
  "kernelspec": {
   "display_name": "Python 3.6.8 64-bit",
   "language": "python",
   "name": "python3"
  },
  "language_info": {
   "codemirror_mode": {
    "name": "ipython",
    "version": 3
   },
   "file_extension": ".py",
   "mimetype": "text/x-python",
   "name": "python",
   "nbconvert_exporter": "python",
   "pygments_lexer": "ipython3",
   "version": "3.6.8"
  },
  "orig_nbformat": 4
 },
 "nbformat": 4,
 "nbformat_minor": 2
}
