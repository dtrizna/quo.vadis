{
 "cells": [
  {
   "cell_type": "code",
   "execution_count": 96,
   "metadata": {},
   "outputs": [],
   "source": [
    "import os\n",
    "\n",
    "import matplotlib.pyplot as plt\n",
    "import seaborn as sns\n",
    "sns.set()\n",
    "\n",
    "import pandas as pd\n",
    "import numpy as np"
   ]
  },
  {
   "cell_type": "code",
   "execution_count": 69,
   "metadata": {},
   "outputs": [
    {
     "data": {
      "text/html": [
       "<div>\n",
       "<style scoped>\n",
       "    .dataframe tbody tr th:only-of-type {\n",
       "        vertical-align: middle;\n",
       "    }\n",
       "\n",
       "    .dataframe tbody tr th {\n",
       "        vertical-align: top;\n",
       "    }\n",
       "\n",
       "    .dataframe thead th {\n",
       "        text-align: right;\n",
       "    }\n",
       "</style>\n",
       "<table border=\"1\" class=\"dataframe\">\n",
       "  <thead>\n",
       "    <tr style=\"text-align: right;\">\n",
       "      <th></th>\n",
       "      <th>clean</th>\n",
       "      <th>trojan</th>\n",
       "      <th>dropper</th>\n",
       "      <th>backdoor</th>\n",
       "      <th>ransomware</th>\n",
       "      <th>rat</th>\n",
       "      <th>coinminer</th>\n",
       "      <th>keylogger</th>\n",
       "    </tr>\n",
       "  </thead>\n",
       "  <tbody>\n",
       "    <tr>\n",
       "      <th>success</th>\n",
       "      <td>25291</td>\n",
       "      <td>12780</td>\n",
       "      <td>11150</td>\n",
       "      <td>11062</td>\n",
       "      <td>9627</td>\n",
       "      <td>9479</td>\n",
       "      <td>6893</td>\n",
       "      <td>4574</td>\n",
       "    </tr>\n",
       "    <tr>\n",
       "      <th>errors</th>\n",
       "      <td>569</td>\n",
       "      <td>347</td>\n",
       "      <td>124</td>\n",
       "      <td>26</td>\n",
       "      <td>386</td>\n",
       "      <td>57</td>\n",
       "      <td>2971</td>\n",
       "      <td>3034</td>\n",
       "    </tr>\n",
       "  </tbody>\n",
       "</table>\n",
       "</div>"
      ],
      "text/plain": [
       "         clean  trojan  dropper  backdoor  ransomware   rat  coinminer  \\\n",
       "success  25291   12780    11150     11062        9627  9479       6893   \n",
       "errors     569     347      124        26         386    57       2971   \n",
       "\n",
       "         keylogger  \n",
       "success       4574  \n",
       "errors        3034  "
      ]
     },
     "execution_count": 69,
     "metadata": {},
     "output_type": "execute_result"
    }
   ],
   "source": [
    "err_stats = {}\n",
    "for folder in os.listdir(\"..\"):\n",
    "    if folder.startswith(\"report_\"):\n",
    "        ttype = folder.split(\"_\")[1]\n",
    "\n",
    "        files = os.listdir(\"../\"+folder)\n",
    "        success = [x for x in files if x.endswith(\"json\")]\n",
    "        err = [x for x in files if x.endswith(\"err\")]\n",
    "        \n",
    "        err_stats[ttype] = [len(success), len(err)]\n",
    "\n",
    "df = pd.DataFrame(err_stats, index=[\"success\", \"errors\"])\n",
    "df.sort_values(\"success\", axis=1, ascending=False, inplace=True)\n",
    "df"
   ]
  },
  {
   "cell_type": "code",
   "execution_count": 195,
   "metadata": {},
   "outputs": [
    {
     "data": {
      "image/png": "[encoded data removed]",
      "text/plain": [
       "<Figure size 936x432 with 2 Axes>"
      ]
     },
     "metadata": {},
     "output_type": "display_data"
    }
   ],
   "source": [
    "fig, ax = plt.subplots(1, 2, gridspec_kw={\"width_ratios\": [10,1]}, figsize=(13, 6))\n",
    "\n",
    "success = df.loc[\"success\"]\n",
    "errors = df.loc[\"errors\"]\n",
    "\n",
    "ax[0].bar(x=[\"benign\"]+ success.index[1:].tolist(), height=success.values)\n",
    "ax[0].bar(x=[\"benign\"]+ errors.index[1:].tolist(), height=errors.values, bottom=success.values)\n",
    "ax[0].set_title(\"Emulation success and error counts per malware family\", fontsize=12)\n",
    "ax[0].legend([\"success\", \"errors\"])\n",
    "\n",
    "total = df.sum(axis=1)\n",
    "success_percentage = total[\"success\"]/total.sum()\n",
    "error_percentage = total[\"errors\"]/total.sum()\n",
    "\n",
    "ax[1].bar(x=\"total\", height=success_percentage, width=0.4)\n",
    "ax[1].bar(x=\"total\", height=error_percentage, bottom=success_percentage, width=0.4)\n",
    "_ = ax[1].set_title(\"Ratio\", fontsize=12)\n",
    "#ax[1].yaxis.set_label_position(\"right\")\n",
    "#ax[1].yaxis.tick_right()"
   ]
  },
  {
   "cell_type": "code",
   "execution_count": null,
   "metadata": {},
   "outputs": [],
   "source": []
  }
 ],
 "metadata": {
  "interpreter": {
   "hash": "31f2aee4e71d21fbe5cf8b01ff0e069b9275f58929596ceb00d14d90e3e16cd6"
  },
  "kernelspec": {
   "display_name": "Python 3",
   "language": "python",
   "name": "python3"
  },
  "language_info": {
   "codemirror_mode": {
    "name": "ipython",
    "version": 3
   },
   "file_extension": ".py",
   "mimetype": "text/x-python",
   "name": "python",
   "nbconvert_exporter": "python",
   "pygments_lexer": "ipython3",
   "version": "3.6.8"
  }
 },
 "nbformat": 4,
 "nbformat_minor": 2
}
