{
 "cells": [
  {
   "cell_type": "code",
   "execution_count": 27,
   "metadata": {},
   "outputs": [],
   "source": [
    "import pandas as pd\n",
    "import numpy as np\n",
    "import sys\n",
    "import os\n",
    "\n",
    "from collections import Counter\n",
    "\n",
    "import matplotlib.pyplot as plt\n",
    "import seaborn as sns\n",
    "sns.set()\n",
    "\n",
    "sys.path.append(\"..\")\n",
    "from utils.functions import flatten\n",
    "\n",
    "from reports import report_to_apiseq"
   ]
  },
  {
   "cell_type": "code",
   "execution_count": 28,
   "metadata": {},
   "outputs": [],
   "source": [
    "REPORT_FOLDER = \"/data/quo.vadis/modules/morbus.certatio/emulation/report_ransomware/\"\n",
    "report_files = os.listdir(REPORT_FOLDER)\n",
    "df = pd.DataFrame([report_to_apiseq(REPORT_FOLDER + file) for file in report_files])\n"
   ]
  },
  {
   "cell_type": "code",
   "execution_count": 29,
   "metadata": {},
   "outputs": [
    {
     "name": "stdout",
     "output_type": "stream",
     "text": [
      "(472, 3)\n"
     ]
    },
    {
     "data": {
      "text/html": [
       "<div>\n",
       "<style scoped>\n",
       "    .dataframe tbody tr th:only-of-type {\n",
       "        vertical-align: middle;\n",
       "    }\n",
       "\n",
       "    .dataframe tbody tr th {\n",
       "        vertical-align: top;\n",
       "    }\n",
       "\n",
       "    .dataframe thead th {\n",
       "        text-align: right;\n",
       "    }\n",
       "</style>\n",
       "<table border=\"1\" class=\"dataframe\">\n",
       "  <thead>\n",
       "    <tr style=\"text-align: right;\">\n",
       "      <th></th>\n",
       "      <th>sha256</th>\n",
       "      <th>api.seq</th>\n",
       "      <th>api.seq.len</th>\n",
       "    </tr>\n",
       "  </thead>\n",
       "  <tbody>\n",
       "    <tr>\n",
       "      <th>0</th>\n",
       "      <td>9561c80c2638c20deaa2d101d6997cd7b91db9a4277729...</td>\n",
       "      <td>[user32.GetFocus, user32.GetFocus]</td>\n",
       "      <td>2</td>\n",
       "    </tr>\n",
       "    <tr>\n",
       "      <th>1</th>\n",
       "      <td>3b969010058e16982fb4aa22ee0babf29bbb6b6608cc51...</td>\n",
       "      <td>[kernel32.GetVolumeInformation, kernel32.GetVe...</td>\n",
       "      <td>180</td>\n",
       "    </tr>\n",
       "    <tr>\n",
       "      <th>2</th>\n",
       "      <td>f3e1570d8447ab89e6b7341acfee122152181f7bca7f23...</td>\n",
       "      <td>[user32.GetClipboardSequenceNumber, kernel32.G...</td>\n",
       "      <td>2</td>\n",
       "    </tr>\n",
       "    <tr>\n",
       "      <th>3</th>\n",
       "      <td>24c3804ea876f04eb4e456d9441ddbc1b01221e2258785...</td>\n",
       "      <td>[kernel32.GetVolumeInformation, kernel32.GetVe...</td>\n",
       "      <td>191</td>\n",
       "    </tr>\n",
       "    <tr>\n",
       "      <th>4</th>\n",
       "      <td>a17ba624dde55567623ffb0bf9c8a0eb4b381f26c70a24...</td>\n",
       "      <td>[kernel32.GetVolumeInformation, kernel32.GetVe...</td>\n",
       "      <td>180</td>\n",
       "    </tr>\n",
       "  </tbody>\n",
       "</table>\n",
       "</div>"
      ],
      "text/plain": [
       "                                              sha256  \\\n",
       "0  9561c80c2638c20deaa2d101d6997cd7b91db9a4277729...   \n",
       "1  3b969010058e16982fb4aa22ee0babf29bbb6b6608cc51...   \n",
       "2  f3e1570d8447ab89e6b7341acfee122152181f7bca7f23...   \n",
       "3  24c3804ea876f04eb4e456d9441ddbc1b01221e2258785...   \n",
       "4  a17ba624dde55567623ffb0bf9c8a0eb4b381f26c70a24...   \n",
       "\n",
       "                                             api.seq  api.seq.len  \n",
       "0                 [user32.GetFocus, user32.GetFocus]            2  \n",
       "1  [kernel32.GetVolumeInformation, kernel32.GetVe...          180  \n",
       "2  [user32.GetClipboardSequenceNumber, kernel32.G...            2  \n",
       "3  [kernel32.GetVolumeInformation, kernel32.GetVe...          191  \n",
       "4  [kernel32.GetVolumeInformation, kernel32.GetVe...          180  "
      ]
     },
     "execution_count": 29,
     "metadata": {},
     "output_type": "execute_result"
    }
   ],
   "source": [
    "print(df.shape)\n",
    "df.head()"
   ]
  },
  {
   "cell_type": "code",
   "execution_count": 6,
   "metadata": {},
   "outputs": [
    {
     "data": {
      "image/png": "[encoded data removed]",
      "text/plain": [
       "<Figure size 576x432 with 1 Axes>"
      ]
     },
     "metadata": {},
     "output_type": "display_data"
    }
   ],
   "source": [
    "api_counter = Counter(list(flatten(df[\"api.seq\"].values)))\n",
    "\n",
    "plt.figure(figsize=(8,6))\n",
    "plt.plot([x[1] for x in api_counter.most_common()])\n",
    "plt.ylabel(\"frequency (log)\")\n",
    "plt.xlabel(\"individual API calls\")\n",
    "plt.yscale(\"log\")"
   ]
  },
  {
   "cell_type": "code",
   "execution_count": 7,
   "metadata": {},
   "outputs": [
    {
     "data": {
      "text/plain": [
       "[('kernel32.GetProcAddress', 34179),\n",
       " ('KERNEL32.GetCPInfoExW', 18442),\n",
       " ('KERNEL32.InitAtomTable', 18252),\n",
       " ('USER32.DdeClientTransaction', 18252),\n",
       " ('KERNEL32.GetQueuedCompletionStatus', 18252),\n",
       " ('KERNEL32.TlsGetValue', 1744),\n",
       " ('kernel32.VirtualAlloc', 1474),\n",
       " ('MSVCRT._beginthreadex', 1419),\n",
       " ('kernel32.LoadLibraryA', 1311),\n",
       " ('kernel32.FlsGetValue', 1223),\n",
       " ('KERNEL32.CloseHandle', 1158),\n",
       " ('KERNEL32.GetTickCount', 1111),\n",
       " ('KERNEL32.GetProcAddress', 1022),\n",
       " ('kernel32.InitializeCriticalSectionEx', 1019),\n",
       " ('MSVCRT.memcmp', 938)]"
      ]
     },
     "execution_count": 7,
     "metadata": {},
     "output_type": "execute_result"
    }
   ],
   "source": [
    "api_counter.most_common(15)"
   ]
  },
  {
   "cell_type": "code",
   "execution_count": 8,
   "metadata": {},
   "outputs": [],
   "source": [
    "lengths = df[\"api.seq.len\"].value_counts().sort_index()\n",
    "lengths[500] = lengths[lengths.index >= 500].sum()\n",
    "lengths = lengths[lengths.index <= 500]"
   ]
  },
  {
   "cell_type": "code",
   "execution_count": 9,
   "metadata": {},
   "outputs": [
    {
     "data": {
      "image/png": "[encoded data removed]",
      "text/plain": [
       "<Figure size 864x432 with 1 Axes>"
      ]
     },
     "metadata": {},
     "output_type": "display_data"
    }
   ],
   "source": [
    "plt.figure(figsize=(12,6))\n",
    "sns.barplot(x=lengths.index, y=lengths.values, palette=\"viridis\")\n",
    "plt.yscale(\"log\")\n",
    "plt.ylabel(\"count (log)\")\n",
    "plt.xticks(rotation=45)\n",
    "_ = plt.xlabel(\"API seqence length\")"
   ]
  },
  {
   "cell_type": "code",
   "execution_count": 10,
   "metadata": {},
   "outputs": [
    {
     "name": "stdout",
     "output_type": "stream",
     "text": [
      "Percentage of paths under 200 is: 89.41\n",
      "Percentage of paths under 50 is: 44.07\n",
      "Percentage of paths under 5 is: 41.31\n"
     ]
    }
   ],
   "source": [
    "def get_perc(dff,l):\n",
    "    print(f\"Percentage of paths under {l} is: {(dff['api.seq.len'] < l).sum()*100/dff.shape[0]:.2f}\")\n",
    "\n",
    "get_perc(df, 200)\n",
    "get_perc(df, 50)\n",
    "get_perc(df, 5)"
   ]
  },
  {
   "cell_type": "code",
   "execution_count": 15,
   "metadata": {},
   "outputs": [
    {
     "data": {
      "text/html": [
       "<div>\n",
       "<style scoped>\n",
       "    .dataframe tbody tr th:only-of-type {\n",
       "        vertical-align: middle;\n",
       "    }\n",
       "\n",
       "    .dataframe tbody tr th {\n",
       "        vertical-align: top;\n",
       "    }\n",
       "\n",
       "    .dataframe thead th {\n",
       "        text-align: right;\n",
       "    }\n",
       "</style>\n",
       "<table border=\"1\" class=\"dataframe\">\n",
       "  <thead>\n",
       "    <tr style=\"text-align: right;\">\n",
       "      <th></th>\n",
       "      <th>sha256</th>\n",
       "      <th>api.seq</th>\n",
       "      <th>api.seq.len</th>\n",
       "    </tr>\n",
       "  </thead>\n",
       "  <tbody>\n",
       "    <tr>\n",
       "      <th>189</th>\n",
       "      <td>495d01636159b88a77d69a08536161d0be6faea5e3f4da...</td>\n",
       "      <td>[kernel32.GetUserDefaultUILanguage, kernel32.G...</td>\n",
       "      <td>2</td>\n",
       "    </tr>\n",
       "    <tr>\n",
       "      <th>190</th>\n",
       "      <td>ecd3f70179c31fa152422c61f2cb1a6db04b117592ea7a...</td>\n",
       "      <td>[kernel32.GetProcessHeap, kernel32.GetProcessH...</td>\n",
       "      <td>2</td>\n",
       "    </tr>\n",
       "    <tr>\n",
       "      <th>191</th>\n",
       "      <td>ead58cd978f07fa7db43ac5f839f547a885e85bd460758...</td>\n",
       "      <td>[kernel32.GetCommandLineW, user32.GetCaretBlin...</td>\n",
       "      <td>2</td>\n",
       "    </tr>\n",
       "    <tr>\n",
       "      <th>192</th>\n",
       "      <td>1310c7fe0f4555b8929b7783b606d0f7766af0ec0857eb...</td>\n",
       "      <td>[user32.GetMenuCheckMarkDimensions, user32.Get...</td>\n",
       "      <td>2</td>\n",
       "    </tr>\n",
       "    <tr>\n",
       "      <th>193</th>\n",
       "      <td>c89dc167ddb4efff0b06a7f7722451b6d5f165ef55b0fb...</td>\n",
       "      <td>[kernel32.GetUserDefaultUILanguage, kernel32.G...</td>\n",
       "      <td>2</td>\n",
       "    </tr>\n",
       "  </tbody>\n",
       "</table>\n",
       "</div>"
      ],
      "text/plain": [
       "                                                sha256  \\\n",
       "189  495d01636159b88a77d69a08536161d0be6faea5e3f4da...   \n",
       "190  ecd3f70179c31fa152422c61f2cb1a6db04b117592ea7a...   \n",
       "191  ead58cd978f07fa7db43ac5f839f547a885e85bd460758...   \n",
       "192  1310c7fe0f4555b8929b7783b606d0f7766af0ec0857eb...   \n",
       "193  c89dc167ddb4efff0b06a7f7722451b6d5f165ef55b0fb...   \n",
       "\n",
       "                                               api.seq  api.seq.len  \n",
       "189  [kernel32.GetUserDefaultUILanguage, kernel32.G...            2  \n",
       "190  [kernel32.GetProcessHeap, kernel32.GetProcessH...            2  \n",
       "191  [kernel32.GetCommandLineW, user32.GetCaretBlin...            2  \n",
       "192  [user32.GetMenuCheckMarkDimensions, user32.Get...            2  \n",
       "193  [kernel32.GetUserDefaultUILanguage, kernel32.G...            2  "
      ]
     },
     "execution_count": 15,
     "metadata": {},
     "output_type": "execute_result"
    }
   ],
   "source": [
    "twoapi = df[df[\"api.seq.len\"] == 2].reset_index(drop=True)\n",
    "twoapi.tail()"
   ]
  },
  {
   "cell_type": "code",
   "execution_count": 20,
   "metadata": {},
   "outputs": [
    {
     "data": {
      "text/plain": [
       "[('kernel32.GetUserDefaultUILanguage', 13),\n",
       " ('kernel32.GetConsoleWindow', 12),\n",
       " ('user32.GetMessageExtraInfo', 9),\n",
       " ('user32.GetCaretBlinkTime', 9),\n",
       " ('user32.GetFocus', 8),\n",
       " ('user32.GetClipboardViewer', 7),\n",
       " ('user32.GetCursor', 7),\n",
       " ('user32.GetClipboardSequenceNumber', 7),\n",
       " ('user32.GetOpenClipboardWindow', 7),\n",
       " ('kernel32.GetProcessHeap', 7)]"
      ]
     },
     "execution_count": 20,
     "metadata": {},
     "output_type": "execute_result"
    }
   ],
   "source": [
    "# most common last API in 2 API sequence\n",
    "Counter(list(flatten(twoapi[\"api.seq\"].apply(lambda x: x[1]).values))).most_common(10)"
   ]
  },
  {
   "cell_type": "code",
   "execution_count": null,
   "metadata": {},
   "outputs": [],
   "source": []
  }
 ],
 "metadata": {
  "interpreter": {
   "hash": "31f2aee4e71d21fbe5cf8b01ff0e069b9275f58929596ceb00d14d90e3e16cd6"
  },
  "kernelspec": {
   "display_name": "Python 3.6.8 64-bit",
   "language": "python",
   "name": "python3"
  },
  "language_info": {
   "codemirror_mode": {
    "name": "ipython",
    "version": 3
   },
   "file_extension": ".py",
   "mimetype": "text/x-python",
   "name": "python",
   "nbconvert_exporter": "python",
   "pygments_lexer": "ipython3",
   "version": "3.6.8"
  },
  "orig_nbformat": 4
 },
 "nbformat": 4,
 "nbformat_minor": 2
}
