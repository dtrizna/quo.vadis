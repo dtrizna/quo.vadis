{
 "cells": [
  {
   "cell_type": "code",
   "execution_count": 1,
   "metadata": {},
   "outputs": [],
   "source": [
    "import speakeasy\n",
    "import os\n",
    "import time\n",
    "import pandas as pd\n",
    "import numpy as np\n",
    "from pefile import PEFormatError\n",
    "from unicorn import UcError"
   ]
  },
  {
   "cell_type": "code",
   "execution_count": 2,
   "metadata": {},
   "outputs": [],
   "source": [
    "MALWARE_PATH = \"../../../data/pe.dataset/PeX86Exe/ransomware/\"\n",
    "files = [x for x in os.listdir(MALWARE_PATH)[0:50]]"
   ]
  },
  {
   "cell_type": "code",
   "execution_count": 3,
   "metadata": {},
   "outputs": [
    {
     "name": "stdout",
     "output_type": "stream",
     "text": [
      "0/50, took: 0.00s | 1/50, took: 0.36s | 2/50, took: 0.33s | 3/50, took: 0.97s | 4/50, took: 1.18s | 5/50, took: 0.52s | 6/50, took: 5.98s | 7/50, took: 0.35s | 8/50, took: 0.36s | 9/50, took: 1.22s | 10/50, took: 1.24s | 11/50, took: 60.34s | \n",
      "failed  Invalid memory write (UC_ERR_WRITE_UNMAPPED)\n",
      "12/50, took: 3.23s | 13/50, took: 0.51s | 14/50, took: 0.83s | 15/50, took: 1.09s | 16/50, took: 0.62s | 17/50, took: 1.00s | 18/50, took: 1.00s | 19/50, took: 1.28s | 20/50, took: 6.01s | 21/50, took: 0.34s | 22/50, took: 0.33s | 23/50, took: 0.94s | 24/50, took: 1.06s | 25/50, took: 1.06s | 26/50, took: 1.06s | 27/50, took: 1.30s | 28/50, took: 0.64s | 29/50, took: 0.63s | 30/50, took: 0.35s | 31/50, took: 0.90s | 32/50, took: 0.93s | 33/50, took: 0.34s | 34/50, took: 0.41s | 35/50, took: 1.35s | 36/50, took: 2.37s | 37/50, took: 1.38s | 38/50, took: 0.90s | 39/50, took: 0.89s | 40/50, took: 0.32s | 41/50, took: 0.90s | 42/50, took: 60.35s | 43/50, took: 1.25s | 44/50, took: 0.34s | 45/50, took: 0.33s | 46/50, took: 0.65s | 47/50, took: 0.34s | 48/50, took: 0.40s | 49/50, took: 60.40s | average analysis time per sample: 4.617741932868958\n"
     ]
    }
   ],
   "source": [
    "reports = {}\n",
    "timedeltas = []\n",
    "\n",
    "now = time.time()\n",
    "for i, file in enumerate(files):\n",
    "    # calculations\n",
    "    took = time.time()-now\n",
    "    timedeltas.append(took)\n",
    "    now = time.time()\n",
    "\n",
    "    print(f\"{i}/{len(files)}, took: {took:.2f}s\", end=\" | \")\n",
    "    se = speakeasy.Speakeasy()\n",
    "    try:\n",
    "        module = se.load_module(MALWARE_PATH+file)\n",
    "        se.run_module(module)\n",
    "        reports[file] = se.get_report()\n",
    "    except PEFormatError as ex:\n",
    "        print(\"\\nfailed \", ex)\n",
    "    except UcError as ex:\n",
    "        print(\"\\nfailed \", ex)\n",
    "\n",
    "print(f\"average analysis time per sample: {np.mean(timedeltas)}\")"
   ]
  },
  {
   "cell_type": "code",
   "execution_count": 4,
   "metadata": {},
   "outputs": [],
   "source": [
    "def parse_report(report):\n",
    "    aa = pd.json_normalize(report)\n",
    "    ab = pd.json_normalize(aa[\"entry_points\"].iloc[0])\n",
    "    try:\n",
    "        if ab[\"apis\"].any():\n",
    "            #print(ab[\"apis\"])\n",
    "            ac = pd.json_normalize(ab[\"apis\"].iloc[0])\n",
    "        else:\n",
    "            ac = []\n",
    "    except AttributeError:\n",
    "        ac = []\n",
    "    return aa, ab, ac"
   ]
  },
  {
   "cell_type": "code",
   "execution_count": 5,
   "metadata": {},
   "outputs": [
    {
     "name": "stdout",
     "output_type": "stream",
     "text": [
      "674463fcca9e1b97e7cc935e0cedc625ca6ff882ffd1dc616495faf990d4541c  :  unsupported_api\n",
      "4b18b54359fa9fa61e02d03b494a7b9219388706e74094c1875e47d45ad94f24  :  unsupported_api\n",
      "24c3804ea876f04eb4e456d9441ddbc1b01221e2258785fc506531751979a932  :  Failed to get character width from function: kernel32.GetVolumeInformation\n",
      "e347a3172a900049c0821cab63f2c1b2fa32e0dfe55756565cacf0e5c573814b  :  Failed to get character width from function: kernel32.GetVolumeInformation\n",
      "0029608fc206f08ed0ec885ab4f4e1ee464d72fe2e64c88d4acc74995942c473  :  Failed to get character width from function: kernel32.GetVolumeInformation\n",
      "b1e1e7cbf94860163175afcfd6f552c6889a84d1e85feb57fc9c3995a1e5a240  :  Failed to get character width from function: kernel32.GetVolumeInformation\n",
      "83c1c86d504b6826d020b257ab6b1c92b7c933545b2a343b04ad0f4c00c4f50d  :  unsupported_api\n",
      "a36d4def03d168536434e86e96e472fbde458e5c3653b422005271f0e62a8621  :  unsupported_api\n",
      "4a56c52a5d1688daf221aa1ee6e344a36d86d5f6dae972db41c890352b75e9d2  :  Failed to get character width from function: kernel32.GetVolumeInformation\n",
      "af8bab460200666bf5bf26bb2ebabd4715abde5f80c1971971a37de3f062afa7  :  Failed to get character width from function: kernel32.GetVolumeInformation\n",
      "b6560893a0aaba8ca76c3edc76fa3b03441132865e091d91d0aaf6e336e608a2  : success\n"
     ]
    },
    {
     "ename": "KeyError",
     "evalue": "'bc9358a81b5cec7210210c7861aae2dda1e9652640a1a0bcd438f433ece4fcc0'",
     "output_type": "error",
     "traceback": [
      "\u001b[0;31m---------------------------------------------------------------------------\u001b[0m",
      "\u001b[0;31mKeyError\u001b[0m                                  Traceback (most recent call last)",
      "\u001b[0;32m<ipython-input-5-8fb9685ba5ed>\u001b[0m in \u001b[0;36m<module>\u001b[0;34m\u001b[0m\n\u001b[1;32m      1\u001b[0m \u001b[0;32mfor\u001b[0m \u001b[0mi\u001b[0m\u001b[0;34m,\u001b[0m\u001b[0mf\u001b[0m \u001b[0;32min\u001b[0m \u001b[0menumerate\u001b[0m\u001b[0;34m(\u001b[0m\u001b[0mfiles\u001b[0m\u001b[0;34m)\u001b[0m\u001b[0;34m:\u001b[0m\u001b[0;34m\u001b[0m\u001b[0;34m\u001b[0m\u001b[0m\n\u001b[0;32m----> 2\u001b[0;31m     \u001b[0ma\u001b[0m\u001b[0;34m,\u001b[0m \u001b[0mb\u001b[0m\u001b[0;34m,\u001b[0m \u001b[0mc\u001b[0m \u001b[0;34m=\u001b[0m \u001b[0mparse_report\u001b[0m\u001b[0;34m(\u001b[0m\u001b[0mreports\u001b[0m\u001b[0;34m[\u001b[0m\u001b[0mf\u001b[0m\u001b[0;34m]\u001b[0m\u001b[0;34m)\u001b[0m\u001b[0;34m\u001b[0m\u001b[0;34m\u001b[0m\u001b[0m\n\u001b[0m\u001b[1;32m      3\u001b[0m     \u001b[0;32mif\u001b[0m \u001b[0;34m\"error.type\"\u001b[0m \u001b[0;32min\u001b[0m \u001b[0mb\u001b[0m\u001b[0;34m.\u001b[0m\u001b[0mkeys\u001b[0m\u001b[0;34m(\u001b[0m\u001b[0;34m)\u001b[0m\u001b[0;34m:\u001b[0m\u001b[0;34m\u001b[0m\u001b[0;34m\u001b[0m\u001b[0m\n\u001b[1;32m      4\u001b[0m         \u001b[0mprint\u001b[0m\u001b[0;34m(\u001b[0m\u001b[0mf\u001b[0m\u001b[0;34m,\u001b[0m\u001b[0;34m\" : \"\u001b[0m \u001b[0;34m,\u001b[0m\u001b[0mb\u001b[0m\u001b[0;34m[\u001b[0m\u001b[0;34m\"error.type\"\u001b[0m\u001b[0;34m]\u001b[0m\u001b[0;34m.\u001b[0m\u001b[0miloc\u001b[0m\u001b[0;34m[\u001b[0m\u001b[0;36m0\u001b[0m\u001b[0;34m]\u001b[0m\u001b[0;34m)\u001b[0m\u001b[0;34m\u001b[0m\u001b[0;34m\u001b[0m\u001b[0m\n\u001b[1;32m      5\u001b[0m     \u001b[0;32melse\u001b[0m\u001b[0;34m:\u001b[0m\u001b[0;34m\u001b[0m\u001b[0;34m\u001b[0m\u001b[0m\n",
      "\u001b[0;31mKeyError\u001b[0m: 'bc9358a81b5cec7210210c7861aae2dda1e9652640a1a0bcd438f433ece4fcc0'"
     ]
    }
   ],
   "source": [
    "for i,f in enumerate(files):\n",
    "    a, b, c = parse_report(reports[f])\n",
    "    if \"error.type\" in b.keys():\n",
    "        print(f,\" : \" ,b[\"error.type\"].iloc[0])\n",
    "    else:\n",
    "        print(f, \" : success\")"
   ]
  },
  {
   "cell_type": "markdown",
   "metadata": {},
   "source": [
    "## examine succeeded reports"
   ]
  },
  {
   "cell_type": "code",
   "execution_count": 91,
   "metadata": {},
   "outputs": [
    {
     "name": "stdout",
     "output_type": "stream",
     "text": [
      "Index(['ep_type', 'start_addr', 'ep_args', 'apihash', 'apis', 'ret_val',\n",
      "       'dynamic_code_segments', 'error.type', 'error.count', 'error.pc',\n",
      "       'error.last_api'],\n",
      "      dtype='object')\n"
     ]
    },
    {
     "data": {
      "text/html": [
       "<div>\n",
       "<style scoped>\n",
       "    .dataframe tbody tr th:only-of-type {\n",
       "        vertical-align: middle;\n",
       "    }\n",
       "\n",
       "    .dataframe tbody tr th {\n",
       "        vertical-align: top;\n",
       "    }\n",
       "\n",
       "    .dataframe thead th {\n",
       "        text-align: right;\n",
       "    }\n",
       "</style>\n",
       "<table border=\"1\" class=\"dataframe\">\n",
       "  <thead>\n",
       "    <tr style=\"text-align: right;\">\n",
       "      <th></th>\n",
       "      <th>ep_type</th>\n",
       "      <th>start_addr</th>\n",
       "      <th>ep_args</th>\n",
       "      <th>apihash</th>\n",
       "      <th>apis</th>\n",
       "      <th>ret_val</th>\n",
       "      <th>dynamic_code_segments</th>\n",
       "      <th>error.type</th>\n",
       "      <th>error.count</th>\n",
       "      <th>error.pc</th>\n",
       "      <th>error.last_api</th>\n",
       "    </tr>\n",
       "  </thead>\n",
       "  <tbody>\n",
       "    <tr>\n",
       "      <th>0</th>\n",
       "      <td>module_entry</td>\n",
       "      <td>0x404663</td>\n",
       "      <td>[0x4000, 0x4010, 0x4020, 0x4030]</td>\n",
       "      <td>c16d89e1464b49e5533e624f6b5137c2154a9c5dc95333...</td>\n",
       "      <td>[{'pc': '0x409d4b', 'api_name': 'KERNEL32.GetS...</td>\n",
       "      <td>0x0</td>\n",
       "      <td>[]</td>\n",
       "      <td>max_api_count</td>\n",
       "      <td>10000</td>\n",
       "      <td>0x401875</td>\n",
       "      <td>KERNEL32.GetThreadPriority</td>\n",
       "    </tr>\n",
       "  </tbody>\n",
       "</table>\n",
       "</div>"
      ],
      "text/plain": [
       "        ep_type start_addr                           ep_args  \\\n",
       "0  module_entry   0x404663  [0x4000, 0x4010, 0x4020, 0x4030]   \n",
       "\n",
       "                                             apihash  \\\n",
       "0  c16d89e1464b49e5533e624f6b5137c2154a9c5dc95333...   \n",
       "\n",
       "                                                apis ret_val  \\\n",
       "0  [{'pc': '0x409d4b', 'api_name': 'KERNEL32.GetS...     0x0   \n",
       "\n",
       "  dynamic_code_segments     error.type  error.count  error.pc  \\\n",
       "0                    []  max_api_count        10000  0x401875   \n",
       "\n",
       "               error.last_api  \n",
       "0  KERNEL32.GetThreadPriority  "
      ]
     },
     "execution_count": 91,
     "metadata": {},
     "output_type": "execute_result"
    }
   ],
   "source": [
    "suceeded_report = reports[\"f118b1f459eff5bfbf58eb2e6677c593ea47974c6f738e9c4b0fd4287940df40\"]\n",
    "suceeded_aa = pd.json_normalize(suceeded_report[\"entry_points\"])\n",
    "print(suceeded_aa.columns)\n",
    "suceeded_aa"
   ]
  },
  {
   "cell_type": "markdown",
   "metadata": {},
   "source": [
    "## examine failed reports"
   ]
  },
  {
   "cell_type": "code",
   "execution_count": 92,
   "metadata": {},
   "outputs": [
    {
     "name": "stdout",
     "output_type": "stream",
     "text": [
      "Index(['ep_type', 'start_addr', 'ep_args', 'apihash', 'apis', 'ret_val',\n",
      "       'dynamic_code_segments', 'error.type', 'error.pc', 'error.address',\n",
      "       'error.instr', 'error.regs.esp', 'error.regs.ebp', 'error.regs.eip',\n",
      "       'error.regs.esi', 'error.regs.edi', 'error.regs.eax', 'error.regs.ebx',\n",
      "       'error.regs.ecx', 'error.regs.edx', 'error.stack', 'error.traceback'],\n",
      "      dtype='object')\n"
     ]
    },
    {
     "data": {
      "text/html": [
       "<div>\n",
       "<style scoped>\n",
       "    .dataframe tbody tr th:only-of-type {\n",
       "        vertical-align: middle;\n",
       "    }\n",
       "\n",
       "    .dataframe tbody tr th {\n",
       "        vertical-align: top;\n",
       "    }\n",
       "\n",
       "    .dataframe thead th {\n",
       "        text-align: right;\n",
       "    }\n",
       "</style>\n",
       "<table border=\"1\" class=\"dataframe\">\n",
       "  <thead>\n",
       "    <tr style=\"text-align: right;\">\n",
       "      <th></th>\n",
       "      <th>ep_type</th>\n",
       "      <th>start_addr</th>\n",
       "      <th>ep_args</th>\n",
       "      <th>apihash</th>\n",
       "      <th>apis</th>\n",
       "      <th>ret_val</th>\n",
       "      <th>dynamic_code_segments</th>\n",
       "      <th>error.type</th>\n",
       "      <th>error.pc</th>\n",
       "      <th>error.address</th>\n",
       "      <th>...</th>\n",
       "      <th>error.regs.ebp</th>\n",
       "      <th>error.regs.eip</th>\n",
       "      <th>error.regs.esi</th>\n",
       "      <th>error.regs.edi</th>\n",
       "      <th>error.regs.eax</th>\n",
       "      <th>error.regs.ebx</th>\n",
       "      <th>error.regs.ecx</th>\n",
       "      <th>error.regs.edx</th>\n",
       "      <th>error.stack</th>\n",
       "      <th>error.traceback</th>\n",
       "    </tr>\n",
       "  </thead>\n",
       "  <tbody>\n",
       "    <tr>\n",
       "      <th>0</th>\n",
       "      <td>module_entry</td>\n",
       "      <td>0x650a99</td>\n",
       "      <td>[0x4000, 0x4010, 0x4020, 0x4030]</td>\n",
       "      <td>e3b0c44298fc1c149afbf4c8996fb92427ae41e4649b93...</td>\n",
       "      <td>[]</td>\n",
       "      <td>0x77000f93</td>\n",
       "      <td>[]</td>\n",
       "      <td>Failed to get character width from function: k...</td>\n",
       "      <td>0x77000f93</td>\n",
       "      <td>0x77000f93</td>\n",
       "      <td>...</td>\n",
       "      <td>0x01212000</td>\n",
       "      <td>0x77000f93</td>\n",
       "      <td>0x00401d1f</td>\n",
       "      <td>0x00024c15</td>\n",
       "      <td>0x77000f93</td>\n",
       "      <td>0x01211fd8</td>\n",
       "      <td>0x00000003</td>\n",
       "      <td>0x01211fdc</td>\n",
       "      <td>[sp+0x00: 0x00401c77 -&gt; emu.module.24c3804ea87...</td>\n",
       "      <td>Traceback (most recent call last):\\n  File \"/u...</td>\n",
       "    </tr>\n",
       "  </tbody>\n",
       "</table>\n",
       "<p>1 rows × 22 columns</p>\n",
       "</div>"
      ],
      "text/plain": [
       "        ep_type start_addr                           ep_args  \\\n",
       "0  module_entry   0x650a99  [0x4000, 0x4010, 0x4020, 0x4030]   \n",
       "\n",
       "                                             apihash apis     ret_val  \\\n",
       "0  e3b0c44298fc1c149afbf4c8996fb92427ae41e4649b93...   []  0x77000f93   \n",
       "\n",
       "  dynamic_code_segments                                         error.type  \\\n",
       "0                    []  Failed to get character width from function: k...   \n",
       "\n",
       "     error.pc error.address  ... error.regs.ebp error.regs.eip error.regs.esi  \\\n",
       "0  0x77000f93    0x77000f93  ...     0x01212000     0x77000f93     0x00401d1f   \n",
       "\n",
       "  error.regs.edi error.regs.eax error.regs.ebx error.regs.ecx error.regs.edx  \\\n",
       "0     0x00024c15     0x77000f93     0x01211fd8     0x00000003     0x01211fdc   \n",
       "\n",
       "                                         error.stack  \\\n",
       "0  [sp+0x00: 0x00401c77 -> emu.module.24c3804ea87...   \n",
       "\n",
       "                                     error.traceback  \n",
       "0  Traceback (most recent call last):\\n  File \"/u...  \n",
       "\n",
       "[1 rows x 22 columns]"
      ]
     },
     "execution_count": 92,
     "metadata": {},
     "output_type": "execute_result"
    }
   ],
   "source": [
    "failed_report = reports[list(reports.keys())[0]]\n",
    "failed_aa = pd.json_normalize(failed_report[\"entry_points\"])\n",
    "print(failed_aa.columns)\n",
    "failed_aa"
   ]
  },
  {
   "cell_type": "code",
   "execution_count": 95,
   "metadata": {},
   "outputs": [
    {
     "data": {
      "text/plain": [
       "{'error.address',\n",
       " 'error.instr',\n",
       " 'error.regs.eax',\n",
       " 'error.regs.ebp',\n",
       " 'error.regs.ebx',\n",
       " 'error.regs.ecx',\n",
       " 'error.regs.edi',\n",
       " 'error.regs.edx',\n",
       " 'error.regs.eip',\n",
       " 'error.regs.esi',\n",
       " 'error.regs.esp',\n",
       " 'error.stack',\n",
       " 'error.traceback'}"
      ]
     },
     "execution_count": 95,
     "metadata": {},
     "output_type": "execute_result"
    }
   ],
   "source": [
    "error_cols = set(failed_aa) - set(suceeded_aa)   \n",
    "error_cols"
   ]
  },
  {
   "cell_type": "code",
   "execution_count": 99,
   "metadata": {},
   "outputs": [
    {
     "data": {
      "text/html": [
       "<div>\n",
       "<style scoped>\n",
       "    .dataframe tbody tr th:only-of-type {\n",
       "        vertical-align: middle;\n",
       "    }\n",
       "\n",
       "    .dataframe tbody tr th {\n",
       "        vertical-align: top;\n",
       "    }\n",
       "\n",
       "    .dataframe thead th {\n",
       "        text-align: right;\n",
       "    }\n",
       "</style>\n",
       "<table border=\"1\" class=\"dataframe\">\n",
       "  <thead>\n",
       "    <tr style=\"text-align: right;\">\n",
       "      <th></th>\n",
       "      <th>error.regs.esp</th>\n",
       "      <th>error.regs.edx</th>\n",
       "      <th>error.address</th>\n",
       "      <th>error.regs.edi</th>\n",
       "      <th>error.regs.ebx</th>\n",
       "      <th>error.instr</th>\n",
       "      <th>error.regs.eax</th>\n",
       "      <th>error.traceback</th>\n",
       "      <th>error.regs.ebp</th>\n",
       "      <th>error.stack</th>\n",
       "      <th>error.regs.ecx</th>\n",
       "      <th>error.regs.esi</th>\n",
       "      <th>error.regs.eip</th>\n",
       "    </tr>\n",
       "  </thead>\n",
       "  <tbody>\n",
       "    <tr>\n",
       "      <th>0</th>\n",
       "      <td>0x01211fb4</td>\n",
       "      <td>0x01211fdc</td>\n",
       "      <td>0x77000f93</td>\n",
       "      <td>0x00024c15</td>\n",
       "      <td>0x01211fd8</td>\n",
       "      <td>mov edi, edi</td>\n",
       "      <td>0x77000f93</td>\n",
       "      <td>Traceback (most recent call last):\\n  File \"/u...</td>\n",
       "      <td>0x01212000</td>\n",
       "      <td>[sp+0x00: 0x00401c77 -&gt; emu.module.24c3804ea87...</td>\n",
       "      <td>0x00000003</td>\n",
       "      <td>0x00401d1f</td>\n",
       "      <td>0x77000f93</td>\n",
       "    </tr>\n",
       "  </tbody>\n",
       "</table>\n",
       "</div>"
      ],
      "text/plain": [
       "  error.regs.esp error.regs.edx error.address error.regs.edi error.regs.ebx  \\\n",
       "0     0x01211fb4     0x01211fdc    0x77000f93     0x00024c15     0x01211fd8   \n",
       "\n",
       "    error.instr error.regs.eax  \\\n",
       "0  mov edi, edi     0x77000f93   \n",
       "\n",
       "                                     error.traceback error.regs.ebp  \\\n",
       "0  Traceback (most recent call last):\\n  File \"/u...     0x01212000   \n",
       "\n",
       "                                         error.stack error.regs.ecx  \\\n",
       "0  [sp+0x00: 0x00401c77 -> emu.module.24c3804ea87...     0x00000003   \n",
       "\n",
       "  error.regs.esi error.regs.eip  \n",
       "0     0x00401d1f     0x77000f93  "
      ]
     },
     "execution_count": 99,
     "metadata": {},
     "output_type": "execute_result"
    }
   ],
   "source": [
    "failed_aa[error_cols]"
   ]
  },
  {
   "cell_type": "code",
   "execution_count": 103,
   "metadata": {},
   "outputs": [
    {
     "name": "stdout",
     "output_type": "stream",
     "text": [
      "Traceback (most recent call last):\n",
      "  File \"/usr/local/lib/python3.6/site-packages/speakeasy_emulator-1.5.9-py3.6.egg/speakeasy/windows/winemu.py\", line 1168, in handle_import_func\n",
      "    rv = self.api.call_api_func(mod, func, argv, ctx=default_ctx)\n",
      "  File \"/usr/local/lib/python3.6/site-packages/speakeasy_emulator-1.5.9-py3.6.egg/speakeasy/winenv/api/winapi.py\", line 77, in call_api_func\n",
      "    return func(mod, self.emu, argv, ctx)\n",
      "  File \"/usr/local/lib/python3.6/site-packages/speakeasy_emulator-1.5.9-py3.6.egg/speakeasy/winenv/api/usermode/kernel32.py\", line 3587, in GetVolumeInformation\n",
      "    cw = self.get_char_width(ctx)\n",
      "  File \"/usr/local/lib/python3.6/site-packages/speakeasy_emulator-1.5.9-py3.6.egg/speakeasy/winenv/api/api.py\", line 343, in get_char_width\n",
      "    raise ApiEmuError('Failed to get character width from function: %s' % (name))\n",
      "speakeasy.errors.ApiEmuError: Failed to get character width from function: kernel32.GetVolumeInformation\n",
      "\n"
     ]
    }
   ],
   "source": [
    "print(failed_aa[\"error.traceback\"].iloc[0])"
   ]
  },
  {
   "cell_type": "code",
   "execution_count": 96,
   "metadata": {},
   "outputs": [
    {
     "data": {
      "text/plain": [
       "{'error.count', 'error.last_api'}"
      ]
     },
     "execution_count": 96,
     "metadata": {},
     "output_type": "execute_result"
    }
   ],
   "source": [
    "success_cols =  set(suceeded_aa) - set(failed_aa)\n",
    "success_cols"
   ]
  },
  {
   "cell_type": "code",
   "execution_count": 104,
   "metadata": {},
   "outputs": [
    {
     "data": {
      "text/html": [
       "<div>\n",
       "<style scoped>\n",
       "    .dataframe tbody tr th:only-of-type {\n",
       "        vertical-align: middle;\n",
       "    }\n",
       "\n",
       "    .dataframe tbody tr th {\n",
       "        vertical-align: top;\n",
       "    }\n",
       "\n",
       "    .dataframe thead th {\n",
       "        text-align: right;\n",
       "    }\n",
       "</style>\n",
       "<table border=\"1\" class=\"dataframe\">\n",
       "  <thead>\n",
       "    <tr style=\"text-align: right;\">\n",
       "      <th></th>\n",
       "      <th>error.last_api</th>\n",
       "      <th>error.count</th>\n",
       "    </tr>\n",
       "  </thead>\n",
       "  <tbody>\n",
       "    <tr>\n",
       "      <th>0</th>\n",
       "      <td>KERNEL32.GetThreadPriority</td>\n",
       "      <td>10000</td>\n",
       "    </tr>\n",
       "  </tbody>\n",
       "</table>\n",
       "</div>"
      ],
      "text/plain": [
       "               error.last_api  error.count\n",
       "0  KERNEL32.GetThreadPriority        10000"
      ]
     },
     "execution_count": 104,
     "metadata": {},
     "output_type": "execute_result"
    }
   ],
   "source": [
    "suceeded_aa[success_cols]"
   ]
  },
  {
   "cell_type": "code",
   "execution_count": null,
   "metadata": {},
   "outputs": [],
   "source": []
  }
 ],
 "metadata": {
  "interpreter": {
   "hash": "31f2aee4e71d21fbe5cf8b01ff0e069b9275f58929596ceb00d14d90e3e16cd6"
  },
  "kernelspec": {
   "display_name": "Python 3.6.8 64-bit",
   "language": "python",
   "name": "python3"
  },
  "language_info": {
   "codemirror_mode": {
    "name": "ipython",
    "version": 3
   },
   "file_extension": ".py",
   "mimetype": "text/x-python",
   "name": "python",
   "nbconvert_exporter": "python",
   "pygments_lexer": "ipython3",
   "version": "3.6.8"
  },
  "orig_nbformat": 4
 },
 "nbformat": 4,
 "nbformat_minor": 2
}
