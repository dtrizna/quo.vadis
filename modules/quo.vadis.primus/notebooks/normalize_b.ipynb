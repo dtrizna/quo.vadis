{
 "cells": [
  {
   "cell_type": "code",
   "execution_count": 22,
   "metadata": {},
   "outputs": [
    {
     "data": {
      "text/plain": [
       "0    [drive]\\program files (x86)\\n-able technologie...\n",
       "1    [drive]\\program files (x86)\\n-able technologie...\n",
       "2    [drive]\\program files (x86)\\n-able technologie...\n",
       "3    [drive]\\program files (x86)\\n-able technologie...\n",
       "4    [drive]\\program files (x86)\\n-able technologie...\n",
       "Name: fullpath, dtype: object"
      ]
     },
     "execution_count": 22,
     "metadata": {},
     "output_type": "execute_result"
    }
   ],
   "source": [
    "import pandas as pd\n",
    "import re\n",
    "from path_normalize import normalize_path, load_csv\n",
    "\n",
    "df = pd.read_csv(\"clean.csv\")\n",
    "dff = df.fullpath.apply(lambda x: normalize_path(x))\n",
    "dff.head()"
   ]
  },
  {
   "cell_type": "markdown",
   "metadata": {},
   "source": [
    "# Here dealing with problematic cases described in `normalize_a.ipynb`"
   ]
  },
  {
   "cell_type": "code",
   "execution_count": 23,
   "metadata": {},
   "outputs": [
    {
     "data": {
      "text/plain": [
       "52        mail\\inbox\\<subj: lanpan 18 - nmdc daily repor...\n",
       "94        surat\\kotak masuk\\<subj: fix nani hariyanti 0 ...\n",
       "98        surat\\kotak masuk\\<subj: fix nani hariyanti 0 ...\n",
       "167                           edc\\idp\\400000\\$\\400000\\14800\n",
       "196                               1f14\\idp\\140000000\\758000\n",
       "                                ...                        \n",
       "265720                      24f8\\idp\\400000\\$\\400000\\37b800\n",
       "265821                        63c\\idp\\400000\\$\\400000\\42e00\n",
       "265909    \\\\;lanmanredirector\\;b:000000000003011f\\server...\n",
       "265971    \\\\;lanmanredirector\\;p:00000000000351c1\\192.16...\n",
       "266060                       b50\\idp\\400000\\$\\400000\\3668e0\n",
       "Name: fullpath, Length: 3195, dtype: object"
      ]
     },
     "execution_count": 23,
     "metadata": {},
     "output_type": "execute_result"
    }
   ],
   "source": [
    "dff_notparsed = dff[(~dff.str.contains(\"[net]\",regex=False)) & (~dff.str.contains(\"[drive]\",regex=False))]\n",
    "dff_notparsed"
   ]
  },
  {
   "cell_type": "code",
   "execution_count": 60,
   "metadata": {},
   "outputs": [
    {
     "name": "stdout",
     "output_type": "stream",
     "text": [
      "mail\\inbox\\<subj: lanpan 18 - nmdc daily report on 10.06.2021>\\dailyreport_supportcraft_rev1 10.06.2021.xlsm\n",
      "surat\\kotak masuk\\<subj: fix nani hariyanti 0 banjarmasin kaltengsel rs6 ld1926700001>\\simulasi rsc  c1 dan c2 (v9)_nani h.xlsm\n",
      "surat\\kotak masuk\\<subj: fix nani hariyanti 0 banjarmasin kaltengsel rs6 ld1926700001>\\simulasi rsc  c1 dan c2 (v9)_nani h.xlsm\n",
      "mail\\inbox\\<subj: lanpan 22 - dmr 10/06/2021>\\dailyreport_supportcraft (3) 10.06.2021.xlsm\n",
      "mail\\indbakke\\<subj: opdatering af lpo normsy regnearket.>\\lponormsy2021-2.xlsm\n"
     ]
    }
   ],
   "source": [
    "a = dff_notparsed[dff_notparsed.str.contains(r\"^.*<subj[^>]+>\", regex=True)]\n",
    "_ = a.iloc[0:5].apply(lambda x: print(x))"
   ]
  },
  {
   "cell_type": "code",
   "execution_count": 58,
   "metadata": {},
   "outputs": [
    {
     "data": {
      "text/plain": [
       "%downloads%\\pom order 002002011.pdf.7z|>pom#order002002011.pdf.exe        2\n",
       "%downloads%\\3rm2 bbs ht 121 æ¢ åºæ¿.xlsm                               2\n",
       "%downloads%\\копия s20 - bauer pro goal pant sr (color euro ska 2).xlsm    2\n",
       "%downloads%\\shipping docs.pdf.cab|>shipping docs.pdf.exe                  1\n",
       "%downloads%\\invoice_13017757.pdf                                          1\n",
       "%downloads%\\相原様見積もり（建築家2回目.xlsm                                           1\n",
       "%downloads%\\ti2106094 new prospect npr-21-r01026.pdf                      1\n",
       "%downloads%\\копия s20 - bauer pro goal pant sr (color euro ska 1).xlsm    1\n",
       "%downloads%\\po#006610.doc.rar|>po#006610.doc.exe                          1\n",
       "%downloads%\\new po#70-02110-00739.rar|>new po#70-02110-00739.exe          1\n",
       "Name: fullpath, dtype: int64"
      ]
     },
     "execution_count": 58,
     "metadata": {},
     "output_type": "execute_result"
    }
   ],
   "source": [
    "a.apply(lambda x: re.sub(r\"^.*<subj[^>]+>\", r\"%downloads%\", x)).value_counts()[60:70]"
   ]
  },
  {
   "cell_type": "code",
   "execution_count": 48,
   "metadata": {},
   "outputs": [
    {
     "data": {
      "text/plain": [
       "726       \\\\;lanmanredirector\\;z:00000000abd23489\\gmcvo1...\n",
       "978       \\\\;lanmanredirector\\;x:000000000001e7db\\server...\n",
       "1021      \\\\;lanmanredirector\\;v:0000000003afa3ad\\ser-de...\n",
       "1690      \\\\;lanmanredirector\\;z:000000001ec8d3b3\\servid...\n",
       "2370      \\\\;lanmanredirector\\;z:0000000000036d08\\192.16...\n",
       "                                ...                        \n",
       "264610    \\\\;lanmanredirector\\;x:000000000019a3a6\\192.16...\n",
       "264881    \\\\;lanmanredirector\\;h:00000000001fcc57\\ilpipd...\n",
       "265418    \\\\;lanmanredirector\\;s:000000000343566f\\server...\n",
       "265909    \\\\;lanmanredirector\\;b:000000000003011f\\server...\n",
       "265971    \\\\;lanmanredirector\\;p:00000000000351c1\\192.16...\n",
       "Name: fullpath, Length: 780, dtype: object"
      ]
     },
     "execution_count": 48,
     "metadata": {},
     "output_type": "execute_result"
    }
   ],
   "source": [
    "b = dff_notparsed[dff_notparsed.str.contains(r\"\\w:0000\")]\n",
    "b\n"
   ]
  },
  {
   "cell_type": "code",
   "execution_count": 61,
   "metadata": {},
   "outputs": [
    {
     "name": "stdout",
     "output_type": "stream",
     "text": [
      "\\\\?\\volume{fa067e99-0000-0000-0000-100000000000}\\patchâ´s - seriales - activaciones\\izotope ozone\\izotope rx3\\izotope_rx_3_advanced_3_02.exe\n",
      "\\\\?\\volume{82679eb9-ac2a-11eb-9d6f-84c5a6bee023}\\kellys files\\2\\kellymcclure\\documents\\my documents\\default kcssetup.exe\n",
      "\\\\?\\volume{5e570b5a-ca2e-11eb-9f4e-c89cdcce3778}\\setup.exe,\n",
      "\\\\?\\volume{19cec707-096f-402d-8d9b-5e5424a725a2}\\steamlibrarylinux\\steamapps\\common\\proton 5.13\\dist\\lib\\wine\\schannel.dll\n",
      "\\\\?\\volume{d8489e8e-c917-11eb-8555-00248ce9a519}\\e\\lost file results\\lostfile_exe_320076780.exe\n"
     ]
    }
   ],
   "source": [
    "c = dff_notparsed[dff_notparsed.str.contains(r\"\\\\[\\.\\?]\\\\volume\", regex=True)]\n",
    "_ = c.iloc[0:5].apply(lambda x: print(x))"
   ]
  },
  {
   "cell_type": "code",
   "execution_count": 66,
   "metadata": {},
   "outputs": [
    {
     "data": {
      "text/plain": [
       "\\[drive]\\zafiris\\various operating systems\\windows 10 aio build 1511 final may 2016\\windows 10 activator\\microsoft toolkit final2.exe    1\n",
       "\\[drive]\\downloads\\al.sk.exp.5.0.0.703.rar (1).exe                                                                                       1\n",
       "\\[drive]\\e\\lost file results\\lostfile_exe_320076780.exe                                                                                  1\n",
       "\\[drive]\\dunns setup flash\\pos\\posdownloadcomms.exe                                                                                      1\n",
       "\\[drive]\\mark files\\4th year\\dsp\\dsp\\voice recognition and identification system\\html\\voicerecognition.html                              1\n",
       "\\[drive]\\datos\\ro & sam\\downloads\\bluestacks.exe                                                                                         1\n",
       "\\[drive]\\steamlibrarylinux\\steamapps\\common\\proton 5.13\\dist\\lib\\wine\\schannel.dll                                                       1\n",
       "\\[drive]\\patchâ´s - seriales - activaciones\\izotope ozone\\izotope rx3\\izotope_rx_3_advanced_3_02.exe                                     1\n",
       "\\[drive]\\new folder (3)\\unconfirmed 863879.crdownload                                                                                    1\n",
       "\\[drive]\\$recycle.bin\\s-1-5-21-1350011932-1311456059-2743948387-500\\$rvoam16\\jvm\\bin\\actpanel.dll                                        1\n",
       "Name: fullpath, dtype: int64"
      ]
     },
     "execution_count": 66,
     "metadata": {},
     "output_type": "execute_result"
    }
   ],
   "source": [
    "c.apply(lambda x: re.sub(r\"\\\\[\\.\\?]\\\\volume\\{[a-z0-9\\-]{36}\\}\", \"[drive]\", x)).value_counts()[-10:]"
   ]
  },
  {
   "cell_type": "code",
   "execution_count": 17,
   "metadata": {},
   "outputs": [
    {
     "name": "stdout",
     "output_type": "stream",
     "text": [
      "263886\n",
      "263310\n",
      "682\n"
     ]
    }
   ],
   "source": [
    "from path_normalize import normalize_path, load_csv\n",
    "\n",
    "df = load_csv(\"bohacek_20211022113102.csv\")\n",
    "df = df.apply(normalize_path)"
   ]
  },
  {
   "cell_type": "markdown",
   "metadata": {},
   "source": [
    "### Those still fail parsing - 106 entries, really only 0.04 % of all filepaths\n",
    "- (1) mail weird stuff, don't know even how to filter out,\n",
    "- (2) non-RFC DNS (space and `;` in DNS name)\n",
    "\n",
    "just providing as is."
   ]
  },
  {
   "cell_type": "code",
   "execution_count": 23,
   "metadata": {},
   "outputs": [
    {
     "name": "stdout",
     "output_type": "stream",
     "text": [
      "106\n",
      "0.040152731900966694  %\n",
      "prace_s_cisly.zip|>prace_s_cisly.zip#2877262169|>prace s cisly\\prace s cisly\\bin\\debug\\prace s cisly.exe\n",
      "odchozã­ e-mail 'yoink' od: \"sebesta.marek2004@gmail.com\" <sebesta.marek2004@gmail.com>, komu: \"å ebesta,_marek_frantiå¡ek\" <sebestam.itb20@vsps-su.cz>|>prace_s_cisly.zip#2877262169|>prace s cisly\\prace s cisly\\bin\\debug\\prace s cisly.exe\n",
      "ðñð¾ð´ññð°ñ ð¿ð¾ññð° 'fwd: ðð°ñðð°ð± + ððµð½ðµñð°ñð¾ññ ñ ð±ðµð»ñð¼ ññð¼ð¾ð¼' ðñ: mike sazonov <msazonov@nau-ra.ru>, ðð¾ð¼ñ: ðð½ð´ñðµð¹ ðð»ð°ñð¾ð² <andru112@mail.ru>|>2zhilin.zip#274693674|>2zhilin\\generator_with_noise\\generator.exe\n",
      "incoming email 're: fwd: dn100 card reader issue' from: ahmed javed <ajaved@innovative-pk.com>, to: anazaqat@innovative-pk.com, asamad@innovative-pk.com,ahussain03@innovative-pk.com, mmughal@innovative-pk.com,aburhan@innovative-pk.com, araza04@innovative-pk.c|>probase_c_secure_motorized_card_reader_smcr__1_0_31_2.zip#834341923|>cd1\\cmd\\fpmenu.exe\n",
      "incoming email 'fwd: dn100 card reader issue' from: ahmed javed <ajaved@innovative-pk.com>, to: anazaqat@innovative-pk.com, asamad@innovative-pk.com,ahussain03@innovative-pk.com, mmughal@innovative-pk.com,aburhan@innovative-pk.com, araza04@innovative-pk.com,m|>probase_c_secure_motorized_card_reader_smcr__1_0_30_2.zip#834341923|>cd1\\cmd\\fpmenu.exe\n",
      "bejã¶vå levã©l 'av scale app - nfc kapcsolat' feladã³: jã¡nos_zsolt <janos.zsolt@agrovir.hu>, cã­mzett: mihã¡ly_szabã³ <mihaly.szabo@moon42.com>,bence_tã³th <bence.toth@moon42.com>,sasvã¡ri_tamã¡s <sasvarit@idsyst.hu>|>scale app.zip#537161870|>scale app\\avscale.exe\n",
      "mail\\entrant\\<no subject>\\planning fermeture a2 v3.xlsm\n",
      "å³åºé»å­éµä»¶ 'fw: wcsa rate sheet june 10' å¯ä»¶äººï¼ \"bon voyage taipei - mr.cliff lin/ deputy general manager\" <cliff-tpe@bvlogisticsinc.com.tw>, æ¶ä»¶äººï¼ \"'bon voyage taipei - mr. julian chu / operation dept. - documentation \\(mexico, wcca, wcsa, caribbean trades\\)'\" <jul\n",
      "\\\\;ncfsd\\cscidc\\sys_data\\thuno\\taichinh\\so phu ngan hang\\so phu ngan hang\\bidv - tk 14156\\2021\\t6-2021\\8 6 2021.xls\n",
      "\\\\caixasãnia-pc\\auttar\\bxmlm.lnk\n",
      "incoming email 'sentinel logger ' from: \"nuwrss@epapersign.com\" <nuwrss@epapersign.com>, to: <info@globalmps.co.in>|>tcplistner.zip#3387072662|>new folder\\tcpservertester.exe\n",
      "incoming email 're: kyocera new app 3.9' from: \"nuwrss@epapersign.com\" <nuwrss@epapersign.com>, to: \"'rachel benjamini'\" <rachelb@epapersign.com>|>tcplistner.zip#3387072662|>new folder\\tcpservertester.exe\n",
      "courrier sortant '' de : gmail <levalois.kevin@gmail.com>, a : \"kandiouraa@gmail.com\" <kandiouraa@gmail.com>|>wip borne.rar#3663997846|>wip borne\\accueil.js\n",
      "email recebido 'protã³tipo_do_robã´_de_importaã§ã£o_de_lanã§amentos_contã¡beis_domã­nio' de: heitor_moraes_-_sobit_integraã§ãµes_inteligentes_entre_sistemas <heitor@sobit.com.br>, para: <michael@sobit.com.br>,<patrick@sobit.com.br>,<pedro@sobit.com.br>|>proptotiporobodominio.rar#2158152962|>windowsformsapp3\\windowsformsapp3\\bin\\debug\\windowsformsapp3.exe\n",
      "mail\\inbox\\<no subject>\\s_ 459l_blk 10dd_stope note_meeting projection-2021 - last updated.xlsm\n",
      "\\\\;ncfsd\\cscidc\\sys_data\\thuno\\taichinh\\so phu ngan hang\\so phu ngan hang\\bidv - tk 14156\\2021\\t6-2021\\8 6 2021.xls\n",
      "\\\\;ncfsd\\cscidc\\sys_data\\thuno\\taichinh\\so phu ngan hang\\so phu ngan hang\\bidv - tk 14156\\2021\\t6-2021\\8 6 2021.xls\n",
      "\\\\;ncfsd\\cscidc\\sys_data\\thuno\\taichinh\\so phu ngan hang\\so phu ngan hang\\bidv - tk 14156\\2021\\t6-2021\\8 6 2021.xls\n",
      "\\\\;ncfsd\\cscidc\\sys_data\\thuno\\taichinh\\so phu ngan hang\\so phu ngan hang\\bidv - tk 14156\\2021\\t6-2021\\8 6 2021.xls\n",
      "\\\\;ncfsd\\cscidc\\sys_data\\thuno\\taichinh\\so phu ngan hang\\so phu ngan hang\\bidv - tk 14156\\2021\\t6-2021\\8 6 2021.xls\n",
      "\\\\;ncfsd\\cscidc\\sys_data\\thuno\\taichinh\\so phu ngan hang\\so phu ngan hang\\bidv - tk 14156\\2021\\t6-2021\\8 6 2021.xls\n",
      "\\\\;ncfsd\\cscidc\\sys_data\\thuno\\taichinh\\so phu ngan hang\\so phu ngan hang\\bidv - tk 14156\\2021\\t6-2021\\8 6 2021.xls\n",
      "\\\\;ncfsd\\cscidc\\sys_data\\thuno\\taichinh\\so phu ngan hang\\so phu ngan hang\\bidv - tk 14156\\2021\\t6-2021\\8 6 2021.xls\n",
      "\\\\;ncfsd\\cscidc\\sys_data\\thuno\\taichinh\\so phu ngan hang\\so phu ngan hang\\bidv - tk 14156\\2021\\t6-2021\\8 6 2021.xls\n",
      "\\\\;ncfsd\\cscidc\\sys_data\\thuno\\taichinh\\so phu ngan hang\\so phu ngan hang\\bidv - tk 14156\\2021\\t6-2021\\8 6 2021.xls\n",
      "\\\\;ncfsd\\cscidc\\sys_data\\thuno\\taichinh\\so phu ngan hang\\so phu ngan hang\\bidv - tk 14156\\2021\\t6-2021\\8 6 2021.xls\n",
      "\\\\;ncfsd\\cscidc\\sys_data\\thuno\\taichinh\\so phu ngan hang\\so phu ngan hang\\bidv - tk 14156\\2021\\t6-2021\\8 6 2021.xls\n",
      "mail\\entrant\\<no subject>\\planning fermeture a2 v3.xlsm\n",
      "åä¿¡ã¡ã¼ã« 're: ã»ã³ãµã¼ã·ããoisï¼wab01ï¼ã®ãã¢åºæ¿ä¾é ¼' éä¿¡åï¼ \"t. shiraishi\\(newshicoh\\)\" <t-shiraishi@newshicoh.jp>, éä¿¡åï¼ 'ååº éè²´' <t-wade@newshicoh.jp>,'åå è£å£«' <h-kitahara@newshicoh.jp>,'èµ¤æ´¥ æ¿å®' <akatsu@newshicoh.jp>|>sensorshiftdemo001.rar#1510405551|>sensorshiftdemo001.exe\n",
      "incoming email 're: 12020741 recall 871125201976 portable gas stove' from: \"mate bence\" <mate.bence@impar.ro>, to: \"'bak ferenc'\" <bak.ferenc@impar.ro>,\"'impar \\(op_fact\\)'\" <op_fact@impar.ro>,\"'kiss zoltan'\" <kiss.zoltan@impar.ro>\n",
      "outgoing email 'data ' from: \"esther myburgh\" <esther@hsh.co.za>, to: \"'marida harmse'\" <maridaharmse@gmail.com>,\"annemarie\" <aweb@jf.co.za>,\"'ria barnard'\" <riabarnard.rtz@gmail.com>,\"marika\" <marikev@telehost.co.za>|>e myburgh.zip#990595772|>e myburgh\\3open.exe\n",
      "outgoing email 'fw: data ' from: \"esther myburgh\" <esther@hsh.co.za>, to: \"'marida harmse'\" <maridaharmse@gmail.com>,\"'ria barnard'\" <riabarnard.rtz@gmail.com>,\"annemarie\" <aweb@jf.co.za>|>e myburgh.zip#990595772|>e myburgh\\3open.exe\n",
      "incoming email 'fwd: document from ?' from: michelle mapas <michellemapas@nashuaisp.co.za>, to: michelle mapas <michellemapas@nashuaisp.co.za>|>gr12_cat p1 june  2021_ms office_data.rar#1166595147|>gr12_cat p1 june  2021_ms office_data\\3open.exe\n",
      "outgoing email 'cat p1 june  2021_ms office_data.rar' from: \"esther myburgh\" <esther@hsh.co.za>, to: \"'quentin alberts'\" <quenalberts@gmail.com>|>cat p1 june  2021_ms office_data.rar#2968574135|>cat p1 june  2021_ms office_data\\3open.exe\n",
      "outgoing email 'data' from: \"esther myburgh\" <esther@hsh.co.za>, to: \"'quentin alberts'\" <quenalberts@gmail.com>|>cat p1 june  2021_ms office_data.zip#4104635247|>cat p1 june  2021_ms office_data\\3open.exe\n",
      "ä¼ å¥é®ä»¶ 'courier was not able to deliver your parcel (id01335526, ups)' ä»: empower@taro.websitewelcome.com, è³: castlehill@gtrading.com.au|>ups-delivery-details-01335526.zip#3771182503|>ups-delivery-details-01335526\\ups-delivery-details-01335526.doc.js\n",
      "傳出電子郵件 'fw: wcsa rate sheet june 10' 寄件人： \"bon voyage taipei - mr.cliff lin/ deputy general manager\" <cliff-tpe@bvlogisticsinc.com.tw>, 收件人： \"'bon voyage taipei - mr. julian chu / operation dept. - documentation \\(mexico, wcca, wcsa, caribbean trades\\)'\" <jul\n",
      "correo\\bandeja de entrada\\<no subject>\\errepar_gciasbspers_2019_fa_fe_00_eol.xlsm\n",
      "åä¿¡ã¡ã¼ã« 'aix-1000tpã»éä¿¡ã·ãã¥ã¬ã¼ã¿éä»ã®ä»¶' éä¿¡åï¼ \"kawano@unicomsystem\" <kawano@unics.jp>, éä¿¡åï¼ ctc:é» æç¯ æ§ <jacky@centrumtw.com>|>tpostsimulator_20210610.zip#3647381756|>tpostsimulator\\tpostsimulator.exe\n",
      "ðñð¾ð´ññð°ñ ð¿ð¾ññð° 'nvcm' ðñ: \"*^o^*æäººã\" <xiaolaoyie521@qq.com>, ðð¾ð¼ñ: \"yultyev.mr\" <yultyev.mr@mail.ru>|>nvcm.rar#142992268|>nvcm\\novusun_gen.exe\n",
      "mail\\entrant\\<no subject>\\planning fermeture a2 v3.xlsm\n",
      "\\\\;ncfsd\\cscidc\\sys_data\\thuno\\taichinh\\so phu ngan hang\\so phu ngan hang\\bidv - tk 14156\\2021\\t6-2021\\9 6 2021.xls\n",
      "mail\\entrant\\<no subject>\\planning fermeture a2 v3.xlsm\n",
      "mail\\inbox\\<no subject>\\s_ 459l_blk 10dd_stope note_meeting projection-2021 - last updated.xlsm\n",
      "å³å¥é»å­éµä»¶ 'ååmn21025 / 647pb-ikx1å°è£ ra sampleåæºç­æ¶å¼data' å¯ä»¶äººï¼ \"penny.wang\" <penny.wang@eminent-tek.com>, æ¶ä»¶äººï¼ jasonè¡ç¢©æ <jason.tsai@eminent-tek.com>,hdé»åå¾· <hd.huang@eminent-tek.com>|>647.mn21025.rar#918453866|>647.mn21025\\nua647.exe\n",
      "\\\\caixasãnia-pc\\auttar\\ctfclient\\bin\\22300001.103\\028.bmp.lnk\n",
      "incoming email 'fw: ej for lwcw23824' from: \"amit rane\" <rane.amit@agsindia.com>, to: <psurecon@agsindia.com>,<recon@agsindia.com>,<sbirecon@agsindia.com>,<avadhoot.narvekar@agsindia.com>,<harshad.bulbule@agsindia.com>,<ubirecon@agsindia.com>,<icicirecon@agsi|>ejbackup.zip#2321903222|>ejbackup\\filebackup.exe\n",
      "\\\\ðððð«ð¢-ðð\\toktom pro\\toktompro50_5_0_0_53.exe\n",
      "incoming email 're: 12020741 recall 871125201976 portable gas stove' from: \"mate bence\" <mate.bence@impar.ro>, to: \"'bak ferenc'\" <bak.ferenc@impar.ro>,\"'impar \\(op_fact\\)'\" <op_fact@impar.ro>,\"'kiss zoltan'\" <kiss.zoltan@impar.ro>\n",
      "incoming email 'delivery status notification' from: jabpacom@domus.entorno.es, to: larry@lrowebdesign.com|>fedex-label-id-ur3m8s6m.zip#3360610837|>fedex-label-id-ur3m8s6m\\fedex-label-id-ur3m8s6m.doc.js\n",
      "incoming email 'delivery status notification' from: jabpacom@domus.entorno.es, to: larry@lrowebdesign.com|>fedex-label-id-ur3m8s6m.zip#3360610837|>fedex-label-id-ur3m8s6m\\fedex-label-id-ur3m8s6m.doc.js\n",
      "incoming email 'delivery status notification' from: jabpacom@domus.entorno.es, to: larry@lrowebdesign.com|>fedex-label-id-ur3m8s6m.zip#3360610837|>fedex-label-id-ur3m8s6m\\fedex-label-id-ur3m8s6m.doc.js\n",
      "incoming email 'delivery status notification' from: jabpacom@domus.entorno.es, to: larry@lrowebdesign.com|>fedex-label-id-ur3m8s6m.zip#3360610837|>fedex-label-id-ur3m8s6m\\fedex-label-id-ur3m8s6m.doc.js\n",
      "incoming email 'delivery status notification' from: jabpacom@domus.entorno.es, to: larry@lrowebdesign.com|>fedex-label-id-ur3m8s6m.zip#3360610837|>fedex-label-id-ur3m8s6m\\fedex-label-id-ur3m8s6m.doc.js\n",
      "incoming email 'delivery status notification' from: jabpacom@domus.entorno.es, to: larry@lrowebdesign.com|>fedex-label-id-ur3m8s6m.zip#3360610837|>fedex-label-id-ur3m8s6m\\fedex-label-id-ur3m8s6m.doc.js\n",
      "incoming email 'delivery status notification' from: jabpacom@domus.entorno.es, to: larry@lrowebdesign.com|>fedex-label-id-ur3m8s6m.zip#3360610837|>fedex-label-id-ur3m8s6m\\fedex-label-id-ur3m8s6m.doc.js\n",
      "incoming email 'delivery status notification' from: jabpacom@domus.entorno.es, to: larry@lrowebdesign.com|>fedex-label-id-ur3m8s6m.zip#3360610837|>fedex-label-id-ur3m8s6m\\fedex-label-id-ur3m8s6m.doc.js\n",
      "incoming email 'delivery status notification' from: jabpacom@domus.entorno.es, to: larry@lrowebdesign.com|>fedex-label-id-ur3m8s6m.zip#3360610837|>fedex-label-id-ur3m8s6m\\fedex-label-id-ur3m8s6m.doc.js\n",
      "incoming email 'delivery status notification' from: jabpacom@domus.entorno.es, to: larry@lrowebdesign.com|>fedex-label-id-ur3m8s6m.zip#3360610837|>fedex-label-id-ur3m8s6m\\fedex-label-id-ur3m8s6m.doc.js\n",
      "incoming email 'delivery status notification' from: jabpacom@domus.entorno.es, to: larry@lrowebdesign.com|>fedex-label-id-ur3m8s6m.zip#3360610837|>fedex-label-id-ur3m8s6m\\fedex-label-id-ur3m8s6m.doc.js\n",
      "incoming email 'delivery status notification' from: jabpacom@domus.entorno.es, to: larry@lrowebdesign.com|>fedex-label-id-ur3m8s6m.zip#3360610837|>fedex-label-id-ur3m8s6m\\fedex-label-id-ur3m8s6m.doc.js\n",
      "ðñð¾ð´ññð°ñ ð¿ð¾ññð° 're: ð¢ðµññð¾ð²ð¾ðµ ð·ð°ð´ð°ð½ð¸ðµ' ðñ: ðð¼ð¸ññð¸ð¹ ððµñð°ñð¸ð¼ð¾ð²<gerych84@gmail.com>, ðð¾ð¼ñ: staffdigitalpechk@gmail.com|>promocode.zip#1813757205|>promocode\\index.js\n",
      "eingehende e-mail 'ece-exe  --)  tommi' von: \"heller \\(pcae\\)\" <heller@pcae.de>, an: \"entwicklung pcae\" <entwicklung@pcae.de>|>ec-exe.zip#3805408461|>nad-edit.exe\n",
      "eingehende e-mail 'nad-edit  --)  chris' von: \"heller \\(pcae\\)\" <heller@pcae.de>, an: \"entwicklung pcae\" <entwicklung@pcae.de>|>nad-edit.zip#3065322640|>nad-edit.exe\n",
      "incoming email 're: cours de demain' from: nicolas pouzenc <nicopouzenc@gmail.com>, to: marie bernhart <marie.bernhart@gmail.com>|>fini!!.rar#678421151|>fini!!\\viewpixels.exe\n",
      "incoming email 're: 12020741 recall 871125201976 portable gas stove' from: \"mate bence\" <mate.bence@impar.ro>, to: \"'bak ferenc'\" <bak.ferenc@impar.ro>,\"'impar \\(op_fact\\)'\" <op_fact@impar.ro>,\"'kiss zoltan'\" <kiss.zoltan@impar.ro>\n",
      "mail\\entrant\\<no subject>\\planning fermeture a2 v3.xlsm\n",
      "\\\\;ncfsd\\cscidc\\sys_data\\thuno\\taichinh\\so phu ngan hang\\so phu ngan hang\\bidv - tk 14156\\2021\\t6-2021\\7 6 2021.xls\n",
      "correo\\bandeja de entrada\\<no subject>\\errepar_gciasbspers_2019_fa_fe_00_eol.xlsm\n",
      "incoming email 're: ð¢ðµññð¾ð²ñðµ_ð·ð°ð´ð°ð½ð¸ñ' from: hanna eismant <hanna.eismant@gmail.com>, to: ðð»ðµðºñðµð¹_ðñð¸ð²ðµð½ñ<alexey.krivenia@citeck.ru>|>testwork.zip#2040308540|>testwork\\brackets\\bin\\debug\\brackets.exe\n",
      "incoming email 're: 12020741 recall 871125201976 portable gas stove' from: \"mate bence\" <mate.bence@impar.ro>, to: \"'bak ferenc'\" <bak.ferenc@impar.ro>,\"'impar \\(op_fact\\)'\" <op_fact@impar.ro>,\"'kiss zoltan'\" <kiss.zoltan@impar.ro>\n",
      "*process\\169c\\aswidsagent.exe\\2dc00456000\\38000\n",
      "dohodna e poå¡ta 're: preraäeni program za frezani' iz: asfaltna tehnika - kovinarska krå ko<asfaltna.tehnika@siol.net>, na: sine <strojansek@siol.net>|>razvoj ( gemax koncna verzija 10-6-2021).rar#3558468690|>razvoj ( gemax koncna verzija 10-6-2021)\\statistika\\ob_podatkov\\ob_podat.exe\n",
      "傳出電子郵件 'fw: wcsa rate sheet june 10' 寄件人： \"bon voyage taipei - mr.cliff lin/ deputy general manager\" <cliff-tpe@bvlogisticsinc.com.tw>, 收件人： \"'bon voyage taipei - mr. julian chu / operation dept. - documentation \\(mexico, wcca, wcsa, caribbean trades\\)'\" <jul\n",
      "bejã¶vå levã©l 'anyagozã³' feladã³: jesna kft <jesnatrade@yahoo.com>, cã­mzett: drevenka_gyã¶rgy <ampervadasz007@gmail.com>|>anyagozäå.zip#53497424|>anyagozã³\\anyag.exe\n",
      "\\\\?\\harddiskvolume101\\phgkjzknq\\phgkjzknq.lnk\n",
      "courrier entrant '' de : berthou.nicolas@laposte.net, a : berthou nicolas <berthou.nicolas@laposte.net>|>indecision.zip#1918640827|>nouveau dossier\\public\\scripts\\app.js\n",
      "\\\\;ncfsd\\orinew\\user\\prog\\prg\\autorun.inf\n",
      "mail\\inbox\\<no subject>\\s_ 459l_blk 10dd_stope note_meeting projection-2021 - last updated.xlsm\n",
      "å³åºé»å­éµä»¶ 'ak7v f2 (v2.5)' å¯ä»¶äººï¼ \"rickylu\" <ricky@atrack.com.tw>, æ¶ä»¶äººï¼ \"luis \\(atrack\\)\" <luis@atrack.com.tw>,\"'fly'\" <fly@atrack.com.tw>|>ak7v_barcodeprint_2.5.zip#2523841356|>ak7v_barcodeprint_2.5.exe\n",
      "å³å¥é»å­éµä»¶ 'taps-5235-21 tchm021b001278 - ka ling secondary school (5235) - revised ric submission' å¯ä»¶äººï¼ \"thomasa fan\" <thomasafan@rssurveyors.com>, æ¶ä»¶äººï¼ \"'ricky chan'\" <rickychan.tchm021@gmail.com>,\"'jeremy tse \\(rs\\)'\" <jeremytse@rssurveyors.com>,\"'9og102rsr2a'\n",
      "å³å¥é»å­éµä»¶ 'taps-5235-21 tchm021b001278 - ka ling secondary school (5235) - revised ric submission' å¯ä»¶äººï¼ \"thomasa fan\" <thomasafan@rssurveyors.com>, æ¶ä»¶äººï¼ \"'ricky chan'\" <rickychan.tchm021@gmail.com>,\"'jeremy tse \\(rs\\)'\" <jeremytse@rssurveyors.com>,\"'9og102rsr2a'\n",
      "mail\\inbox\\<no subject>\\s_ 459l_blk 10dd_stope note_meeting projection-2021 - last updated.xlsm\n",
      "\\\\;ncfsd\\cscidc\\sys_data\\thuno\\taichinh\\so phu ngan hang\\so phu ngan hang\\bidv - tk 14156\\2021\\t6-2021\\7 6 2021.xls\n",
      "mail\\entrant\\<no subject>\\planning fermeture a2 v3.xlsm\n",
      "påã­chozã­ e-mail '3' od: tomã¡å¡ mihula <tomas.mihula@gmail.com>, komu: adam gibala <adam@gibala.com>|>priklad_3.rar#3755727388|>priklad_3\\debug\\priklad_3.exe\n",
      "påã­chozã­ e-mail '3' od: tomã¡å¡ mihula <tomas.mihula@gmail.com>, komu: adam gibala <adam@gibala.com>|>priklad_3.rar#3755727388|>priklad_3\\debug\\priklad_3.exe\n",
      "mail\\entrant\\<no subject>\\planning fermeture a2 v3.xlsm\n",
      "poczta przychodzäca 'fwd: rk-2026spgms - b608 - kolorowy skiepko' od: piotr gryczko <pgbartoszyce@wp.pl>, do: \"krzysztof fiedorowicz p.w. key\" <kf@pwkey.eu>|>rk-2026-pc-terminal-b608.zip#2697848016|>rk-2026-pc-terminal\\rk-2026-pc-terminal.exe\n",
      "correo\\bandeja de entrada\\<no subject>\\errepar_gciasbspers_2019_fa_fe_00_eol.xlsm\n",
      "\\\\;ncfsd\\cscidc\\sys_data\\thuno\\taichinh\\so phu ngan hang\\so phu ngan hang\\bidv - tk 14156\\2021\\t6-2021\\9 6 2021.xls\n",
      "crud_empleados.rar|>crud_empleados.rar#938408202|>crud_empleados\\js\\app.js\n",
      "incoming email 're: 12020741 recall 871125201976 portable gas stove' from: \"mate bence\" <mate.bence@impar.ro>, to: \"'bak ferenc'\" <bak.ferenc@impar.ro>,\"'impar \\(op_fact\\)'\" <op_fact@impar.ro>,\"'kiss zoltan'\" <kiss.zoltan@impar.ro>\n",
      "incoming email 'pca code in c' from: dibyendu mukherjee <dibyendu.voyager@gmail.com>, to: ashirbani09@gmail.com, sahai@uwindsor.ca|>pca2.rar#105126460|>pca2\\debug\\pca.exe\n",
      "\\\\;ncfsd\\cscidc\\sys_data\\thuno\\taichinh\\so phu ngan hang\\so phu ngan hang\\bidv - tk 14156\\2021\\t6-2021\\9 6 2021.xls\n",
      "eingehende e-mail 'aw:_zugã¤nge_fã¼r_gottstein.at' von: michael marz <mmarz@texdata.de>, an: christian leibrandt - arboro gmbh <c.leibrandt@arboro.de>|>texdatacustomfields1.0.1.rar#3587593460|>texdatacustomfields\\src\\resources\\app\\administration\\src\\extension\\sw-order\\component\\sw-order-line-items-grid\\index.js\n",
      "incoming email 'delivery status notification' from: anonymous@srv047011.webreus.nl, to: camelford@kernowproperties.co.uk|>fedex-delivery-details-id-0oywj0ql.zip#1436162361|>fedex-delivery-details-id-0oywj0ql\\fedex-delivery-details-id-0oywj0ql.doc.js\n",
      "correo\\bandeja de entrada\\<no subject>\\errepar_gciasbspers_2019_fa_fe_00_eol.xlsm\n",
      "c:1\\binaries\\nms.exe\n",
      "mail\\entrant\\<no subject>\\planning fermeture a2 v3.xlsm\n",
      "mail\\entrant\\<no subject>\\planning fermeture a2 v3.xlsm\n",
      "\\\\caixasãnia-pc\\auttar\\autorizarini.exe.lnk\n",
      "e-mail in entrata 'panel update project enerles 79007' da: \"lantz, michael\" <lantz@amandus-kahl-group.de>, a: \"ut@heronautomation.it\" <ut@heronautomation.it>|>eapr_op 177b color (1)_pgt.zip#3979209652|>pack&go.op 177b 6'' color pn_dp\\transfer\\transfertool.exe\n",
      "correo entrante 'rv: vpn alberto sanchez' de: <slemus@siscam.cl>, para: <ibello@dsmsolutions.cl>|>openvpn-client-portable-2.0.33.zip#3626055627|>portable\\bin\\x32\\openvpn.exe\n",
      "mail\\entrant\\<no subject>\\planning fermeture a2 v3.xlsm\n",
      "incoming email 're: 12020741 recall 871125201976 portable gas stove' from: \"mate bence\" <mate.bence@impar.ro>, to: \"'bak ferenc'\" <bak.ferenc@impar.ro>,\"'impar \\(op_fact\\)'\" <op_fact@impar.ro>,\"'kiss zoltan'\" <kiss.zoltan@impar.ro>\n"
     ]
    }
   ],
   "source": [
    "e = df[\n",
    "    (~df.str.contains(\"[net]\",regex=False)) & \n",
    "    (~df.str.contains(\"[drive]\",regex=False))\n",
    "]\n",
    "print(e.shape[0])\n",
    "print(e.shape[0]*100/df.shape[0], \" %\")\n",
    "_ = e.apply(lambda x: print(x))"
   ]
  },
  {
   "cell_type": "code",
   "execution_count": 26,
   "metadata": {},
   "outputs": [
    {
     "name": "stdout",
     "output_type": "stream",
     "text": [
      "263886\n",
      "263310\n",
      "682\n",
      "263992 263886\n"
     ]
    }
   ],
   "source": [
    "# last filter based on noise\n",
    "df_test = df[(df.str.contains(\"[net]\",regex=False)) | (df.str.contains(\"[drive]\",regex=False))]\n",
    "print(df_test.shape[0])\n",
    "df_nomail = df[(~df.str.contains(\"mail\")) & (~df.str.contains(r\"[<>]\", regex=True))]\n",
    "print(df_nomail.shape[0])\n",
    "df_mail = df[(df.str.contains(\"mail\")) | (df.str.contains(r\"[<>]\", regex=True))]\n",
    "print(df_mail.shape[0])\n",
    "\n",
    "print(df_mail.shape[0] + df_nomail.shape[0], df_test.shape[0])"
   ]
  },
  {
   "cell_type": "markdown",
   "metadata": {},
   "source": [
    "IF just filter string \"mail\" or any of `<>` - something legit comes out, weird examples:"
   ]
  },
  {
   "cell_type": "code",
   "execution_count": 31,
   "metadata": {},
   "outputs": [
    {
     "data": {
      "text/plain": [
       "'[drive]\\\\users\\\\[user]\\\\downloads\\\\nokia_tool_v0.060\\\\nokia_tool.exeâ\\xa0|>[embedded_i#575400]'"
      ]
     },
     "execution_count": 31,
     "metadata": {},
     "output_type": "execute_result"
    }
   ],
   "source": [
    "df[df.str.contains(r\"[<>]\", regex=True)].iloc[-10]"
   ]
  }
 ],
 "metadata": {
  "interpreter": {
   "hash": "34c873defd3a8992f50d66eecf6d87e388d7227e176883a0e053f6f337feb4ed"
  },
  "kernelspec": {
   "display_name": "Python 3.8.8 64-bit ('base': conda)",
   "language": "python",
   "name": "python3"
  },
  "language_info": {
   "codemirror_mode": {
    "name": "ipython",
    "version": 3
   },
   "file_extension": ".py",
   "mimetype": "text/x-python",
   "name": "python",
   "nbconvert_exporter": "python",
   "pygments_lexer": "ipython3",
   "version": "3.8.8"
  },
  "orig_nbformat": 4
 },
 "nbformat": 4,
 "nbformat_minor": 2
}
