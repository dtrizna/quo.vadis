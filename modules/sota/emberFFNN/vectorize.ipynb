{
 "cells": [
  {
   "cell_type": "code",
   "execution_count": 3,
   "metadata": {},
   "outputs": [],
   "source": [
    "import os\n",
    "\n",
    "root = \"../../../\"\n",
    "import sys\n",
    "sys.path.append(root)\n",
    "\n",
    "from ember import PEFeatureExtractor\n",
    "import numpy as np\n",
    "import pickle\n",
    "from copy import deepcopy"
   ]
  },
  {
   "cell_type": "markdown",
   "metadata": {},
   "source": [
    "## Feature vector example"
   ]
  },
  {
   "cell_type": "code",
   "execution_count": 2,
   "metadata": {},
   "outputs": [],
   "source": [
    "def get_ember_feature_vector(file_data):\n",
    "    extractor = PEFeatureExtractor(feature_version=2, print_feature_warning=False)\n",
    "    features = np.array(extractor.feature_vector(file_data), dtype=np.float32)\n",
    "    return features"
   ]
  },
  {
   "cell_type": "code",
   "execution_count": 5,
   "metadata": {},
   "outputs": [],
   "source": [
    "LIMIT = 10\n",
    "\n",
    "pe_trainset_path = root + \"data/archives/pe_trainset/PeX86Exe/\"\n",
    "samples = [os.path.join(pe_trainset_path + \"backdoor\", x) for x in os.listdir(pe_trainset_path + \"backdoor\")[0:LIMIT]]\n",
    "\n",
    "with open(samples[0], \"rb\") as f:\n",
    "    bytez = f.read()"
   ]
  },
  {
   "cell_type": "code",
   "execution_count": 10,
   "metadata": {},
   "outputs": [],
   "source": [
    "feature_example = get_ember_feature_vector(bytez)"
   ]
  },
  {
   "cell_type": "code",
   "execution_count": 34,
   "metadata": {},
   "outputs": [
    {
     "name": "stdout",
     "output_type": "stream",
     "text": [
      "(2381,)\n"
     ]
    },
    {
     "data": {
      "text/plain": [
       "array([0.20424816, 0.0060663 , 0.00510061, ..., 0.        , 0.        ,\n",
       "       0.        ], dtype=float32)"
      ]
     },
     "execution_count": 34,
     "metadata": {},
     "output_type": "execute_result"
    }
   ],
   "source": [
    "print(feature_example.shape)\n",
    "feature_example"
   ]
  },
  {
   "cell_type": "markdown",
   "metadata": {},
   "source": [
    "# Getting static sets"
   ]
  },
  {
   "cell_type": "code",
   "execution_count": 67,
   "metadata": {},
   "outputs": [],
   "source": [
    "set_path = root + \"data/train_val_test_sets/\"\n",
    "train_set = pickle.load(open(set_path+\"X_train.pickle.set\", \"rb\"))\n",
    "y_train_set = np.load(set_path + \"y_train.arr\")\n",
    "val_set = pickle.load(open(set_path+\"X_val.pickle.set\", \"rb\"))\n",
    "y_val_set = np.load(set_path + \"y_val.arr\")"
   ]
  },
  {
   "cell_type": "code",
   "execution_count": 26,
   "metadata": {},
   "outputs": [
    {
     "name": "stdout",
     "output_type": "stream",
     "text": [
      "72684\n"
     ]
    },
    {
     "data": {
      "text/plain": [
       "['976c215002b82debe3023a8e5e2c9f88714a9daa0f180151c66e6def19973f62',\n",
       " '392bfa2256e5df20aa10dba3d9c8568906feb7cdec311c8bd4b5dee650b87931',\n",
       " '2fc9774dedd39618d8bcd5bc3814707c4e705bc5afacda7be740634e31ddc8c3']"
      ]
     },
     "execution_count": 26,
     "metadata": {},
     "output_type": "execute_result"
    }
   ],
   "source": [
    "print(len(train_set))\n",
    "train_set[0:3]"
   ]
  },
  {
   "cell_type": "code",
   "execution_count": 27,
   "metadata": {},
   "outputs": [
    {
     "name": "stdout",
     "output_type": "stream",
     "text": [
      "(72684,)\n"
     ]
    },
    {
     "data": {
      "text/plain": [
       "array([1., 1., 1.])"
      ]
     },
     "execution_count": 27,
     "metadata": {},
     "output_type": "execute_result"
    }
   ],
   "source": [
    "print(y_train_set.shape)\n",
    "y_train_set[0:3]"
   ]
  },
  {
   "cell_type": "markdown",
   "metadata": {},
   "source": [
    "# Featurizing"
   ]
  },
  {
   "cell_type": "code",
   "execution_count": 74,
   "metadata": {},
   "outputs": [
    {
     "name": "stdout",
     "output_type": "stream",
     "text": [
      "backdoor (total=11088): |0|1|2|\n",
      "coinminer (total=9518): |0|\n",
      "Something is wrong with ../../data/archives/pe_trainset/PeX86Exe/coinminer\\000061537fc1afe9f356fc3cfed13581524c3d49be789a91c8c3f836ff16805f\n",
      "1|2|\n"
     ]
    }
   ],
   "source": [
    "def get_ember_feature_vector(file_data):\n",
    "    extractor = PEFeatureExtractor(feature_version=2, print_feature_warning=False)\n",
    "    features = np.array(extractor.feature_vector(file_data), dtype=np.float32)\n",
    "    return features\n",
    "\n",
    "set_path = root + \"data/train_val_test_sets/\"\n",
    "train_set = pickle.load(open(set_path+\"X_train.pickle.set\", \"rb\"))\n",
    "y_train_set = np.load(set_path + \"y_train.arr\")\n",
    "val_set = pickle.load(open(set_path+\"X_val.pickle.set\", \"rb\"))\n",
    "y_val_set = np.load(set_path + \"y_val.arr\")\n",
    "\n",
    "pe_trainvalset_path = root + \"data/archives/pe_trainset/PeX86Exe/\"\n",
    "\n",
    "X_ember_trainset = np.empty((0,2381))\n",
    "X_ember_valset = np.empty((0,2381))\n",
    "y_ember_trainset = []\n",
    "y_ember_valset = []\n",
    "\n",
    "malicious_folders = [\"backdoor\", \"coinminer\"]#, \"dropper\", \"keylogger\", \"ransomware\", \"rat\", \"trojan\"]\n",
    "for folder in malicious_folders + [\"clean\"]:\n",
    "    hashes = os.listdir(pe_trainvalset_path + folder)\n",
    "    if len(hashes) == 0:\n",
    "        print(f\"\\nSomething is wrong with {folder}\\n\")\n",
    "    \n",
    "    fullpaths = [os.path.join(pe_trainvalset_path + folder, x) for x in hashes]\n",
    "\n",
    "    l = len(hashes)\n",
    "    print(folder, end=f\" (total={l}): |\")\n",
    "    for i in range(3): #l): # TBD \n",
    "        print(i, end=\"|\")\n",
    "        hh = hashes[i]\n",
    "        fhh = fullpaths[i]    \n",
    "        with open(fhh, \"rb\") as f:\n",
    "            bytez = f.read()\n",
    "    \n",
    "        feature_vector = get_ember_feature_vector(bytez)\n",
    "        \n",
    "        if hh in train_set:\n",
    "            X_ember_trainset = np.vstack([X_ember_trainset, feature_vector])\n",
    "            \n",
    "            if folder in malicious_folders:\n",
    "                y_ember_trainset.append(1)\n",
    "            else:\n",
    "                y_ember_trainset.append(0)\n",
    "            \n",
    "            del(train_set[train_set.index(hh)])\n",
    "        \n",
    "        elif hh in val_set:\n",
    "            X_ember_valset = np.vstack([X_ember_valset, feature_vector])\n",
    "            \n",
    "            if folder in malicious_folders:\n",
    "                y_ember_valset.append(1)\n",
    "            else:\n",
    "                y_ember_valset.append(0)\n",
    "            \n",
    "            del(val_set[val_set.index(hh)])\n",
    "\n",
    "        else:\n",
    "            print(f\"\\nCannot find {fhh}\")\n",
    "\n",
    "    print()"
   ]
  },
  {
   "cell_type": "code",
   "execution_count": null,
   "metadata": {},
   "outputs": [],
   "source": [
    "folder = \"clean\"\n",
    "hashes = os.listdir(pe_trainvalset_path + folder)\n",
    "fullpaths = [os.path.join(pe_trainvalset_path + folder, x) for x in hashes]\n",
    "l = len(hashes)\n",
    "print(folder, end=f\" (total={l}): |\")\n",
    "for i in range(l):\n",
    "    hh = hashes[i]\n",
    "    fhh = fullpaths[i]"
   ]
  }
 ],
 "metadata": {
  "kernelspec": {
   "display_name": "Python 3.9.13 ('_localQuoVadisPythonEnv': venv)",
   "language": "python",
   "name": "python3"
  },
  "language_info": {
   "codemirror_mode": {
    "name": "ipython",
    "version": 3
   },
   "file_extension": ".py",
   "mimetype": "text/x-python",
   "name": "python",
   "nbconvert_exporter": "python",
   "pygments_lexer": "ipython3",
   "version": "3.9.13"
  },
  "orig_nbformat": 4,
  "vscode": {
   "interpreter": {
    "hash": "f9535e8dccbd70afdbee2a03d6200a267b05376dbac5f7bee202056aa5f9c894"
   }
  }
 },
 "nbformat": 4,
 "nbformat_minor": 2
}
