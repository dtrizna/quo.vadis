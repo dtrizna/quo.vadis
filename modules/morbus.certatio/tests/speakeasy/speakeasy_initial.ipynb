{
 "cells": [
  {
   "cell_type": "code",
   "execution_count": 1,
   "metadata": {},
   "outputs": [],
   "source": [
    "import speakeasy\n",
    "import os\n",
    "import time\n",
    "import pandas as pd\n",
    "import numpy as np\n",
    "from pefile import PEFormatError\n",
    "from unicorn import UcError"
   ]
  },
  {
   "cell_type": "code",
   "execution_count": 3,
   "metadata": {},
   "outputs": [],
   "source": [
    "MALWARE_PATH = \"../../../data/pe.dataset/PeX86Exe/ransomware/\"\n",
    "files_200 = [x for x in os.listdir(MALWARE_PATH)[200:400]]"
   ]
  },
  {
   "cell_type": "code",
   "execution_count": 3,
   "metadata": {},
   "outputs": [
    {
     "name": "stdout",
     "output_type": "stream",
     "text": [
      "0/200, took: 0.00s | 1/200, took: 0.94s | 2/200, took: 0.38s | 3/200, took: 27.99s | 4/200, took: 0.32s | 5/200, took: 0.40s | 6/200, took: 1.04s | 7/200, took: 1.04s | 8/200, took: 0.45s | 9/200, took: 12.72s | 10/200, took: 0.91s | 11/200, took: 2.28s | 12/200, took: 0.53s | 13/200, took: 0.47s | 14/200, took: 0.86s | 15/200, took: 1.41s | 16/200, took: 0.52s | 17/200, took: 1.01s | 18/200, took: 5.48s | 19/200, took: 0.61s | 20/200, took: 1.08s | 21/200, took: 1.09s | 22/200, took: 0.50s | 23/200, took: 2.10s | 24/200, took: 6.16s | 25/200, took: 0.39s | 26/200, took: 60.36s | 27/200, took: 60.38s | 28/200, took: 1.64s | 29/200, took: 0.40s | 30/200, took: 2.04s | 31/200, took: 1.88s | 32/200, took: 1.10s | 33/200, took: 0.61s | 34/200, took: 1.19s | 35/200, took: 60.59s | 36/200, took: 1.05s | 37/200, took: 0.36s | 38/200, took: 0.33s | 39/200, took: 1.19s | 40/200, took: 1.47s | 41/200, took: 1.49s | 42/200, took: 1.00s | 43/200, took: 0.44s | 44/200, took: 0.90s | 45/200, took: 1.04s | 46/200, took: 0.91s | 47/200, took: 60.38s | 48/200, took: 1.56s | 49/200, took: 1.57s | 50/200, took: 1.49s | 51/200, took: 1.64s | 52/200, took: 0.68s | 53/200, took: 2.52s | 54/200, took: 0.51s | 55/200, took: 0.55s | 56/200, took: 1.46s | 57/200, took: 23.61s | 58/200, took: 0.40s | 59/200, took: 7.06s | 60/200, took: 0.45s | 61/200, took: 1.25s | 62/200, took: 1.13s | 63/200, took: 0.65s | 64/200, took: 60.39s | 65/200, took: 2.15s | 66/200, took: 22.58s | 67/200, took: 60.70s | 68/200, took: 2.21s | 69/200, took: 0.91s | 70/200, took: 1.06s | 71/200, took: 14.36s | 72/200, took: 60.35s | 73/200, took: 1.27s | 74/200, took: 1.04s | 75/200, took: 1.56s | 76/200, took: 0.35s | 77/200, took: 60.24s | 78/200, took: 2.22s | \n",
      "failed cbd638bdd9470034c25633524cf23dd160c9ca5c57f3a0be8c564c0e5cfd1a5b Invalid memory write (UC_ERR_WRITE_UNMAPPED)\n",
      "79/200, took: 27.49s | 80/200, took: 0.83s | 81/200, took: 0.77s | 82/200, took: 60.47s | 83/200, took: 0.56s | 84/200, took: 5.81s | 85/200, took: 0.36s | 86/200, took: 1.03s | 87/200, took: 60.36s | 88/200, took: 0.36s | 89/200, took: 3.41s | 90/200, took: 52.39s | 91/200, took: 0.67s | 92/200, took: 0.44s | 93/200, took: 1.94s | 94/200, took: 1.53s | 95/200, took: 1.07s | 96/200, took: 0.31s | 97/200, took: 0.33s | 98/200, took: 1.67s | 99/200, took: 0.91s | 100/200, took: 0.35s | 101/200, took: 6.29s | 102/200, took: 1.08s | 103/200, took: 0.36s | 104/200, took: 1.03s | 105/200, took: 6.31s | 106/200, took: 0.36s | 107/200, took: 1.01s | 108/200, took: 0.64s | 109/200, took: 0.33s | 110/200, took: 0.44s | 111/200, took: 0.36s | 112/200, took: 60.42s | 113/200, took: 96.44s | 114/200, took: 0.43s | 115/200, took: 58.02s | 116/200, took: 0.59s | 117/200, took: 2.02s | 118/200, took: 0.57s | 119/200, took: 6.61s | 120/200, took: 1.39s | 121/200, took: 1.00s | 122/200, took: 1.27s | 123/200, took: 1.08s | 124/200, took: 0.37s | 125/200, took: 6.18s | 126/200, took: 0.41s | 127/200, took: 0.34s | 128/200, took: 0.35s | 129/200, took: 0.40s | 130/200, took: 0.54s | 131/200, took: 1.40s | 132/200, took: 1.07s | 133/200, took: 1.06s | 134/200, took: 0.36s | 135/200, took: 0.44s | 136/200, took: 0.87s | 137/200, took: 1.27s | 138/200, took: 60.34s | 139/200, took: 0.45s | 140/200, took: 0.38s | 141/200, took: 0.37s | 142/200, took: 0.36s | 143/200, took: 0.56s | 144/200, took: 1.76s | 145/200, took: 1.27s | 146/200, took: 16.05s | 147/200, took: 0.66s | 148/200, took: 6.15s | 149/200, took: 6.11s | 150/200, took: 0.93s | 151/200, took: 0.33s | 152/200, took: 0.44s | 153/200, took: 1.44s | 154/200, took: 0.31s | 155/200, took: 1.53s | 156/200, took: 6.06s | 157/200, took: 1.01s | 158/200, took: 1.07s | 159/200, took: 0.55s | 160/200, took: 6.19s | 161/200, took: 0.91s | 162/200, took: 0.36s | 163/200, took: 0.38s | 164/200, took: 0.36s | 165/200, took: 0.35s | 166/200, took: 0.37s | 167/200, took: 1.25s | 168/200, took: 1.55s | 169/200, took: 0.54s | 170/200, took: 2.51s | 171/200, took: 0.37s | 172/200, took: 6.11s | 173/200, took: 0.62s | 174/200, took: 0.43s | 175/200, took: 0.93s | 176/200, took: 0.36s | 177/200, took: 0.64s | 178/200, took: 1.02s | 179/200, took: 0.27s | 180/200, took: 0.61s | 181/200, took: 0.37s | 182/200, took: 0.92s | 183/200, took: 0.33s | 184/200, took: 1.24s | 185/200, took: 0.41s | 186/200, took: 6.00s | 187/200, took: 60.40s | 188/200, took: 0.72s | 189/200, took: 0.57s | 190/200, took: 0.95s | 191/200, took: 0.37s | 192/200, took: 0.68s | 193/200, took: 60.33s | 194/200, took: 0.66s | 195/200, took: 0.33s | 196/200, took: 0.44s | 197/200, took: 0.69s | 198/200, took: 0.56s | 199/200, took: 0.37s | \n",
      "average analysis time per sample: 7.130548418760299\n"
     ]
    }
   ],
   "source": [
    "reports = {}\n",
    "timedeltas = []\n",
    "\n",
    "now = time.time()\n",
    "for i, file in enumerate(files_200):\n",
    "    # calculations\n",
    "    took = time.time()-now\n",
    "    timedeltas.append(took)\n",
    "    now = time.time()\n",
    "\n",
    "    print(f\"{i}/{len(files_200)}, took: {took:.2f}s\", end=\" | \")\n",
    "    se = speakeasy.Speakeasy()\n",
    "    try:\n",
    "        module = se.load_module(MALWARE_PATH+file)\n",
    "        se.run_module(module)\n",
    "        reports[file] = se.get_report()\n",
    "    except PEFormatError as ex:\n",
    "        print(f\"\\nfailed {file}\", ex)\n",
    "    except UcError as ex:\n",
    "        print(f\"\\nfailed {file}\", ex)\n",
    "\n",
    "print(f\"\\naverage analysis time per sample: {np.mean(timedeltas)}\")"
   ]
  },
  {
   "cell_type": "code",
   "execution_count": 5,
   "metadata": {},
   "outputs": [],
   "source": [
    "import pickle\n",
    "# with open(\"reports_ransomware_200_400_nomods.pickle\", \"wb\") as fhandle:\n",
    "#     pickle.dump(reports, fhandle, protocol=pickle.HIGHEST_PROTOCOL)\n",
    "\n",
    "with open(\"reports_ransomware_200_400_nomods.pickle\", \"rb\") as fhandle:\n",
    "    reports = pickle.load(fhandle)"
   ]
  },
  {
   "cell_type": "code",
   "execution_count": 6,
   "metadata": {},
   "outputs": [],
   "source": [
    "def parse_report(report):\n",
    "    aa = pd.json_normalize(report)\n",
    "    ab = pd.json_normalize(aa[\"entry_points\"].iloc[0])\n",
    "    try:\n",
    "        if ab[\"apis\"].any():\n",
    "            #print(ab[\"apis\"])\n",
    "            ac = pd.json_normalize(ab[\"apis\"].iloc[0])\n",
    "        else:\n",
    "            ac = []\n",
    "    except AttributeError:\n",
    "        ac = []\n",
    "    return aa, ab, ac"
   ]
  },
  {
   "cell_type": "code",
   "execution_count": 7,
   "metadata": {},
   "outputs": [
    {
     "name": "stdout",
     "output_type": "stream",
     "text": [
      "916bc6fd4d12c7f53f81d4e3bdf21271ac70a928fab0c9622b61e0a4ac504c9d  :  Failed to get character width from function: kernel32.GetVolumeInformation\n",
      "16815410c21e49d86db3ec362142116367a373b5e0e7d0ac5c6c568edb5b0567  :  invalid_fetch\n",
      "7b500f44908f6a9abef119e71e5774a1769717fb26b934e30511fa9827cb9466  :  nan\n",
      "d473941e52b9c094b93045309228f6d4d3749c16ccbb88bcca9c7123b1a4de27  :  unsupported_api\n",
      "bc61e33eedd1a5f70730fd7d7d54842b694522912bf5a0fa5dba900586d3816e  :  unsupported_api\n",
      "eee2e1596b91c478c34ce46819a810033c517861348b99806def31ac81811f0d  :  Failed to get character width from function: kernel32.GetVolumeInformation\n",
      "ed55da050e6765f5aa3026e1549706e2541e5744d4f8fd7fa073c9493603772d  :  Failed to get character width from function: kernel32.GetVolumeInformation\n",
      "37f5efd1aed9594306f7d26841829d6f11d0e73efc68eeda0ebde9ee1f1cfe75  :  unsupported_api\n",
      "8a9afbb3536092092708cbe02e86cb40d5ce8952d4778a79e0fa5260f542712b  :  'Win32Emulator' object has no attribute 'dev_ioctl'\n",
      "f562018b8ee371f1c2fe7b38263342e745d12558e83753bfb4967d3f64a0565f  :  Failed to get character width from function: kernel32.GetVolumeInformation\n"
     ]
    }
   ],
   "source": [
    "bs = []\n",
    "for i,f in enumerate(files_200[0:10]):\n",
    "    a, b, c = parse_report(reports[f])\n",
    "    if \"error.type\" in b.keys():\n",
    "        bs.append(b)\n",
    "        print(f,\" : \" ,b[\"error.type\"].iloc[0])\n",
    "    else:\n",
    "        print(f, \" : success\")"
   ]
  },
  {
   "cell_type": "code",
   "execution_count": 15,
   "metadata": {},
   "outputs": [
    {
     "data": {
      "text/plain": [
       "'Failed to get character width from function: kernel32.GetVolumeInformation'"
      ]
     },
     "execution_count": 15,
     "metadata": {},
     "output_type": "execute_result"
    }
   ],
   "source": [
    "bs[0][\"error.type\"].iloc[0]"
   ]
  },
  {
   "cell_type": "markdown",
   "metadata": {},
   "source": [
    "## examine succeeded reports"
   ]
  },
  {
   "cell_type": "code",
   "execution_count": 91,
   "metadata": {},
   "outputs": [
    {
     "name": "stdout",
     "output_type": "stream",
     "text": [
      "Index(['ep_type', 'start_addr', 'ep_args', 'apihash', 'apis', 'ret_val',\n",
      "       'dynamic_code_segments', 'error.type', 'error.count', 'error.pc',\n",
      "       'error.last_api'],\n",
      "      dtype='object')\n"
     ]
    },
    {
     "data": {
      "text/html": [
       "<div>\n",
       "<style scoped>\n",
       "    .dataframe tbody tr th:only-of-type {\n",
       "        vertical-align: middle;\n",
       "    }\n",
       "\n",
       "    .dataframe tbody tr th {\n",
       "        vertical-align: top;\n",
       "    }\n",
       "\n",
       "    .dataframe thead th {\n",
       "        text-align: right;\n",
       "    }\n",
       "</style>\n",
       "<table border=\"1\" class=\"dataframe\">\n",
       "  <thead>\n",
       "    <tr style=\"text-align: right;\">\n",
       "      <th></th>\n",
       "      <th>ep_type</th>\n",
       "      <th>start_addr</th>\n",
       "      <th>ep_args</th>\n",
       "      <th>apihash</th>\n",
       "      <th>apis</th>\n",
       "      <th>ret_val</th>\n",
       "      <th>dynamic_code_segments</th>\n",
       "      <th>error.type</th>\n",
       "      <th>error.count</th>\n",
       "      <th>error.pc</th>\n",
       "      <th>error.last_api</th>\n",
       "    </tr>\n",
       "  </thead>\n",
       "  <tbody>\n",
       "    <tr>\n",
       "      <th>0</th>\n",
       "      <td>module_entry</td>\n",
       "      <td>0x404663</td>\n",
       "      <td>[0x4000, 0x4010, 0x4020, 0x4030]</td>\n",
       "      <td>c16d89e1464b49e5533e624f6b5137c2154a9c5dc95333...</td>\n",
       "      <td>[{'pc': '0x409d4b', 'api_name': 'KERNEL32.GetS...</td>\n",
       "      <td>0x0</td>\n",
       "      <td>[]</td>\n",
       "      <td>max_api_count</td>\n",
       "      <td>10000</td>\n",
       "      <td>0x401875</td>\n",
       "      <td>KERNEL32.GetThreadPriority</td>\n",
       "    </tr>\n",
       "  </tbody>\n",
       "</table>\n",
       "</div>"
      ],
      "text/plain": [
       "        ep_type start_addr                           ep_args  \\\n",
       "0  module_entry   0x404663  [0x4000, 0x4010, 0x4020, 0x4030]   \n",
       "\n",
       "                                             apihash  \\\n",
       "0  c16d89e1464b49e5533e624f6b5137c2154a9c5dc95333...   \n",
       "\n",
       "                                                apis ret_val  \\\n",
       "0  [{'pc': '0x409d4b', 'api_name': 'KERNEL32.GetS...     0x0   \n",
       "\n",
       "  dynamic_code_segments     error.type  error.count  error.pc  \\\n",
       "0                    []  max_api_count        10000  0x401875   \n",
       "\n",
       "               error.last_api  \n",
       "0  KERNEL32.GetThreadPriority  "
      ]
     },
     "execution_count": 91,
     "metadata": {},
     "output_type": "execute_result"
    }
   ],
   "source": [
    "suceeded_report = reports[\"f118b1f459eff5bfbf58eb2e6677c593ea47974c6f738e9c4b0fd4287940df40\"]\n",
    "suceeded_aa = pd.json_normalize(suceeded_report[\"entry_points\"])\n",
    "print(suceeded_aa.columns)\n",
    "suceeded_aa"
   ]
  },
  {
   "cell_type": "markdown",
   "metadata": {},
   "source": [
    "## examine failed reports"
   ]
  },
  {
   "cell_type": "code",
   "execution_count": 92,
   "metadata": {},
   "outputs": [
    {
     "name": "stdout",
     "output_type": "stream",
     "text": [
      "Index(['ep_type', 'start_addr', 'ep_args', 'apihash', 'apis', 'ret_val',\n",
      "       'dynamic_code_segments', 'error.type', 'error.pc', 'error.address',\n",
      "       'error.instr', 'error.regs.esp', 'error.regs.ebp', 'error.regs.eip',\n",
      "       'error.regs.esi', 'error.regs.edi', 'error.regs.eax', 'error.regs.ebx',\n",
      "       'error.regs.ecx', 'error.regs.edx', 'error.stack', 'error.traceback'],\n",
      "      dtype='object')\n"
     ]
    },
    {
     "data": {
      "text/html": [
       "<div>\n",
       "<style scoped>\n",
       "    .dataframe tbody tr th:only-of-type {\n",
       "        vertical-align: middle;\n",
       "    }\n",
       "\n",
       "    .dataframe tbody tr th {\n",
       "        vertical-align: top;\n",
       "    }\n",
       "\n",
       "    .dataframe thead th {\n",
       "        text-align: right;\n",
       "    }\n",
       "</style>\n",
       "<table border=\"1\" class=\"dataframe\">\n",
       "  <thead>\n",
       "    <tr style=\"text-align: right;\">\n",
       "      <th></th>\n",
       "      <th>ep_type</th>\n",
       "      <th>start_addr</th>\n",
       "      <th>ep_args</th>\n",
       "      <th>apihash</th>\n",
       "      <th>apis</th>\n",
       "      <th>ret_val</th>\n",
       "      <th>dynamic_code_segments</th>\n",
       "      <th>error.type</th>\n",
       "      <th>error.pc</th>\n",
       "      <th>error.address</th>\n",
       "      <th>...</th>\n",
       "      <th>error.regs.ebp</th>\n",
       "      <th>error.regs.eip</th>\n",
       "      <th>error.regs.esi</th>\n",
       "      <th>error.regs.edi</th>\n",
       "      <th>error.regs.eax</th>\n",
       "      <th>error.regs.ebx</th>\n",
       "      <th>error.regs.ecx</th>\n",
       "      <th>error.regs.edx</th>\n",
       "      <th>error.stack</th>\n",
       "      <th>error.traceback</th>\n",
       "    </tr>\n",
       "  </thead>\n",
       "  <tbody>\n",
       "    <tr>\n",
       "      <th>0</th>\n",
       "      <td>module_entry</td>\n",
       "      <td>0x650a99</td>\n",
       "      <td>[0x4000, 0x4010, 0x4020, 0x4030]</td>\n",
       "      <td>e3b0c44298fc1c149afbf4c8996fb92427ae41e4649b93...</td>\n",
       "      <td>[]</td>\n",
       "      <td>0x77000f93</td>\n",
       "      <td>[]</td>\n",
       "      <td>Failed to get character width from function: k...</td>\n",
       "      <td>0x77000f93</td>\n",
       "      <td>0x77000f93</td>\n",
       "      <td>...</td>\n",
       "      <td>0x01212000</td>\n",
       "      <td>0x77000f93</td>\n",
       "      <td>0x00401d1f</td>\n",
       "      <td>0x00024c15</td>\n",
       "      <td>0x77000f93</td>\n",
       "      <td>0x01211fd8</td>\n",
       "      <td>0x00000003</td>\n",
       "      <td>0x01211fdc</td>\n",
       "      <td>[sp+0x00: 0x00401c77 -&gt; emu.module.24c3804ea87...</td>\n",
       "      <td>Traceback (most recent call last):\\n  File \"/u...</td>\n",
       "    </tr>\n",
       "  </tbody>\n",
       "</table>\n",
       "<p>1 rows × 22 columns</p>\n",
       "</div>"
      ],
      "text/plain": [
       "        ep_type start_addr                           ep_args  \\\n",
       "0  module_entry   0x650a99  [0x4000, 0x4010, 0x4020, 0x4030]   \n",
       "\n",
       "                                             apihash apis     ret_val  \\\n",
       "0  e3b0c44298fc1c149afbf4c8996fb92427ae41e4649b93...   []  0x77000f93   \n",
       "\n",
       "  dynamic_code_segments                                         error.type  \\\n",
       "0                    []  Failed to get character width from function: k...   \n",
       "\n",
       "     error.pc error.address  ... error.regs.ebp error.regs.eip error.regs.esi  \\\n",
       "0  0x77000f93    0x77000f93  ...     0x01212000     0x77000f93     0x00401d1f   \n",
       "\n",
       "  error.regs.edi error.regs.eax error.regs.ebx error.regs.ecx error.regs.edx  \\\n",
       "0     0x00024c15     0x77000f93     0x01211fd8     0x00000003     0x01211fdc   \n",
       "\n",
       "                                         error.stack  \\\n",
       "0  [sp+0x00: 0x00401c77 -> emu.module.24c3804ea87...   \n",
       "\n",
       "                                     error.traceback  \n",
       "0  Traceback (most recent call last):\\n  File \"/u...  \n",
       "\n",
       "[1 rows x 22 columns]"
      ]
     },
     "execution_count": 92,
     "metadata": {},
     "output_type": "execute_result"
    }
   ],
   "source": [
    "failed_report = reports[list(reports.keys())[0]]\n",
    "failed_aa = pd.json_normalize(failed_report[\"entry_points\"])\n",
    "print(failed_aa.columns)\n",
    "failed_aa"
   ]
  },
  {
   "cell_type": "code",
   "execution_count": 95,
   "metadata": {},
   "outputs": [
    {
     "data": {
      "text/plain": [
       "{'error.address',\n",
       " 'error.instr',\n",
       " 'error.regs.eax',\n",
       " 'error.regs.ebp',\n",
       " 'error.regs.ebx',\n",
       " 'error.regs.ecx',\n",
       " 'error.regs.edi',\n",
       " 'error.regs.edx',\n",
       " 'error.regs.eip',\n",
       " 'error.regs.esi',\n",
       " 'error.regs.esp',\n",
       " 'error.stack',\n",
       " 'error.traceback'}"
      ]
     },
     "execution_count": 95,
     "metadata": {},
     "output_type": "execute_result"
    }
   ],
   "source": [
    "error_cols = set(failed_aa) - set(suceeded_aa)   \n",
    "error_cols"
   ]
  },
  {
   "cell_type": "code",
   "execution_count": 99,
   "metadata": {},
   "outputs": [
    {
     "data": {
      "text/html": [
       "<div>\n",
       "<style scoped>\n",
       "    .dataframe tbody tr th:only-of-type {\n",
       "        vertical-align: middle;\n",
       "    }\n",
       "\n",
       "    .dataframe tbody tr th {\n",
       "        vertical-align: top;\n",
       "    }\n",
       "\n",
       "    .dataframe thead th {\n",
       "        text-align: right;\n",
       "    }\n",
       "</style>\n",
       "<table border=\"1\" class=\"dataframe\">\n",
       "  <thead>\n",
       "    <tr style=\"text-align: right;\">\n",
       "      <th></th>\n",
       "      <th>error.regs.esp</th>\n",
       "      <th>error.regs.edx</th>\n",
       "      <th>error.address</th>\n",
       "      <th>error.regs.edi</th>\n",
       "      <th>error.regs.ebx</th>\n",
       "      <th>error.instr</th>\n",
       "      <th>error.regs.eax</th>\n",
       "      <th>error.traceback</th>\n",
       "      <th>error.regs.ebp</th>\n",
       "      <th>error.stack</th>\n",
       "      <th>error.regs.ecx</th>\n",
       "      <th>error.regs.esi</th>\n",
       "      <th>error.regs.eip</th>\n",
       "    </tr>\n",
       "  </thead>\n",
       "  <tbody>\n",
       "    <tr>\n",
       "      <th>0</th>\n",
       "      <td>0x01211fb4</td>\n",
       "      <td>0x01211fdc</td>\n",
       "      <td>0x77000f93</td>\n",
       "      <td>0x00024c15</td>\n",
       "      <td>0x01211fd8</td>\n",
       "      <td>mov edi, edi</td>\n",
       "      <td>0x77000f93</td>\n",
       "      <td>Traceback (most recent call last):\\n  File \"/u...</td>\n",
       "      <td>0x01212000</td>\n",
       "      <td>[sp+0x00: 0x00401c77 -&gt; emu.module.24c3804ea87...</td>\n",
       "      <td>0x00000003</td>\n",
       "      <td>0x00401d1f</td>\n",
       "      <td>0x77000f93</td>\n",
       "    </tr>\n",
       "  </tbody>\n",
       "</table>\n",
       "</div>"
      ],
      "text/plain": [
       "  error.regs.esp error.regs.edx error.address error.regs.edi error.regs.ebx  \\\n",
       "0     0x01211fb4     0x01211fdc    0x77000f93     0x00024c15     0x01211fd8   \n",
       "\n",
       "    error.instr error.regs.eax  \\\n",
       "0  mov edi, edi     0x77000f93   \n",
       "\n",
       "                                     error.traceback error.regs.ebp  \\\n",
       "0  Traceback (most recent call last):\\n  File \"/u...     0x01212000   \n",
       "\n",
       "                                         error.stack error.regs.ecx  \\\n",
       "0  [sp+0x00: 0x00401c77 -> emu.module.24c3804ea87...     0x00000003   \n",
       "\n",
       "  error.regs.esi error.regs.eip  \n",
       "0     0x00401d1f     0x77000f93  "
      ]
     },
     "execution_count": 99,
     "metadata": {},
     "output_type": "execute_result"
    }
   ],
   "source": [
    "failed_aa[error_cols]"
   ]
  },
  {
   "cell_type": "code",
   "execution_count": 103,
   "metadata": {},
   "outputs": [
    {
     "name": "stdout",
     "output_type": "stream",
     "text": [
      "Traceback (most recent call last):\n",
      "  File \"/usr/local/lib/python3.6/site-packages/speakeasy_emulator-1.5.9-py3.6.egg/speakeasy/windows/winemu.py\", line 1168, in handle_import_func\n",
      "    rv = self.api.call_api_func(mod, func, argv, ctx=default_ctx)\n",
      "  File \"/usr/local/lib/python3.6/site-packages/speakeasy_emulator-1.5.9-py3.6.egg/speakeasy/winenv/api/winapi.py\", line 77, in call_api_func\n",
      "    return func(mod, self.emu, argv, ctx)\n",
      "  File \"/usr/local/lib/python3.6/site-packages/speakeasy_emulator-1.5.9-py3.6.egg/speakeasy/winenv/api/usermode/kernel32.py\", line 3587, in GetVolumeInformation\n",
      "    cw = self.get_char_width(ctx)\n",
      "  File \"/usr/local/lib/python3.6/site-packages/speakeasy_emulator-1.5.9-py3.6.egg/speakeasy/winenv/api/api.py\", line 343, in get_char_width\n",
      "    raise ApiEmuError('Failed to get character width from function: %s' % (name))\n",
      "speakeasy.errors.ApiEmuError: Failed to get character width from function: kernel32.GetVolumeInformation\n",
      "\n"
     ]
    }
   ],
   "source": [
    "print(failed_aa[\"error.traceback\"].iloc[0])"
   ]
  },
  {
   "cell_type": "code",
   "execution_count": 96,
   "metadata": {},
   "outputs": [
    {
     "data": {
      "text/plain": [
       "{'error.count', 'error.last_api'}"
      ]
     },
     "execution_count": 96,
     "metadata": {},
     "output_type": "execute_result"
    }
   ],
   "source": [
    "success_cols =  set(suceeded_aa) - set(failed_aa)\n",
    "success_cols"
   ]
  },
  {
   "cell_type": "code",
   "execution_count": 104,
   "metadata": {},
   "outputs": [
    {
     "data": {
      "text/html": [
       "<div>\n",
       "<style scoped>\n",
       "    .dataframe tbody tr th:only-of-type {\n",
       "        vertical-align: middle;\n",
       "    }\n",
       "\n",
       "    .dataframe tbody tr th {\n",
       "        vertical-align: top;\n",
       "    }\n",
       "\n",
       "    .dataframe thead th {\n",
       "        text-align: right;\n",
       "    }\n",
       "</style>\n",
       "<table border=\"1\" class=\"dataframe\">\n",
       "  <thead>\n",
       "    <tr style=\"text-align: right;\">\n",
       "      <th></th>\n",
       "      <th>error.last_api</th>\n",
       "      <th>error.count</th>\n",
       "    </tr>\n",
       "  </thead>\n",
       "  <tbody>\n",
       "    <tr>\n",
       "      <th>0</th>\n",
       "      <td>KERNEL32.GetThreadPriority</td>\n",
       "      <td>10000</td>\n",
       "    </tr>\n",
       "  </tbody>\n",
       "</table>\n",
       "</div>"
      ],
      "text/plain": [
       "               error.last_api  error.count\n",
       "0  KERNEL32.GetThreadPriority        10000"
      ]
     },
     "execution_count": 104,
     "metadata": {},
     "output_type": "execute_result"
    }
   ],
   "source": [
    "suceeded_aa[success_cols]"
   ]
  }
 ],
 "metadata": {
  "interpreter": {
   "hash": "31f2aee4e71d21fbe5cf8b01ff0e069b9275f58929596ceb00d14d90e3e16cd6"
  },
  "kernelspec": {
   "display_name": "Python 3.6.8 64-bit",
   "language": "python",
   "name": "python3"
  },
  "language_info": {
   "codemirror_mode": {
    "name": "ipython",
    "version": 3
   },
   "file_extension": ".py",
   "mimetype": "text/x-python",
   "name": "python",
   "nbconvert_exporter": "python",
   "pygments_lexer": "ipython3",
   "version": "3.6.8"
  },
  "orig_nbformat": 4
 },
 "nbformat": 4,
 "nbformat_minor": 2
}
